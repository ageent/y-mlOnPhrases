{
 "nbformat": 4,
 "nbformat_minor": 0,
 "metadata": {
  "colab": {
   "name": "ImP_21-22_ex11.ipynb",
   "provenance": [],
   "authorship_tag": "ABX9TyNDIr5w0A6UugzXtrPiiTVl"
  },
  "kernelspec": {
   "name": "python3",
   "display_name": "Python 3"
  },
  "language_info": {
   "name": "python"
  }
 },
 "cells": [
  {
   "cell_type": "markdown",
   "source": [
    "# Initial Preparation"
   ],
   "metadata": {
    "collapsed": false,
    "pycharm": {
     "name": "#%% md\n"
    }
   }
  },
  {
   "cell_type": "code",
   "execution_count": 27,
   "outputs": [],
   "source": [
    "# Python ≥3.5 is required\n",
    "import sys\n",
    "assert sys.version_info >= (3, 5)\n",
    "\n",
    "# Scikit-Learn ≥0.20 is required\n",
    "import sklearn\n",
    "assert sklearn.__version__ >= \"0.20\"\n",
    "\n",
    "# TensorFlow ≥2.4 is required in this notebook\n",
    "import tensorflow as tf\n",
    "from tensorflow import keras\n",
    "assert tf.__version__ >= \"2.4\"\n",
    "\n",
    "import numpy as np\n",
    "import pandas as pd\n",
    "import matplotlib as mpl\n",
    "import matplotlib.pyplot as plt\n",
    "import seaborn as sns\n",
    "\n",
    "%matplotlib inline\n",
    "sns.set()\n",
    "np.random.seed(42)\n",
    "tf.random.set_seed(42)\n",
    "\n",
    "# For changes\n",
    "USER = \"ageent\"\n",
    "REPO = \"y-mlOnPhrases\"\n",
    "SKIP_FLAG = \"m3\"    # Maybe \"m1\", \"m2\", ... or \"all\"\n",
    "\n",
    "X_FILE = \"X.npy\"\n",
    "Y1_FILE = \"Y1.npy\"\n",
    "Y2_FILE = \"Y2.npy\""
   ],
   "metadata": {
    "collapsed": false,
    "pycharm": {
     "name": "#%%\n"
    }
   }
  },
  {
   "cell_type": "code",
   "source": [
    "# to save data or images\n",
    "if \"google.colab\" in sys.modules:\n",
    "    from google.colab import drive\n",
    "    ROOT_GD = \"/content/drive\"\n",
    "    STORAGE_PATH = ROOT_GD + \"/My Drive/Colab Notebooks/\" + REPO + \"/\"\n",
    "    drive.mount(ROOT_GD)\n",
    "else:   # local host\n",
    "    STORAGE_PATH = \"data/\"\n",
    "\n",
    "def save_data(prefix, file_name, data_frame):\n",
    "    path = STORAGE_PATH + prefix + file_name\n",
    "    data_frame.to_csv(path)\n",
    "\n",
    "def save_pred(file_name, data_frame):\n",
    "    save_data(\"predictions/\", file_name, data_frame)\n",
    "def save_trans_data(file_name, data_frame):\n",
    "    save_data(\"transformed/\", file_name, data_frame)\n",
    "\n",
    "\"\"\"\n",
    "fig, ax = plt.subplots()\n",
    "ax.plot(data)\n",
    "save_fig(fig, \"fig_name\")\n",
    "\"\"\"\n",
    "def save_fig(fig, fig_id, tight_layout=True, fig_extension=\"png\", resolution=300):\n",
    "    path = STORAGE_PATH + \"img/\" + fig_id + \".\" + fig_extension\n",
    "    print(\"Saving figure\", fig_id)\n",
    "    if tight_layout:\n",
    "        fig.tight_layout()\n",
    "    fig.savefig(path, format=fig_extension, dpi=resolution)"
   ],
   "metadata": {
    "colab": {
     "base_uri": "https://localhost:8080/"
    },
    "id": "zIr8cYS4B10Q",
    "outputId": "b045f083-d0d7-421d-bc9c-1964fe2c3fef"
   },
   "execution_count": 2,
   "outputs": []
  },
  {
   "cell_type": "code",
   "execution_count": 3,
   "metadata": {
    "id": "n5zKpPBENYap",
    "pycharm": {
     "name": "#%%\n"
    }
   },
   "outputs": [],
   "source": [
    "# get the data\n",
    "def get_github_data(path_to_file):\n",
    "    \"\"\"TODO: maybe need to use requests.\"\"\"\n",
    "    url = \"https://raw.githubusercontent.com/{}/{}/{}\"\\\n",
    "                            .format(USER, REPO, path_to_file)\n",
    "    return np.load(url)\n",
    "\n",
    "def get_localhost_data(file_name):\n",
    "    path = \"data/src/\" + file_name\n",
    "    return np.load(path)\n",
    "\n",
    "if \"google.colab\" in sys.modules:\n",
    "    PATH_TO_SRC = \"main/data/src/\"\n",
    "    X_DATA = get_github_data(PATH_TO_SRC + X_FILE)\n",
    "    Y1_DATA = get_github_data(PATH_TO_SRC + Y1_FILE)\n",
    "    Y2_DATA = get_github_data(PATH_TO_SRC + Y2_FILE)\n",
    "else:   # local host\n",
    "    X_DATA = get_localhost_data(X_FILE)\n",
    "    Y1_DATA = get_localhost_data(Y1_FILE)\n",
    "    Y2_DATA = get_localhost_data(Y2_FILE)"
   ]
  },
  {
   "cell_type": "code",
   "execution_count": 4,
   "outputs": [
    {
     "name": "stdout",
     "output_type": "stream",
     "text": [
      "(800, 128)\n",
      "[-0.98200285  5.3519163   0.6241017  -3.7863977  -2.0433748  -1.6433135\n",
      "  5.0111694   0.11501709 -3.3202858   2.2631938   4.487829    3.1017983\n",
      "  3.4887044  -4.942223    6.474518    0.77631605  5.3201113  -5.003155\n",
      " -6.0889516   3.9606059   4.9673815   0.5534823   2.3377123  -3.4211032\n",
      "  5.278324    1.576092   -5.2838745   0.5925345  -1.2432728   1.5591371\n",
      " -1.0380139  -0.1521509   2.4624774   6.4752107  -4.399489   -2.6032155\n",
      "  3.5712152   0.44489035  1.3303515   0.42398357  2.2737198   7.777598\n",
      " -3.3040464  -2.2658207  -7.7937617  -0.6868003   7.5321355   0.5417963\n",
      "  2.423962    7.1077695  -0.6353128   3.4406264  -2.3372521   0.1237992\n",
      "  1.9296596   4.452048    2.1478891  -2.770266   -9.235324   10.521325\n",
      " -8.574103   -3.127737   -5.1270823   5.001681   -2.710712    0.44150203\n",
      " -0.15498942  0.24662127 -0.21252623 -1.7166231  -1.0460446  -5.4344797\n",
      "  2.56957    10.698443   -3.0771906   1.0651661  -0.32124305  5.725385\n",
      "  7.167192    5.156452    5.6941953   6.4998055   6.7241087   4.867395\n",
      "  4.8166933   5.9493546   6.5271215   5.819747    4.9900017   6.3283215\n",
      "  7.1935315   5.8655896   6.8128476   6.5611515   7.1959248   5.8582344\n",
      "  5.560118    6.7187347   5.353525    6.103025    0.99591273 -6.4906607\n",
      " -1.1090117  -4.1813335  -2.039458   -2.27983     4.6208878   3.837874\n",
      "  7.4326015  -2.311741   -1.0066502   2.979867    0.1064807   3.888947\n",
      "  0.89728075  2.5419183  -6.5907764  -0.49537855 -1.0346819   0.15862758\n",
      "  1.8829461   1.5021307   0.15528834  2.6389506  -1.3379864   5.460588\n",
      "  0.80857795 -5.7801805 ]\n"
     ]
    }
   ],
   "source": [
    "print(X_DATA.shape)\n",
    "print(X_DATA[0])"
   ],
   "metadata": {
    "collapsed": false,
    "pycharm": {
     "name": "#%%\n"
    }
   }
  },
  {
   "cell_type": "code",
   "execution_count": 5,
   "outputs": [
    {
     "name": "stdout",
     "output_type": "stream",
     "text": [
      "(800,)\n",
      "[1 2 2 0 1 0 2 2 1 0]\n"
     ]
    }
   ],
   "source": [
    "print(Y1_DATA.shape)\n",
    "print(Y1_DATA[0:10])"
   ],
   "metadata": {
    "collapsed": false,
    "pycharm": {
     "name": "#%%\n"
    }
   }
  },
  {
   "cell_type": "code",
   "execution_count": 6,
   "outputs": [
    {
     "name": "stdout",
     "output_type": "stream",
     "text": [
      "(800,)\n",
      "[ 6. 15. 34. 58. 27. 29. 50. 12.  7. 17.]\n"
     ]
    }
   ],
   "source": [
    "print(Y2_DATA.shape)\n",
    "print(Y2_DATA[0:10])"
   ],
   "metadata": {
    "collapsed": false,
    "pycharm": {
     "name": "#%%\n"
    }
   }
  },
  {
   "cell_type": "markdown",
   "source": [
    "# Feature engineering\n",
    "### Transforming"
   ],
   "metadata": {
    "collapsed": false,
    "pycharm": {
     "name": "#%% md\n"
    }
   },
   "execution_count": 6
  },
  {
   "cell_type": "code",
   "execution_count": 7,
   "outputs": [],
   "source": [
    "x = X_DATA.copy()\n",
    "y2 = Y2_DATA.copy()"
   ],
   "metadata": {
    "collapsed": false,
    "pycharm": {
     "name": "#%%\n"
    }
   }
  },
  {
   "cell_type": "code",
   "execution_count": 8,
   "outputs": [],
   "source": [
    "from sklearn.preprocessing import OneHotEncoder\n",
    "\n",
    "transformer_y1 = OneHotEncoder()"
   ],
   "metadata": {
    "collapsed": false,
    "pycharm": {
     "name": "#%%\n"
    }
   }
  },
  {
   "cell_type": "code",
   "execution_count": 9,
   "outputs": [
    {
     "data": {
      "text/plain": "array([[0., 1., 0.],\n       [0., 0., 1.],\n       [0., 0., 1.],\n       ...,\n       [1., 0., 0.],\n       [0., 1., 0.],\n       [1., 0., 0.]])"
     },
     "execution_count": 9,
     "metadata": {},
     "output_type": "execute_result"
    }
   ],
   "source": [
    "y1 = transformer_y1.fit_transform(Y1_DATA[:, np.newaxis]).toarray()\n",
    "y1"
   ],
   "metadata": {
    "collapsed": false,
    "pycharm": {
     "name": "#%%\n"
    }
   }
  },
  {
   "cell_type": "markdown",
   "source": [
    "### Shuffle"
   ],
   "metadata": {
    "collapsed": false
   }
  },
  {
   "cell_type": "code",
   "execution_count": 10,
   "outputs": [
    {
     "data": {
      "text/plain": "(800, 132)"
     },
     "execution_count": 10,
     "metadata": {},
     "output_type": "execute_result"
    }
   ],
   "source": [
    "t_ = np.hstack([x, y1, y2[:, np.newaxis]])\n",
    "t_.shape"
   ],
   "metadata": {
    "collapsed": false,
    "pycharm": {
     "name": "#%%\n"
    }
   }
  },
  {
   "cell_type": "code",
   "execution_count": 11,
   "outputs": [],
   "source": [
    "np.random.shuffle(t_)\n",
    "x = t_[:, :128].copy()\n",
    "y1 = t_[:, 128:131].copy()\n",
    "y2 = t_[:, 131].copy()\n",
    "y = tf.concat([y1, y2[:, tf.newaxis]], axis=1)\n",
    "%reset_selective -f t_"
   ],
   "metadata": {
    "collapsed": false,
    "pycharm": {
     "name": "#%%\n"
    }
   }
  },
  {
   "cell_type": "markdown",
   "source": [
    "# Model selection\n",
    "### Model 1\n",
    "#### Loss and metrics"
   ],
   "metadata": {
    "collapsed": false,
    "pycharm": {
     "name": "#%% md\n"
    }
   }
  },
  {
   "cell_type": "code",
   "execution_count": 12,
   "outputs": [],
   "source": [
    "def classifier_metric(y_true, y_pred):\n",
    "    return keras.metrics.categorical_accuracy(y_true[:, :3], y_pred)\n",
    "\n",
    "def regressor_metric(y_true, y_pred):\n",
    "    y_true_reg = tf.cast(y_true[:, 3], tf.float32)\n",
    "    y_pred = tf.cast(y_pred, tf.float64)\n",
    "    w_reg = 1 / 3\n",
    "    y_pred_w = tf.cast(y_pred * w_reg, tf.float32)\n",
    "    y_pred_reg = tf.reduce_sum(y_pred_w, axis=1)\n",
    "    return tf.metrics.mean_squared_error(y_true_reg, y_pred_reg)"
   ],
   "metadata": {
    "collapsed": false,
    "pycharm": {
     "name": "#%%\n"
    }
   }
  },
  {
   "cell_type": "code",
   "execution_count": 13,
   "outputs": [
    {
     "name": "stdout",
     "output_type": "stream",
     "text": [
      "tf.Tensor([1. 1. 0. 1.], shape=(4,), dtype=float32)\n",
      "tf.Tensor(528.75, shape=(), dtype=float32)\n"
     ]
    }
   ],
   "source": [
    "# test for metrics\n",
    "y_true_ = tf.constant([[1, 0, 0, 60],\n",
    "                       [0 ,1, 0, 50],\n",
    "                       [0, 0, 1, 20],\n",
    "                       [0, 1, 0, 4]])\n",
    "y_pred_ = tf.constant([[99, 0, 0],\n",
    "                       [0, 99, 0],\n",
    "                       [0, 99, 9],\n",
    "                       [0, 99, 0]])\n",
    "print(classifier_metric(y_true_, y_pred_))\n",
    "print(regressor_metric(y_true_, y_pred_))"
   ],
   "metadata": {
    "collapsed": false,
    "pycharm": {
     "name": "#%%\n"
    }
   }
  },
  {
   "cell_type": "code",
   "execution_count": 14,
   "outputs": [],
   "source": [
    "def get_summands(y_true, y_pred):\n",
    "    y_true_cl_ = tf.cast(y_true[:, :3], tf.float32)\n",
    "    y_true_reg_ = tf.cast(y_true[:, 3], tf.float32)\n",
    "    y_pred_ = tf.cast(y_pred, tf.float32)\n",
    "\n",
    "    # classification\n",
    "    y_pred_max = tf.reduce_max(y_pred_, axis=1)[:, tf.newaxis]\n",
    "    y_pred_norm = y_pred_ / y_pred_max\n",
    "    w_cl = 1.\n",
    "    ss_cl = tf.square(y_true_cl_ - y_pred_norm) * w_cl\n",
    "\n",
    "    # regression\n",
    "    w_reg = 1 / 3\n",
    "    y_pred_w = tf.cast(y_pred_ * w_reg, tf.float32)\n",
    "    y_pred_reg = tf.reduce_sum(y_pred_w, axis=1)\n",
    "    ss_reg = tf.square(y_true_reg_ - y_pred_reg)\n",
    "\n",
    "    return tf.concat([ss_cl, ss_reg[:, tf.newaxis]], 1)\n",
    "\n",
    "def loss1(y_true, y_pred):\n",
    "    summands = get_summands(y_true, y_pred)\n",
    "    return tf.reduce_sum(summands)"
   ],
   "metadata": {
    "collapsed": false,
    "pycharm": {
     "name": "#%%\n"
    }
   }
  },
  {
   "cell_type": "code",
   "execution_count": 15,
   "outputs": [
    {
     "data": {
      "text/plain": "<tf.Tensor: shape=(), dtype=float32, numpy=5996.476>"
     },
     "execution_count": 15,
     "metadata": {},
     "output_type": "execute_result"
    }
   ],
   "source": [
    "# test for loss1\n",
    "y_true_ = tf.constant([[1, 0, 0, 60],\n",
    "                       [0 ,1, 0, 50],\n",
    "                       [2, 0, 1, 20],\n",
    "                       [0, 1, 0, 4]])\n",
    "y_pred_ = tf.constant([[99, 0, 0],\n",
    "                       [0, 99, 0],\n",
    "                       [1, 0, 99],\n",
    "                       [0, 99, 0]])\n",
    "loss1(y_true_, y_pred_)"
   ],
   "metadata": {
    "collapsed": false,
    "pycharm": {
     "name": "#%%\n"
    }
   }
  },
  {
   "cell_type": "markdown",
   "source": [
    "#### Create model"
   ],
   "metadata": {
    "collapsed": false,
    "pycharm": {
     "name": "#%% md\n"
    }
   }
  },
  {
   "cell_type": "code",
   "execution_count": 16,
   "outputs": [],
   "source": [
    "if SKIP_FLAG == \"m1\" or SKIP_FLAG == \"all\":\n",
    "    model1 = keras.models.Sequential()\n",
    "    model1.add(keras.layers.Dense(3, activation=\"linear\", use_bias=False, input_shape=[128]))\n",
    "    model1.compile(loss=loss1,\n",
    "                   optimizer=tf.keras.optimizers.Adam(learning_rate=1e-1),\n",
    "                   metrics=[classifier_metric, regressor_metric])\n",
    "    history1 = model1.fit(x, y, epochs=30, validation_split=0.2)"
   ],
   "metadata": {
    "collapsed": false,
    "pycharm": {
     "name": "#%%\n"
    }
   }
  },
  {
   "cell_type": "markdown",
   "source": [
    "### Model 2"
   ],
   "metadata": {
    "collapsed": false,
    "pycharm": {
     "name": "#%% md\n"
    }
   }
  },
  {
   "cell_type": "code",
   "execution_count": 17,
   "outputs": [],
   "source": [
    "def loss2(y_true, y_pred):\n",
    "    summands = get_summands(y_true, y_pred)\n",
    "    cl_mul = tf.reduce_sum(summands[:, :3], axis=1)\n",
    "    reg_mul = summands[:, 3]\n",
    "    return tf.reduce_sum(cl_mul * reg_mul)"
   ],
   "metadata": {
    "collapsed": false,
    "pycharm": {
     "name": "#%%\n"
    }
   }
  },
  {
   "cell_type": "code",
   "execution_count": 18,
   "outputs": [
    {
     "data": {
      "text/plain": "<tf.Tensor: shape=(), dtype=float32, numpy=703946.2>"
     },
     "execution_count": 18,
     "metadata": {},
     "output_type": "execute_result"
    }
   ],
   "source": [
    "# test for loss2\n",
    "y_true_ = tf.constant([[1, 0, 0, 60],\n",
    "                       [0 ,1, 0, 50],\n",
    "                       [2, 0, 1, 20],\n",
    "                       [0, 1, 0, 4]])\n",
    "y_pred_ = tf.constant([[99, 0, 0],\n",
    "                       [0, 99, 0],\n",
    "                       [1, 0, 99],\n",
    "                       [0, 99, 0]])\n",
    "loss2(y_true_, y_pred_)"
   ],
   "metadata": {
    "collapsed": false,
    "pycharm": {
     "name": "#%%\n"
    }
   }
  },
  {
   "cell_type": "code",
   "execution_count": 19,
   "outputs": [],
   "source": [
    "if SKIP_FLAG == \"m2\" or SKIP_FLAG == \"all\":\n",
    "    model2 = keras.models.Sequential()\n",
    "    model2.add(keras.layers.Dense(3, activation=\"linear\", use_bias=False, input_shape=[128]))\n",
    "    model2.compile(loss=loss2,\n",
    "                   optimizer=tf.keras.optimizers.Adam(learning_rate=1e-1),\n",
    "                   metrics=[classifier_metric, regressor_metric])\n",
    "    history2 = model2.fit(x, y, epochs=30, validation_split=0.2)"
   ],
   "metadata": {
    "collapsed": false,
    "pycharm": {
     "name": "#%%\n"
    }
   }
  },
  {
   "cell_type": "markdown",
   "source": [
    "### Model 3"
   ],
   "metadata": {
    "collapsed": false,
    "pycharm": {
     "name": "#%% md\n"
    }
   }
  },
  {
   "cell_type": "code",
   "execution_count": 30,
   "outputs": [],
   "source": [
    "def loss3(y_true, y_pred):\n",
    "    y_true_cl_ = tf.cast(y_true[:, :3], tf.float32)\n",
    "    y_true_reg_ = tf.cast(y_true[:, 3], tf.float32)\n",
    "    y_pred_ = tf.cast(y_pred, tf.float32)\n",
    "\n",
    "    # classification\n",
    "    y_pred_max = tf.reduce_max(y_pred_, axis=1)[:, tf.newaxis]\n",
    "    y_pred_norm = y_pred_ / y_pred_max\n",
    "    ss_cl = tf.square(y_true_cl_ - y_pred_norm)\n",
    "\n",
    "    # regression\n",
    "    w_reg = 1 / 3\n",
    "    thr = tf.sqrt(2.)\n",
    "    y_pred_w = tf.cast(y_pred_ * w_reg, tf.float32)\n",
    "    y_pred_reg = tf.reduce_sum(y_pred_w, axis=1)\n",
    "    delta_reg = y_true_reg_ - y_pred_reg\n",
    "    is_more_threshold = delta_reg >= thr\n",
    "    big_grad = tf.square(2. * delta_reg - thr)\n",
    "    small_grad = tf.square((1/2) * delta_reg) + 1.5\n",
    "    ss_reg = tf.where(is_more_threshold, big_grad, small_grad)\n",
    "    summands = tf.concat([ss_cl, ss_reg[:, tf.newaxis]], 1)\n",
    "\n",
    "    return tf.reduce_sum(summands)"
   ],
   "metadata": {
    "collapsed": false,
    "pycharm": {
     "name": "#%%\n"
    }
   }
  },
  {
   "cell_type": "code",
   "execution_count": 24,
   "outputs": [
    {
     "data": {
      "text/plain": "<tf.Tensor: shape=(), dtype=float32, numpy=3959.6982>"
     },
     "execution_count": 24,
     "metadata": {},
     "output_type": "execute_result"
    }
   ],
   "source": [
    "# test for loss3\n",
    "y_true_ = tf.constant([[1, 0, 0, 60],\n",
    "                       [0 ,1, 0, 50],\n",
    "                       [2, 0, 1, 20],\n",
    "                       [0, 1, 0, 4]])\n",
    "y_pred_ = tf.constant([[99, 0, 0],\n",
    "                       [0, 99, 0],\n",
    "                       [1, 0, 99],\n",
    "                       [0, 99, 0]])\n",
    "loss3(y_true_, y_pred_)"
   ],
   "metadata": {
    "collapsed": false,
    "pycharm": {
     "name": "#%%\n"
    }
   }
  },
  {
   "cell_type": "code",
   "execution_count": 34,
   "outputs": [
    {
     "name": "stdout",
     "output_type": "stream",
     "text": [
      "Epoch 1/30\n",
      "20/20 [==============================] - 5s 40ms/step - loss: 16977.3672 - classifier_metric: 0.3500 - regressor_metric: 802.8391 - val_loss: 10904.2881 - val_classifier_metric: 0.3250 - val_regressor_metric: 1350.3024\n",
      "Epoch 2/30\n",
      "20/20 [==============================] - 0s 12ms/step - loss: 4864.5024 - classifier_metric: 0.3609 - regressor_metric: 595.5914 - val_loss: 401.8012 - val_classifier_metric: 0.3500 - val_regressor_metric: 27.7470\n",
      "Epoch 3/30\n",
      "20/20 [==============================] - 0s 11ms/step - loss: 530.7423 - classifier_metric: 0.3641 - regressor_metric: 17.4510 - val_loss: 433.0273 - val_classifier_metric: 0.3562 - val_regressor_metric: 38.7186\n",
      "Epoch 4/30\n",
      "20/20 [==============================] - 0s 12ms/step - loss: 387.4963 - classifier_metric: 0.3703 - regressor_metric: 33.1127 - val_loss: 342.5783 - val_classifier_metric: 0.3562 - val_regressor_metric: 10.6860\n",
      "Epoch 5/30\n",
      "20/20 [==============================] - 0s 12ms/step - loss: 253.7389 - classifier_metric: 0.3688 - regressor_metric: 12.4136 - val_loss: 254.5025 - val_classifier_metric: 0.3562 - val_regressor_metric: 12.1353\n",
      "Epoch 6/30\n",
      "20/20 [==============================] - 0s 12ms/step - loss: 208.2111 - classifier_metric: 0.3766 - regressor_metric: 9.4886 - val_loss: 240.9532 - val_classifier_metric: 0.3562 - val_regressor_metric: 8.8877\n",
      "Epoch 7/30\n",
      "20/20 [==============================] - 0s 13ms/step - loss: 187.8429 - classifier_metric: 0.3797 - regressor_metric: 9.4948 - val_loss: 254.8005 - val_classifier_metric: 0.3625 - val_regressor_metric: 7.0309\n",
      "Epoch 8/30\n",
      "20/20 [==============================] - 0s 12ms/step - loss: 175.0548 - classifier_metric: 0.3875 - regressor_metric: 7.7242 - val_loss: 220.4840 - val_classifier_metric: 0.3562 - val_regressor_metric: 7.2942\n",
      "Epoch 9/30\n",
      "20/20 [==============================] - 0s 12ms/step - loss: 165.6677 - classifier_metric: 0.4000 - regressor_metric: 6.7205 - val_loss: 202.6831 - val_classifier_metric: 0.3562 - val_regressor_metric: 7.2354\n",
      "Epoch 10/30\n",
      "20/20 [==============================] - 0s 12ms/step - loss: 157.9449 - classifier_metric: 0.4062 - regressor_metric: 6.2542 - val_loss: 216.3457 - val_classifier_metric: 0.3562 - val_regressor_metric: 5.7605\n",
      "Epoch 11/30\n",
      "20/20 [==============================] - 0s 12ms/step - loss: 155.7482 - classifier_metric: 0.4094 - regressor_metric: 6.0944 - val_loss: 200.7336 - val_classifier_metric: 0.3562 - val_regressor_metric: 5.7994\n",
      "Epoch 12/30\n",
      "20/20 [==============================] - 0s 11ms/step - loss: 150.6562 - classifier_metric: 0.4141 - regressor_metric: 5.7081 - val_loss: 195.8337 - val_classifier_metric: 0.3562 - val_regressor_metric: 5.3699\n",
      "Epoch 13/30\n",
      "20/20 [==============================] - 0s 13ms/step - loss: 145.8203 - classifier_metric: 0.4078 - regressor_metric: 5.2756 - val_loss: 194.5590 - val_classifier_metric: 0.3562 - val_regressor_metric: 5.3414\n",
      "Epoch 14/30\n",
      "20/20 [==============================] - 0s 14ms/step - loss: 145.9816 - classifier_metric: 0.4125 - regressor_metric: 5.4901 - val_loss: 182.7815 - val_classifier_metric: 0.3500 - val_regressor_metric: 5.7072\n",
      "Epoch 15/30\n",
      "20/20 [==============================] - 0s 15ms/step - loss: 141.2533 - classifier_metric: 0.4187 - regressor_metric: 4.6302 - val_loss: 181.6387 - val_classifier_metric: 0.3500 - val_regressor_metric: 5.3600\n",
      "Epoch 16/30\n",
      "20/20 [==============================] - 0s 12ms/step - loss: 139.5232 - classifier_metric: 0.4109 - regressor_metric: 4.9639 - val_loss: 177.6698 - val_classifier_metric: 0.3562 - val_regressor_metric: 5.6265\n",
      "Epoch 17/30\n",
      "20/20 [==============================] - 0s 12ms/step - loss: 136.4096 - classifier_metric: 0.4109 - regressor_metric: 4.4607 - val_loss: 174.6725 - val_classifier_metric: 0.3500 - val_regressor_metric: 5.4597\n",
      "Epoch 18/30\n",
      "20/20 [==============================] - 0s 12ms/step - loss: 134.6099 - classifier_metric: 0.4109 - regressor_metric: 4.5527 - val_loss: 173.7141 - val_classifier_metric: 0.3438 - val_regressor_metric: 5.1787\n",
      "Epoch 19/30\n",
      "20/20 [==============================] - 0s 12ms/step - loss: 133.3656 - classifier_metric: 0.4172 - regressor_metric: 4.3538 - val_loss: 167.0964 - val_classifier_metric: 0.3500 - val_regressor_metric: 5.3055\n",
      "Epoch 20/30\n",
      "20/20 [==============================] - 0s 12ms/step - loss: 134.8890 - classifier_metric: 0.4156 - regressor_metric: 4.5706 - val_loss: 168.6719 - val_classifier_metric: 0.3500 - val_regressor_metric: 6.6529\n",
      "Epoch 21/30\n",
      "20/20 [==============================] - 0s 12ms/step - loss: 132.2180 - classifier_metric: 0.4172 - regressor_metric: 4.2088 - val_loss: 166.3373 - val_classifier_metric: 0.3500 - val_regressor_metric: 6.5974\n",
      "Epoch 22/30\n",
      "20/20 [==============================] - 0s 12ms/step - loss: 135.8190 - classifier_metric: 0.4156 - regressor_metric: 4.9873 - val_loss: 164.9616 - val_classifier_metric: 0.3438 - val_regressor_metric: 6.1194\n",
      "Epoch 23/30\n",
      "20/20 [==============================] - 0s 13ms/step - loss: 127.8914 - classifier_metric: 0.4187 - regressor_metric: 3.9312 - val_loss: 168.6806 - val_classifier_metric: 0.3375 - val_regressor_metric: 5.1003\n",
      "Epoch 24/30\n",
      "20/20 [==============================] - 0s 16ms/step - loss: 128.3696 - classifier_metric: 0.4187 - regressor_metric: 4.1769 - val_loss: 164.3942 - val_classifier_metric: 0.3375 - val_regressor_metric: 4.7562\n",
      "Epoch 25/30\n",
      "20/20 [==============================] - 0s 18ms/step - loss: 126.8222 - classifier_metric: 0.4109 - regressor_metric: 4.0283 - val_loss: 170.6532 - val_classifier_metric: 0.3375 - val_regressor_metric: 4.1878\n",
      "Epoch 26/30\n",
      "20/20 [==============================] - 0s 14ms/step - loss: 127.1530 - classifier_metric: 0.4109 - regressor_metric: 4.0361 - val_loss: 160.8047 - val_classifier_metric: 0.3438 - val_regressor_metric: 4.2766\n",
      "Epoch 27/30\n",
      "20/20 [==============================] - 0s 12ms/step - loss: 124.3297 - classifier_metric: 0.4172 - regressor_metric: 3.7450 - val_loss: 162.4678 - val_classifier_metric: 0.3438 - val_regressor_metric: 4.2968\n",
      "Epoch 28/30\n",
      "20/20 [==============================] - 0s 12ms/step - loss: 123.7739 - classifier_metric: 0.4094 - regressor_metric: 3.7849 - val_loss: 161.1946 - val_classifier_metric: 0.3500 - val_regressor_metric: 4.1827\n",
      "Epoch 29/30\n",
      "20/20 [==============================] - 0s 10ms/step - loss: 122.1014 - classifier_metric: 0.4125 - regressor_metric: 3.7813 - val_loss: 170.4210 - val_classifier_metric: 0.3562 - val_regressor_metric: 3.7979\n",
      "Epoch 30/30\n",
      "20/20 [==============================] - 0s 10ms/step - loss: 122.0595 - classifier_metric: 0.4062 - regressor_metric: 3.6616 - val_loss: 154.4980 - val_classifier_metric: 0.3500 - val_regressor_metric: 4.5767\n"
     ]
    }
   ],
   "source": [
    "if SKIP_FLAG == \"m3\" or SKIP_FLAG == \"all\":\n",
    "    model3 = keras.models.Sequential()\n",
    "    model3.add(keras.layers.Dense(3, activation=\"linear\", use_bias=False, input_shape=[128]))\n",
    "    model3.compile(loss=loss3,\n",
    "                   optimizer=tf.keras.optimizers.Adam(learning_rate=1e-2),\n",
    "                   metrics=[classifier_metric, regressor_metric])\n",
    "    history3 = model3.fit(x, y, epochs=30, validation_split=0.2)"
   ],
   "metadata": {
    "collapsed": false,
    "pycharm": {
     "name": "#%%\n"
    }
   }
  },
  {
   "cell_type": "code",
   "execution_count": 38,
   "outputs": [
    {
     "name": "stdout",
     "output_type": "stream",
     "text": [
      "Epoch 1/100\n",
      "20/20 [==============================] - 0s 23ms/step - loss: 89.1174 - classifier_metric: 0.4469 - regressor_metric: 1.4572 - val_loss: 110.3733 - val_classifier_metric: 0.4187 - val_regressor_metric: 3.8434\n",
      "Epoch 2/100\n",
      "20/20 [==============================] - 0s 14ms/step - loss: 91.4183 - classifier_metric: 0.4484 - regressor_metric: 1.6549 - val_loss: 98.5834 - val_classifier_metric: 0.4187 - val_regressor_metric: 1.8922\n",
      "Epoch 3/100\n",
      "20/20 [==============================] - 0s 12ms/step - loss: 88.4166 - classifier_metric: 0.4500 - regressor_metric: 1.3909 - val_loss: 102.5534 - val_classifier_metric: 0.4187 - val_regressor_metric: 1.9235\n",
      "Epoch 4/100\n",
      "20/20 [==============================] - 0s 10ms/step - loss: 85.9537 - classifier_metric: 0.4500 - regressor_metric: 1.2807 - val_loss: 111.4879 - val_classifier_metric: 0.4187 - val_regressor_metric: 1.6640\n",
      "Epoch 5/100\n",
      "20/20 [==============================] - 0s 10ms/step - loss: 88.0604 - classifier_metric: 0.4531 - regressor_metric: 1.4583 - val_loss: 123.5145 - val_classifier_metric: 0.4187 - val_regressor_metric: 1.5655\n",
      "Epoch 6/100\n",
      "20/20 [==============================] - 0s 9ms/step - loss: 89.1568 - classifier_metric: 0.4547 - regressor_metric: 1.3975 - val_loss: 103.1009 - val_classifier_metric: 0.4187 - val_regressor_metric: 2.0234\n",
      "Epoch 7/100\n",
      "20/20 [==============================] - 0s 9ms/step - loss: 89.5811 - classifier_metric: 0.4547 - regressor_metric: 1.4861 - val_loss: 106.1066 - val_classifier_metric: 0.4250 - val_regressor_metric: 3.4082\n",
      "Epoch 8/100\n",
      "20/20 [==============================] - 0s 10ms/step - loss: 89.1588 - classifier_metric: 0.4563 - regressor_metric: 1.5946 - val_loss: 113.9122 - val_classifier_metric: 0.4313 - val_regressor_metric: 1.5375\n",
      "Epoch 9/100\n",
      "20/20 [==============================] - 0s 10ms/step - loss: 86.5003 - classifier_metric: 0.4563 - regressor_metric: 1.3374 - val_loss: 101.8395 - val_classifier_metric: 0.4313 - val_regressor_metric: 2.1155\n",
      "Epoch 10/100\n",
      "20/20 [==============================] - 0s 10ms/step - loss: 85.9664 - classifier_metric: 0.4625 - regressor_metric: 1.2395 - val_loss: 98.6822 - val_classifier_metric: 0.4313 - val_regressor_metric: 2.1441\n",
      "Epoch 11/100\n",
      "20/20 [==============================] - 0s 10ms/step - loss: 93.0280 - classifier_metric: 0.4656 - regressor_metric: 1.9687 - val_loss: 110.6864 - val_classifier_metric: 0.4313 - val_regressor_metric: 1.7062\n",
      "Epoch 12/100\n",
      "20/20 [==============================] - 0s 10ms/step - loss: 95.3592 - classifier_metric: 0.4688 - regressor_metric: 2.0154 - val_loss: 104.8464 - val_classifier_metric: 0.4313 - val_regressor_metric: 2.0173\n",
      "Epoch 13/100\n",
      "20/20 [==============================] - 0s 11ms/step - loss: 96.3733 - classifier_metric: 0.4703 - regressor_metric: 2.0879 - val_loss: 106.6974 - val_classifier_metric: 0.4313 - val_regressor_metric: 2.6399\n",
      "Epoch 14/100\n",
      "20/20 [==============================] - 0s 10ms/step - loss: 96.4858 - classifier_metric: 0.4719 - regressor_metric: 2.1852 - val_loss: 112.9398 - val_classifier_metric: 0.4375 - val_regressor_metric: 4.4408\n",
      "Epoch 15/100\n",
      "20/20 [==============================] - 0s 12ms/step - loss: 100.4611 - classifier_metric: 0.4734 - regressor_metric: 2.5789 - val_loss: 104.5802 - val_classifier_metric: 0.4375 - val_regressor_metric: 3.4898\n",
      "Epoch 16/100\n",
      "20/20 [==============================] - 0s 10ms/step - loss: 109.5522 - classifier_metric: 0.4734 - regressor_metric: 3.4253 - val_loss: 113.9116 - val_classifier_metric: 0.4375 - val_regressor_metric: 4.2601\n",
      "Epoch 17/100\n",
      "20/20 [==============================] - 0s 11ms/step - loss: 98.1284 - classifier_metric: 0.4750 - regressor_metric: 2.1419 - val_loss: 107.2430 - val_classifier_metric: 0.4375 - val_regressor_metric: 2.0015\n",
      "Epoch 18/100\n",
      "20/20 [==============================] - 0s 10ms/step - loss: 88.8435 - classifier_metric: 0.4781 - regressor_metric: 1.4956 - val_loss: 116.6526 - val_classifier_metric: 0.4375 - val_regressor_metric: 1.7154\n",
      "Epoch 19/100\n",
      "20/20 [==============================] - 0s 10ms/step - loss: 89.5530 - classifier_metric: 0.4812 - regressor_metric: 1.6011 - val_loss: 121.0334 - val_classifier_metric: 0.4375 - val_regressor_metric: 1.6087\n",
      "Epoch 20/100\n",
      "20/20 [==============================] - 0s 11ms/step - loss: 94.6780 - classifier_metric: 0.4859 - regressor_metric: 2.2202 - val_loss: 122.9034 - val_classifier_metric: 0.4375 - val_regressor_metric: 1.6528\n",
      "Epoch 21/100\n",
      "20/20 [==============================] - 0s 14ms/step - loss: 102.3759 - classifier_metric: 0.4891 - regressor_metric: 2.5806 - val_loss: 120.0456 - val_classifier_metric: 0.4375 - val_regressor_metric: 2.1232\n",
      "Epoch 22/100\n",
      "20/20 [==============================] - 0s 12ms/step - loss: 93.1962 - classifier_metric: 0.4953 - regressor_metric: 1.8528 - val_loss: 112.7626 - val_classifier_metric: 0.4375 - val_regressor_metric: 1.7051\n",
      "Epoch 23/100\n",
      "20/20 [==============================] - 0s 12ms/step - loss: 88.7469 - classifier_metric: 0.4984 - regressor_metric: 1.6272 - val_loss: 109.1790 - val_classifier_metric: 0.4375 - val_regressor_metric: 1.6028\n",
      "Epoch 24/100\n",
      "20/20 [==============================] - 0s 12ms/step - loss: 85.9755 - classifier_metric: 0.5016 - regressor_metric: 1.3114 - val_loss: 102.5909 - val_classifier_metric: 0.4375 - val_regressor_metric: 1.5268\n",
      "Epoch 25/100\n",
      "20/20 [==============================] - 0s 12ms/step - loss: 85.0087 - classifier_metric: 0.5016 - regressor_metric: 1.2364 - val_loss: 101.1184 - val_classifier_metric: 0.4375 - val_regressor_metric: 1.5899\n",
      "Epoch 26/100\n",
      "20/20 [==============================] - 0s 12ms/step - loss: 85.7879 - classifier_metric: 0.5047 - regressor_metric: 1.3112 - val_loss: 99.6072 - val_classifier_metric: 0.4375 - val_regressor_metric: 1.8607\n",
      "Epoch 27/100\n",
      "20/20 [==============================] - 0s 13ms/step - loss: 86.6525 - classifier_metric: 0.5063 - regressor_metric: 1.3088 - val_loss: 101.8093 - val_classifier_metric: 0.4375 - val_regressor_metric: 2.7690\n",
      "Epoch 28/100\n",
      "20/20 [==============================] - 0s 12ms/step - loss: 94.5680 - classifier_metric: 0.5078 - regressor_metric: 2.2055 - val_loss: 117.3219 - val_classifier_metric: 0.4437 - val_regressor_metric: 4.7562\n",
      "Epoch 29/100\n",
      "20/20 [==============================] - 0s 11ms/step - loss: 91.7564 - classifier_metric: 0.5109 - regressor_metric: 1.8897 - val_loss: 111.6487 - val_classifier_metric: 0.4500 - val_regressor_metric: 3.6670\n",
      "Epoch 30/100\n",
      "20/20 [==============================] - 0s 11ms/step - loss: 95.4530 - classifier_metric: 0.5125 - regressor_metric: 2.2387 - val_loss: 105.1498 - val_classifier_metric: 0.4500 - val_regressor_metric: 2.7612\n",
      "Epoch 31/100\n",
      "20/20 [==============================] - 0s 9ms/step - loss: 89.9113 - classifier_metric: 0.5172 - regressor_metric: 1.7252 - val_loss: 105.6542 - val_classifier_metric: 0.4563 - val_regressor_metric: 1.7538\n",
      "Epoch 32/100\n",
      "20/20 [==============================] - 0s 11ms/step - loss: 88.8158 - classifier_metric: 0.5203 - regressor_metric: 1.5761 - val_loss: 105.3029 - val_classifier_metric: 0.4563 - val_regressor_metric: 2.7429\n",
      "Epoch 33/100\n",
      "20/20 [==============================] - 0s 10ms/step - loss: 89.7001 - classifier_metric: 0.5234 - regressor_metric: 1.6555 - val_loss: 103.3048 - val_classifier_metric: 0.4563 - val_regressor_metric: 1.9619\n",
      "Epoch 34/100\n",
      "20/20 [==============================] - 0s 9ms/step - loss: 87.5693 - classifier_metric: 0.5266 - regressor_metric: 1.5883 - val_loss: 110.9354 - val_classifier_metric: 0.4563 - val_regressor_metric: 1.7536\n",
      "Epoch 35/100\n",
      "20/20 [==============================] - 0s 10ms/step - loss: 86.3588 - classifier_metric: 0.5281 - regressor_metric: 1.3652 - val_loss: 100.6869 - val_classifier_metric: 0.4688 - val_regressor_metric: 1.8613\n",
      "Epoch 36/100\n",
      "20/20 [==============================] - 0s 10ms/step - loss: 93.3445 - classifier_metric: 0.5359 - regressor_metric: 2.1327 - val_loss: 113.7638 - val_classifier_metric: 0.4750 - val_regressor_metric: 4.8149\n",
      "Epoch 37/100\n",
      "20/20 [==============================] - 0s 12ms/step - loss: 95.0854 - classifier_metric: 0.5375 - regressor_metric: 2.3224 - val_loss: 112.3884 - val_classifier_metric: 0.4812 - val_regressor_metric: 1.7778\n",
      "Epoch 38/100\n",
      "20/20 [==============================] - 0s 11ms/step - loss: 89.5739 - classifier_metric: 0.5437 - regressor_metric: 1.6028 - val_loss: 106.5714 - val_classifier_metric: 0.4812 - val_regressor_metric: 1.7196\n",
      "Epoch 39/100\n",
      "20/20 [==============================] - 0s 9ms/step - loss: 89.2026 - classifier_metric: 0.5469 - regressor_metric: 1.6383 - val_loss: 100.3293 - val_classifier_metric: 0.5000 - val_regressor_metric: 2.4491\n",
      "Epoch 40/100\n",
      "20/20 [==============================] - 0s 14ms/step - loss: 87.0423 - classifier_metric: 0.5531 - regressor_metric: 1.5444 - val_loss: 106.9310 - val_classifier_metric: 0.5188 - val_regressor_metric: 1.9673\n",
      "Epoch 41/100\n",
      "20/20 [==============================] - 0s 12ms/step - loss: 98.6447 - classifier_metric: 0.5609 - regressor_metric: 2.0905 - val_loss: 159.5277 - val_classifier_metric: 0.5312 - val_regressor_metric: 10.5695\n",
      "Epoch 42/100\n",
      "20/20 [==============================] - 0s 10ms/step - loss: 139.5717 - classifier_metric: 0.5703 - regressor_metric: 6.9059 - val_loss: 112.3182 - val_classifier_metric: 0.5375 - val_regressor_metric: 3.5659\n",
      "Epoch 43/100\n",
      "20/20 [==============================] - 0s 12ms/step - loss: 96.9967 - classifier_metric: 0.5766 - regressor_metric: 2.1343 - val_loss: 105.8630 - val_classifier_metric: 0.5375 - val_regressor_metric: 3.0733\n",
      "Epoch 44/100\n",
      "20/20 [==============================] - 0s 12ms/step - loss: 88.2666 - classifier_metric: 0.5828 - regressor_metric: 1.6452 - val_loss: 100.7548 - val_classifier_metric: 0.5500 - val_regressor_metric: 2.4051\n",
      "Epoch 45/100\n",
      "20/20 [==============================] - 0s 11ms/step - loss: 93.4756 - classifier_metric: 0.5875 - regressor_metric: 2.3365 - val_loss: 130.5583 - val_classifier_metric: 0.5625 - val_regressor_metric: 1.7691\n",
      "Epoch 46/100\n",
      "20/20 [==============================] - 0s 19ms/step - loss: 88.5770 - classifier_metric: 0.5953 - regressor_metric: 1.5924 - val_loss: 108.0950 - val_classifier_metric: 0.5625 - val_regressor_metric: 1.8852\n",
      "Epoch 47/100\n",
      "20/20 [==============================] - 0s 22ms/step - loss: 84.5462 - classifier_metric: 0.6000 - regressor_metric: 1.3760 - val_loss: 116.8616 - val_classifier_metric: 0.5688 - val_regressor_metric: 1.6313\n",
      "Epoch 48/100\n",
      "20/20 [==============================] - 0s 17ms/step - loss: 85.7432 - classifier_metric: 0.6062 - regressor_metric: 1.4522 - val_loss: 105.3825 - val_classifier_metric: 0.5750 - val_regressor_metric: 1.9405\n",
      "Epoch 49/100\n",
      "20/20 [==============================] - 0s 15ms/step - loss: 84.1959 - classifier_metric: 0.6125 - regressor_metric: 1.4243 - val_loss: 104.1816 - val_classifier_metric: 0.5750 - val_regressor_metric: 1.6297\n",
      "Epoch 50/100\n",
      "20/20 [==============================] - 0s 14ms/step - loss: 85.5999 - classifier_metric: 0.6172 - regressor_metric: 1.4867 - val_loss: 94.7859 - val_classifier_metric: 0.5750 - val_regressor_metric: 1.9677\n",
      "Epoch 51/100\n",
      "20/20 [==============================] - 0s 13ms/step - loss: 86.0593 - classifier_metric: 0.6219 - regressor_metric: 1.5787 - val_loss: 103.4498 - val_classifier_metric: 0.5813 - val_regressor_metric: 2.0171\n",
      "Epoch 52/100\n",
      "20/20 [==============================] - 0s 13ms/step - loss: 85.6872 - classifier_metric: 0.6313 - regressor_metric: 1.5533 - val_loss: 101.7218 - val_classifier_metric: 0.5938 - val_regressor_metric: 1.4298\n",
      "Epoch 53/100\n",
      "20/20 [==============================] - 0s 12ms/step - loss: 88.8762 - classifier_metric: 0.6391 - regressor_metric: 1.7078 - val_loss: 94.2697 - val_classifier_metric: 0.6125 - val_regressor_metric: 2.3580\n",
      "Epoch 54/100\n",
      "20/20 [==============================] - 0s 13ms/step - loss: 85.9239 - classifier_metric: 0.6484 - regressor_metric: 1.3954 - val_loss: 93.9386 - val_classifier_metric: 0.6125 - val_regressor_metric: 2.0240\n",
      "Epoch 55/100\n",
      "20/20 [==============================] - 0s 11ms/step - loss: 88.0447 - classifier_metric: 0.6641 - regressor_metric: 1.7676 - val_loss: 102.7062 - val_classifier_metric: 0.6125 - val_regressor_metric: 3.4464\n",
      "Epoch 56/100\n",
      "20/20 [==============================] - 0s 10ms/step - loss: 87.1583 - classifier_metric: 0.6750 - regressor_metric: 1.7037 - val_loss: 101.7003 - val_classifier_metric: 0.6250 - val_regressor_metric: 1.8881\n",
      "Epoch 57/100\n",
      "20/20 [==============================] - 0s 7ms/step - loss: 89.1681 - classifier_metric: 0.6844 - regressor_metric: 1.9062 - val_loss: 118.5813 - val_classifier_metric: 0.6562 - val_regressor_metric: 1.8227\n",
      "Epoch 58/100\n",
      "20/20 [==============================] - 0s 7ms/step - loss: 101.3462 - classifier_metric: 0.6922 - regressor_metric: 2.5634 - val_loss: 158.8303 - val_classifier_metric: 0.6625 - val_regressor_metric: 10.6734\n",
      "Epoch 59/100\n",
      "20/20 [==============================] - 0s 9ms/step - loss: 132.2446 - classifier_metric: 0.7000 - regressor_metric: 6.2683 - val_loss: 165.4694 - val_classifier_metric: 0.6812 - val_regressor_metric: 2.2967\n",
      "Epoch 60/100\n",
      "20/20 [==============================] - 0s 8ms/step - loss: 117.3988 - classifier_metric: 0.7141 - regressor_metric: 4.1812 - val_loss: 115.3974 - val_classifier_metric: 0.7000 - val_regressor_metric: 5.0471\n",
      "Epoch 61/100\n",
      "20/20 [==============================] - 0s 8ms/step - loss: 95.5898 - classifier_metric: 0.7188 - regressor_metric: 2.5551 - val_loss: 99.4579 - val_classifier_metric: 0.7188 - val_regressor_metric: 1.8249\n",
      "Epoch 62/100\n",
      "20/20 [==============================] - 0s 9ms/step - loss: 90.0895 - classifier_metric: 0.7328 - regressor_metric: 1.8929 - val_loss: 105.5341 - val_classifier_metric: 0.7250 - val_regressor_metric: 1.7868\n",
      "Epoch 63/100\n",
      "20/20 [==============================] - 0s 9ms/step - loss: 96.3496 - classifier_metric: 0.7437 - regressor_metric: 2.6021 - val_loss: 109.3037 - val_classifier_metric: 0.7500 - val_regressor_metric: 1.5509\n",
      "Epoch 64/100\n",
      "20/20 [==============================] - 0s 8ms/step - loss: 89.0118 - classifier_metric: 0.7531 - regressor_metric: 1.8929 - val_loss: 124.2307 - val_classifier_metric: 0.7563 - val_regressor_metric: 1.9005\n",
      "Epoch 65/100\n",
      "20/20 [==============================] - 0s 8ms/step - loss: 85.2857 - classifier_metric: 0.7625 - regressor_metric: 1.6407 - val_loss: 103.5468 - val_classifier_metric: 0.7625 - val_regressor_metric: 1.9396\n",
      "Epoch 66/100\n",
      "20/20 [==============================] - 0s 11ms/step - loss: 89.6610 - classifier_metric: 0.7719 - regressor_metric: 2.0465 - val_loss: 103.1046 - val_classifier_metric: 0.7688 - val_regressor_metric: 3.4741\n",
      "Epoch 67/100\n",
      "20/20 [==============================] - 0s 10ms/step - loss: 89.8591 - classifier_metric: 0.7797 - regressor_metric: 2.0859 - val_loss: 98.9958 - val_classifier_metric: 0.7812 - val_regressor_metric: 2.0149\n",
      "Epoch 68/100\n",
      "20/20 [==============================] - 0s 8ms/step - loss: 88.9868 - classifier_metric: 0.7922 - regressor_metric: 2.0011 - val_loss: 95.8213 - val_classifier_metric: 0.7812 - val_regressor_metric: 1.6648\n",
      "Epoch 69/100\n",
      "20/20 [==============================] - 0s 9ms/step - loss: 90.6567 - classifier_metric: 0.8094 - regressor_metric: 2.1693 - val_loss: 106.2638 - val_classifier_metric: 0.7875 - val_regressor_metric: 1.4696\n",
      "Epoch 70/100\n",
      "20/20 [==============================] - 0s 8ms/step - loss: 129.4346 - classifier_metric: 0.8219 - regressor_metric: 5.5627 - val_loss: 218.7195 - val_classifier_metric: 0.8062 - val_regressor_metric: 18.4383\n",
      "Epoch 71/100\n",
      "20/20 [==============================] - 0s 8ms/step - loss: 122.0958 - classifier_metric: 0.8313 - regressor_metric: 4.7646 - val_loss: 133.2071 - val_classifier_metric: 0.8188 - val_regressor_metric: 2.5213\n",
      "Epoch 72/100\n",
      "20/20 [==============================] - 0s 8ms/step - loss: 108.3395 - classifier_metric: 0.8375 - regressor_metric: 3.8933 - val_loss: 107.1030 - val_classifier_metric: 0.8188 - val_regressor_metric: 2.5725\n",
      "Epoch 73/100\n",
      "20/20 [==============================] - 0s 8ms/step - loss: 106.8608 - classifier_metric: 0.8406 - regressor_metric: 3.3209 - val_loss: 118.0962 - val_classifier_metric: 0.8313 - val_regressor_metric: 6.0191\n",
      "Epoch 74/100\n",
      "20/20 [==============================] - 0s 8ms/step - loss: 103.4405 - classifier_metric: 0.8500 - regressor_metric: 3.2185 - val_loss: 112.4931 - val_classifier_metric: 0.8438 - val_regressor_metric: 5.3486\n",
      "Epoch 75/100\n",
      "20/20 [==============================] - 0s 12ms/step - loss: 92.4745 - classifier_metric: 0.8609 - regressor_metric: 2.3197 - val_loss: 100.8299 - val_classifier_metric: 0.8562 - val_regressor_metric: 2.3843\n",
      "Epoch 76/100\n",
      "20/20 [==============================] - 0s 8ms/step - loss: 89.4486 - classifier_metric: 0.8750 - regressor_metric: 2.1610 - val_loss: 121.6463 - val_classifier_metric: 0.8625 - val_regressor_metric: 1.9491\n",
      "Epoch 77/100\n",
      "20/20 [==============================] - 0s 7ms/step - loss: 111.2180 - classifier_metric: 0.8781 - regressor_metric: 4.3553 - val_loss: 98.9306 - val_classifier_metric: 0.8687 - val_regressor_metric: 2.3159\n",
      "Epoch 78/100\n",
      "20/20 [==============================] - 0s 8ms/step - loss: 94.1229 - classifier_metric: 0.8922 - regressor_metric: 2.4289 - val_loss: 95.8271 - val_classifier_metric: 0.8813 - val_regressor_metric: 2.7869\n",
      "Epoch 79/100\n",
      "20/20 [==============================] - 0s 8ms/step - loss: 88.6355 - classifier_metric: 0.8969 - regressor_metric: 1.9700 - val_loss: 91.4874 - val_classifier_metric: 0.8813 - val_regressor_metric: 1.6314\n",
      "Epoch 80/100\n",
      "20/20 [==============================] - 0s 7ms/step - loss: 91.3616 - classifier_metric: 0.9047 - regressor_metric: 2.4515 - val_loss: 90.7028 - val_classifier_metric: 0.8813 - val_regressor_metric: 2.0521\n",
      "Epoch 81/100\n",
      "20/20 [==============================] - 0s 10ms/step - loss: 84.2217 - classifier_metric: 0.9094 - regressor_metric: 1.7415 - val_loss: 95.6939 - val_classifier_metric: 0.8875 - val_regressor_metric: 2.8275\n",
      "Epoch 82/100\n",
      "20/20 [==============================] - 0s 11ms/step - loss: 89.0626 - classifier_metric: 0.9125 - regressor_metric: 2.1634 - val_loss: 94.4156 - val_classifier_metric: 0.8875 - val_regressor_metric: 2.6502\n",
      "Epoch 83/100\n",
      "20/20 [==============================] - 0s 11ms/step - loss: 111.5157 - classifier_metric: 0.9172 - regressor_metric: 3.9914 - val_loss: 109.3618 - val_classifier_metric: 0.8938 - val_regressor_metric: 4.4607\n",
      "Epoch 84/100\n",
      "20/20 [==============================] - 0s 14ms/step - loss: 101.1634 - classifier_metric: 0.9219 - regressor_metric: 3.2015 - val_loss: 137.2918 - val_classifier_metric: 0.8938 - val_regressor_metric: 8.7100\n",
      "Epoch 85/100\n",
      "20/20 [==============================] - 0s 12ms/step - loss: 111.0427 - classifier_metric: 0.9250 - regressor_metric: 4.4717 - val_loss: 108.1142 - val_classifier_metric: 0.9000 - val_regressor_metric: 3.4072\n",
      "Epoch 86/100\n",
      "20/20 [==============================] - 0s 19ms/step - loss: 91.8262 - classifier_metric: 0.9250 - regressor_metric: 2.5949 - val_loss: 120.2156 - val_classifier_metric: 0.9062 - val_regressor_metric: 6.2258\n",
      "Epoch 87/100\n",
      "20/20 [==============================] - 0s 13ms/step - loss: 147.7185 - classifier_metric: 0.9234 - regressor_metric: 7.6448 - val_loss: 295.9752 - val_classifier_metric: 0.9187 - val_regressor_metric: 28.5038\n",
      "Epoch 88/100\n",
      "20/20 [==============================] - 0s 11ms/step - loss: 206.8011 - classifier_metric: 0.9250 - regressor_metric: 13.0126 - val_loss: 128.7234 - val_classifier_metric: 0.9187 - val_regressor_metric: 6.0686\n",
      "Epoch 89/100\n",
      "20/20 [==============================] - 0s 12ms/step - loss: 116.5903 - classifier_metric: 0.9312 - regressor_metric: 4.3413 - val_loss: 162.7668 - val_classifier_metric: 0.9125 - val_regressor_metric: 2.2268\n",
      "Epoch 90/100\n",
      "20/20 [==============================] - 0s 12ms/step - loss: 96.0892 - classifier_metric: 0.9344 - regressor_metric: 2.8595 - val_loss: 98.2521 - val_classifier_metric: 0.9187 - val_regressor_metric: 2.7734\n",
      "Epoch 91/100\n",
      "20/20 [==============================] - 0s 11ms/step - loss: 89.9476 - classifier_metric: 0.9344 - regressor_metric: 2.3814 - val_loss: 129.1021 - val_classifier_metric: 0.9250 - val_regressor_metric: 7.7083\n",
      "Epoch 92/100\n",
      "20/20 [==============================] - 0s 11ms/step - loss: 129.5905 - classifier_metric: 0.9344 - regressor_metric: 5.8458 - val_loss: 116.9031 - val_classifier_metric: 0.9250 - val_regressor_metric: 6.2983\n",
      "Epoch 93/100\n",
      "20/20 [==============================] - 0s 10ms/step - loss: 217.3213 - classifier_metric: 0.9359 - regressor_metric: 15.1309 - val_loss: 404.1432 - val_classifier_metric: 0.9250 - val_regressor_metric: 5.0733\n",
      "Epoch 94/100\n",
      "20/20 [==============================] - 0s 10ms/step - loss: 163.8853 - classifier_metric: 0.9375 - regressor_metric: 8.0243 - val_loss: 134.2962 - val_classifier_metric: 0.9312 - val_regressor_metric: 8.0524\n",
      "Epoch 95/100\n",
      "20/20 [==============================] - 0s 10ms/step - loss: 155.3707 - classifier_metric: 0.9375 - regressor_metric: 7.8679 - val_loss: 291.5746 - val_classifier_metric: 0.9312 - val_regressor_metric: 28.0550\n",
      "Epoch 96/100\n",
      "20/20 [==============================] - 0s 12ms/step - loss: 186.4203 - classifier_metric: 0.9391 - regressor_metric: 11.7223 - val_loss: 219.8544 - val_classifier_metric: 0.9312 - val_regressor_metric: 3.1229\n",
      "Epoch 97/100\n",
      "20/20 [==============================] - 0s 11ms/step - loss: 162.8941 - classifier_metric: 0.9391 - regressor_metric: 9.2255 - val_loss: 188.9966 - val_classifier_metric: 0.9312 - val_regressor_metric: 15.1536\n",
      "Epoch 98/100\n",
      "20/20 [==============================] - 0s 12ms/step - loss: 133.2548 - classifier_metric: 0.9406 - regressor_metric: 5.8631 - val_loss: 132.8807 - val_classifier_metric: 0.9312 - val_regressor_metric: 8.1081\n",
      "Epoch 99/100\n",
      "20/20 [==============================] - 0s 12ms/step - loss: 114.3526 - classifier_metric: 0.9406 - regressor_metric: 4.8169 - val_loss: 137.4759 - val_classifier_metric: 0.9312 - val_regressor_metric: 2.1142\n",
      "Epoch 100/100\n",
      "20/20 [==============================] - 0s 11ms/step - loss: 110.6519 - classifier_metric: 0.9406 - regressor_metric: 3.8442 - val_loss: 90.5954 - val_classifier_metric: 0.9312 - val_regressor_metric: 1.7673\n"
     ]
    }
   ],
   "source": [
    "history3 = model3.fit(x, y, epochs=100, validation_split=0.2)"
   ],
   "metadata": {
    "collapsed": false,
    "pycharm": {
     "name": "#%%\n"
    }
   }
  }
 ]
}