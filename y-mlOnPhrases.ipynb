{
 "nbformat": 4,
 "nbformat_minor": 0,
 "metadata": {
  "colab": {
   "name": "ImP_21-22_ex11.ipynb",
   "provenance": [],
   "authorship_tag": "ABX9TyNDIr5w0A6UugzXtrPiiTVl"
  },
  "kernelspec": {
   "name": "python3",
   "display_name": "Python 3"
  },
  "language_info": {
   "name": "python"
  }
 },
 "cells": [
  {
   "cell_type": "markdown",
   "source": [
    "# Initial Preparation"
   ],
   "metadata": {
    "collapsed": false,
    "pycharm": {
     "name": "#%% md\n"
    }
   }
  },
  {
   "cell_type": "code",
   "execution_count": 3,
   "outputs": [],
   "source": [
    "# Python ≥3.5 is required\n",
    "import sys\n",
    "assert sys.version_info >= (3, 5)\n",
    "\n",
    "# Scikit-Learn ≥0.20 is required\n",
    "import sklearn\n",
    "assert sklearn.__version__ >= \"0.20\"\n",
    "\n",
    "# TensorFlow ≥2.4 is required in this notebook\n",
    "import tensorflow as tf\n",
    "from tensorflow import keras\n",
    "assert tf.__version__ >= \"2.4\"\n",
    "\n",
    "import numpy as np\n",
    "import pandas as pd\n",
    "import matplotlib as mpl\n",
    "import matplotlib.pyplot as plt\n",
    "import seaborn as sns\n",
    "\n",
    "%matplotlib inline\n",
    "sns.set()\n",
    "np.random.seed(42)\n",
    "tf.random.set_seed(42)\n",
    "\n",
    "# For changes\n",
    "USER = \"ageent\"\n",
    "REPO = \"y-mlOnPhrases\"\n",
    "X_FILE = \"X.npy\"\n",
    "Y1_FILE = \"Y1.npy\"\n",
    "Y2_FILE = \"Y2.npy\""
   ],
   "metadata": {
    "collapsed": false,
    "pycharm": {
     "name": "#%%\n"
    }
   }
  },
  {
   "cell_type": "code",
   "source": [
    "# to save data or images\n",
    "if \"google.colab\" in sys.modules:\n",
    "    from google.colab import drive\n",
    "    ROOT_GD = \"/content/drive\"\n",
    "    STORAGE_PATH = ROOT_GD + \"/My Drive/Colab Notebooks/\" + REPO + \"/\"\n",
    "    drive.mount(ROOT_GD)\n",
    "else:   # local host\n",
    "    STORAGE_PATH = \"data/\"\n",
    "\n",
    "def save_data(prefix, file_name, data_frame):\n",
    "    path = STORAGE_PATH + prefix + file_name\n",
    "    data_frame.to_csv(path)\n",
    "\n",
    "def save_pred(file_name, data_frame):\n",
    "    save_data(\"predictions/\", file_name, data_frame)\n",
    "def save_trans_data(file_name, data_frame):\n",
    "    save_data(\"transformed/\", file_name, data_frame)\n",
    "\n",
    "\"\"\"\n",
    "fig, ax = plt.subplots()\n",
    "ax.plot(data)\n",
    "save_fig(fig, \"fig_name\")\n",
    "\"\"\"\n",
    "def save_fig(fig, fig_id, tight_layout=True, fig_extension=\"png\", resolution=300):\n",
    "    path = STORAGE_PATH + \"img/\" + fig_id + \".\" + fig_extension\n",
    "    print(\"Saving figure\", fig_id)\n",
    "    if tight_layout:\n",
    "        fig.tight_layout()\n",
    "    fig.savefig(path, format=fig_extension, dpi=resolution)"
   ],
   "metadata": {
    "colab": {
     "base_uri": "https://localhost:8080/"
    },
    "id": "zIr8cYS4B10Q",
    "outputId": "b045f083-d0d7-421d-bc9c-1964fe2c3fef"
   },
   "execution_count": 4,
   "outputs": []
  },
  {
   "cell_type": "code",
   "execution_count": 5,
   "metadata": {
    "id": "n5zKpPBENYap",
    "pycharm": {
     "name": "#%%\n"
    }
   },
   "outputs": [],
   "source": [
    "# get the data\n",
    "def get_github_data(path_to_file):\n",
    "    \"\"\"TODO: maybe need to use requests.\"\"\"\n",
    "    url = \"https://raw.githubusercontent.com/{}/{}/{}\"\\\n",
    "                            .format(USER, REPO, path_to_file)\n",
    "    return np.load(url)\n",
    "\n",
    "def get_localhost_data(file_name):\n",
    "    path = \"data/src/\" + file_name\n",
    "    return np.load(path)\n",
    "\n",
    "if \"google.colab\" in sys.modules:\n",
    "    PATH_TO_SRC = \"main/data/src/\"\n",
    "    X_DATA = get_github_data(PATH_TO_SRC + X_FILE)\n",
    "    Y1_DATA = get_github_data(PATH_TO_SRC + Y1_FILE)\n",
    "    Y2_DATA = get_github_data(PATH_TO_SRC + Y2_FILE)\n",
    "else:   # local host\n",
    "    X_DATA = get_localhost_data(X_FILE)\n",
    "    Y1_DATA = get_localhost_data(Y1_FILE)\n",
    "    Y2_DATA = get_localhost_data(Y2_FILE)"
   ]
  },
  {
   "cell_type": "code",
   "execution_count": 6,
   "outputs": [
    {
     "name": "stdout",
     "output_type": "stream",
     "text": [
      "(800, 128)\n",
      "[-0.98200285  5.3519163   0.6241017  -3.7863977  -2.0433748  -1.6433135\n",
      "  5.0111694   0.11501709 -3.3202858   2.2631938   4.487829    3.1017983\n",
      "  3.4887044  -4.942223    6.474518    0.77631605  5.3201113  -5.003155\n",
      " -6.0889516   3.9606059   4.9673815   0.5534823   2.3377123  -3.4211032\n",
      "  5.278324    1.576092   -5.2838745   0.5925345  -1.2432728   1.5591371\n",
      " -1.0380139  -0.1521509   2.4624774   6.4752107  -4.399489   -2.6032155\n",
      "  3.5712152   0.44489035  1.3303515   0.42398357  2.2737198   7.777598\n",
      " -3.3040464  -2.2658207  -7.7937617  -0.6868003   7.5321355   0.5417963\n",
      "  2.423962    7.1077695  -0.6353128   3.4406264  -2.3372521   0.1237992\n",
      "  1.9296596   4.452048    2.1478891  -2.770266   -9.235324   10.521325\n",
      " -8.574103   -3.127737   -5.1270823   5.001681   -2.710712    0.44150203\n",
      " -0.15498942  0.24662127 -0.21252623 -1.7166231  -1.0460446  -5.4344797\n",
      "  2.56957    10.698443   -3.0771906   1.0651661  -0.32124305  5.725385\n",
      "  7.167192    5.156452    5.6941953   6.4998055   6.7241087   4.867395\n",
      "  4.8166933   5.9493546   6.5271215   5.819747    4.9900017   6.3283215\n",
      "  7.1935315   5.8655896   6.8128476   6.5611515   7.1959248   5.8582344\n",
      "  5.560118    6.7187347   5.353525    6.103025    0.99591273 -6.4906607\n",
      " -1.1090117  -4.1813335  -2.039458   -2.27983     4.6208878   3.837874\n",
      "  7.4326015  -2.311741   -1.0066502   2.979867    0.1064807   3.888947\n",
      "  0.89728075  2.5419183  -6.5907764  -0.49537855 -1.0346819   0.15862758\n",
      "  1.8829461   1.5021307   0.15528834  2.6389506  -1.3379864   5.460588\n",
      "  0.80857795 -5.7801805 ]\n"
     ]
    }
   ],
   "source": [
    "print(X_DATA.shape)\n",
    "print(X_DATA[0])"
   ],
   "metadata": {
    "collapsed": false,
    "pycharm": {
     "name": "#%%\n"
    }
   }
  },
  {
   "cell_type": "code",
   "execution_count": 7,
   "outputs": [
    {
     "name": "stdout",
     "output_type": "stream",
     "text": [
      "(800,)\n",
      "[1 2 2 0 1 0 2 2 1 0]\n"
     ]
    }
   ],
   "source": [
    "print(Y1_DATA.shape)\n",
    "print(Y1_DATA[0:10])"
   ],
   "metadata": {
    "collapsed": false,
    "pycharm": {
     "name": "#%%\n"
    }
   }
  },
  {
   "cell_type": "code",
   "execution_count": 8,
   "outputs": [
    {
     "name": "stdout",
     "output_type": "stream",
     "text": [
      "(800,)\n",
      "[ 6. 15. 34. 58. 27. 29. 50. 12.  7. 17.]\n"
     ]
    }
   ],
   "source": [
    "print(Y2_DATA.shape)\n",
    "print(Y2_DATA[0:10])"
   ],
   "metadata": {
    "collapsed": false,
    "pycharm": {
     "name": "#%%\n"
    }
   }
  },
  {
   "cell_type": "markdown",
   "source": [
    "# Feature engineering\n",
    "### Transforming"
   ],
   "metadata": {
    "collapsed": false,
    "pycharm": {
     "name": "#%% md\n"
    }
   },
   "execution_count": 6
  },
  {
   "cell_type": "code",
   "execution_count": 9,
   "outputs": [],
   "source": [
    "x = X_DATA.copy()\n",
    "y2 = Y2_DATA.copy()"
   ],
   "metadata": {
    "collapsed": false,
    "pycharm": {
     "name": "#%%\n"
    }
   }
  },
  {
   "cell_type": "code",
   "execution_count": 10,
   "outputs": [],
   "source": [
    "from sklearn.preprocessing import OneHotEncoder\n",
    "\n",
    "transformer_y1 = OneHotEncoder()"
   ],
   "metadata": {
    "collapsed": false,
    "pycharm": {
     "name": "#%%\n"
    }
   }
  },
  {
   "cell_type": "code",
   "execution_count": 11,
   "outputs": [
    {
     "data": {
      "text/plain": "array([[0., 1., 0.],\n       [0., 0., 1.],\n       [0., 0., 1.],\n       ...,\n       [1., 0., 0.],\n       [0., 1., 0.],\n       [1., 0., 0.]])"
     },
     "execution_count": 11,
     "metadata": {},
     "output_type": "execute_result"
    }
   ],
   "source": [
    "y1 = transformer_y1.fit_transform(Y1_DATA[:, np.newaxis]).toarray()\n",
    "y1"
   ],
   "metadata": {
    "collapsed": false,
    "pycharm": {
     "name": "#%%\n"
    }
   }
  },
  {
   "cell_type": "markdown",
   "source": [
    "### Shuffle"
   ],
   "metadata": {
    "collapsed": false
   }
  },
  {
   "cell_type": "code",
   "execution_count": 221,
   "outputs": [
    {
     "data": {
      "text/plain": "(800, 132)"
     },
     "execution_count": 221,
     "metadata": {},
     "output_type": "execute_result"
    }
   ],
   "source": [
    "t_ = np.hstack([x, y1, y2[:, np.newaxis]])\n",
    "t_.shape"
   ],
   "metadata": {
    "collapsed": false,
    "pycharm": {
     "name": "#%%\n"
    }
   }
  },
  {
   "cell_type": "code",
   "execution_count": 222,
   "outputs": [],
   "source": [
    "np.random.shuffle(t_)\n",
    "x = t_[:, :128].copy()\n",
    "y1 = t_[:, 128:131].copy()\n",
    "y2 = t_[:, 131].copy()\n",
    "y = tf.concat([y1, y2[:, tf.newaxis]], axis=1)\n",
    "%reset_selective -f t_"
   ],
   "metadata": {
    "collapsed": false,
    "pycharm": {
     "name": "#%%\n"
    }
   }
  },
  {
   "cell_type": "markdown",
   "source": [
    "# Model selection\n",
    "### Model 1\n",
    "#### Loss and metrics"
   ],
   "metadata": {
    "collapsed": false,
    "pycharm": {
     "name": "#%% md\n"
    }
   }
  },
  {
   "cell_type": "code",
   "execution_count": 194,
   "outputs": [],
   "source": [
    "def classifier_metric(y_true, y_pred):\n",
    "    return keras.metrics.categorical_accuracy(y_true[:, :3], y_pred)\n",
    "\n",
    "def regressor_metric(y_true, y_pred):\n",
    "    y_true_reg = tf.cast(y_true[:, 3], tf.float32)\n",
    "    y_pred = tf.cast(y_pred, tf.float64)\n",
    "    w_reg = 1 / 3\n",
    "    y_pred_w = tf.cast(y_pred * w_reg, tf.float32)\n",
    "    y_pred_reg = tf.reduce_sum(y_pred_w, axis=1)\n",
    "    return tf.metrics.mean_squared_error(y_true_reg, y_pred_reg)"
   ],
   "metadata": {
    "collapsed": false,
    "pycharm": {
     "name": "#%%\n"
    }
   }
  },
  {
   "cell_type": "code",
   "execution_count": 195,
   "outputs": [
    {
     "name": "stdout",
     "output_type": "stream",
     "text": [
      "tf.Tensor([1. 1. 0. 1.], shape=(4,), dtype=float32)\n",
      "tf.Tensor(528.75, shape=(), dtype=float32)\n"
     ]
    }
   ],
   "source": [
    "# test for metrics\n",
    "y_true_ = tf.constant([[1, 0, 0, 60],\n",
    "                       [0 ,1, 0, 50],\n",
    "                       [0, 0, 1, 20],\n",
    "                       [0, 1, 0, 4]])\n",
    "y_pred_ = tf.constant([[99, 0, 0],\n",
    "                       [0, 99, 0],\n",
    "                       [0, 99, 9],\n",
    "                       [0, 99, 0]])\n",
    "print(classifier_metric(y_true_, y_pred_))\n",
    "print(regressor_metric(y_true_, y_pred_))"
   ],
   "metadata": {
    "collapsed": false,
    "pycharm": {
     "name": "#%%\n"
    }
   }
  },
  {
   "cell_type": "code",
   "execution_count": 233,
   "outputs": [],
   "source": [
    "def get_summands(y_true, y_pred):\n",
    "    y_true_cl_ = tf.cast(y_true[:, :3], tf.float32)\n",
    "    y_true_reg_ = tf.cast(y_true[:, 3], tf.float32)\n",
    "    y_pred_ = tf.cast(y_pred, tf.float32)\n",
    "\n",
    "    # classification\n",
    "    y_pred_max = tf.reduce_max(y_pred_, axis=1)[:, tf.newaxis]\n",
    "    y_pred_norm = y_pred_ / y_pred_max\n",
    "    w_cl = 1000.\n",
    "    ss_cl = tf.square(y_true_cl_ - y_pred_norm) * w_cl\n",
    "\n",
    "    # regression\n",
    "    w_reg = 1 / 3\n",
    "    y_pred_w = tf.cast(y_pred_ * w_reg, tf.float32)\n",
    "    y_pred_reg = tf.reduce_sum(y_pred_w, axis=1)\n",
    "    ss_reg = tf.square(y_true_reg_ - y_pred_reg)\n",
    "\n",
    "    return tf.concat([ss_cl, ss_reg[:, tf.newaxis]], 1)\n",
    "\n",
    "def loss1(y_true, y_pred):\n",
    "    summands = get_summands(y_true, y_pred)\n",
    "    return tf.reduce_sum(summands)"
   ],
   "metadata": {
    "collapsed": false,
    "pycharm": {
     "name": "#%%\n"
    }
   }
  },
  {
   "cell_type": "code",
   "execution_count": 203,
   "outputs": [
    {
     "data": {
      "text/plain": "<tf.Tensor: shape=(), dtype=float32, numpy=2432.7476>"
     },
     "execution_count": 203,
     "metadata": {},
     "output_type": "execute_result"
    }
   ],
   "source": [
    "# test for loss1\n",
    "y_true_ = tf.constant([[1, 0, 0, 60],\n",
    "                       [0 ,1, 0, 50],\n",
    "                       [2, 0, 1, 20],\n",
    "                       [0, 1, 0, 4]])\n",
    "y_pred_ = tf.constant([[99, 0, 0],\n",
    "                       [0, 99, 0],\n",
    "                       [1, 0, 99],\n",
    "                       [0, 99, 0]])\n",
    "loss1(y_true_, y_pred_)"
   ],
   "metadata": {
    "collapsed": false,
    "pycharm": {
     "name": "#%%\n"
    }
   }
  },
  {
   "cell_type": "markdown",
   "source": [
    "#### Create model"
   ],
   "metadata": {
    "collapsed": false,
    "pycharm": {
     "name": "#%% md\n"
    }
   }
  },
  {
   "cell_type": "code",
   "execution_count": 230,
   "outputs": [],
   "source": [
    "model1 = keras.models.Sequential()\n",
    "model1.add(keras.layers.Dense(3, activation=\"linear\", use_bias=False, input_shape=[128]))\n",
    "model1.compile(loss=loss1,\n",
    "               optimizer=tf.keras.optimizers.Adam(learning_rate=1e-1),\n",
    "               metrics=[classifier_metric, regressor_metric])"
   ],
   "metadata": {
    "collapsed": false,
    "pycharm": {
     "name": "#%%\n"
    }
   }
  },
  {
   "cell_type": "code",
   "execution_count": 231,
   "outputs": [
    {
     "name": "stdout",
     "output_type": "stream",
     "text": [
      "Epoch 1/30\n",
      "20/20 [==============================] - 2s 30ms/step - loss: 87610.8594 - classifier_metric: 0.3187 - regressor_metric: 1119.3359 - val_loss: 71515.9688 - val_classifier_metric: 0.3438 - val_regressor_metric: 1013.2540\n",
      "Epoch 2/30\n",
      "20/20 [==============================] - 0s 6ms/step - loss: 57801.1875 - classifier_metric: 0.3344 - regressor_metric: 390.9005 - val_loss: 45763.8633 - val_classifier_metric: 0.4437 - val_regressor_metric: 362.4149\n",
      "Epoch 3/30\n",
      "20/20 [==============================] - 0s 6ms/step - loss: 30159.9258 - classifier_metric: 0.6687 - regressor_metric: 159.1073 - val_loss: 25502.4746 - val_classifier_metric: 0.6187 - val_regressor_metric: 57.2555\n",
      "Epoch 4/30\n",
      "20/20 [==============================] - 0s 6ms/step - loss: 20834.5820 - classifier_metric: 0.7328 - regressor_metric: 49.2594 - val_loss: 14350.9404 - val_classifier_metric: 0.8813 - val_regressor_metric: 27.2720\n",
      "Epoch 5/30\n",
      "20/20 [==============================] - 0s 6ms/step - loss: 13786.0889 - classifier_metric: 0.8875 - regressor_metric: 23.5746 - val_loss: 12325.9551 - val_classifier_metric: 0.9062 - val_regressor_metric: 18.4995\n",
      "Epoch 6/30\n",
      "20/20 [==============================] - 0s 5ms/step - loss: 12230.0332 - classifier_metric: 0.9016 - regressor_metric: 19.1543 - val_loss: 12569.6016 - val_classifier_metric: 0.9000 - val_regressor_metric: 18.1651\n",
      "Epoch 7/30\n",
      "20/20 [==============================] - 0s 6ms/step - loss: 11344.5234 - classifier_metric: 0.9203 - regressor_metric: 15.9988 - val_loss: 11164.2402 - val_classifier_metric: 0.9375 - val_regressor_metric: 17.1302\n",
      "Epoch 8/30\n",
      "20/20 [==============================] - 0s 6ms/step - loss: 10678.9668 - classifier_metric: 0.9328 - regressor_metric: 13.2674 - val_loss: 11128.4316 - val_classifier_metric: 0.9312 - val_regressor_metric: 16.8614\n",
      "Epoch 9/30\n",
      "20/20 [==============================] - 0s 4ms/step - loss: 9988.4648 - classifier_metric: 0.9406 - regressor_metric: 16.4804 - val_loss: 10975.7500 - val_classifier_metric: 0.9312 - val_regressor_metric: 12.6733\n",
      "Epoch 10/30\n",
      "20/20 [==============================] - 0s 4ms/step - loss: 9381.6816 - classifier_metric: 0.9469 - regressor_metric: 11.1823 - val_loss: 13006.1670 - val_classifier_metric: 0.9000 - val_regressor_metric: 11.4126\n",
      "Epoch 11/30\n",
      "20/20 [==============================] - 0s 3ms/step - loss: 10230.1680 - classifier_metric: 0.9328 - regressor_metric: 11.2854 - val_loss: 11999.0215 - val_classifier_metric: 0.9125 - val_regressor_metric: 11.1630\n",
      "Epoch 12/30\n",
      "20/20 [==============================] - 0s 4ms/step - loss: 9398.5859 - classifier_metric: 0.9516 - regressor_metric: 13.2388 - val_loss: 11011.8809 - val_classifier_metric: 0.9312 - val_regressor_metric: 10.5713\n",
      "Epoch 13/30\n",
      "20/20 [==============================] - 0s 5ms/step - loss: 8760.9395 - classifier_metric: 0.9578 - regressor_metric: 11.4504 - val_loss: 11957.6543 - val_classifier_metric: 0.9312 - val_regressor_metric: 10.0996\n",
      "Epoch 14/30\n",
      "20/20 [==============================] - 0s 4ms/step - loss: 9267.6133 - classifier_metric: 0.9500 - regressor_metric: 10.7507 - val_loss: 11120.8066 - val_classifier_metric: 0.9000 - val_regressor_metric: 11.3224\n",
      "Epoch 15/30\n",
      "20/20 [==============================] - 0s 4ms/step - loss: 8528.1797 - classifier_metric: 0.9609 - regressor_metric: 9.6521 - val_loss: 12124.3926 - val_classifier_metric: 0.9312 - val_regressor_metric: 11.0576\n",
      "Epoch 16/30\n",
      "20/20 [==============================] - 0s 4ms/step - loss: 9078.1094 - classifier_metric: 0.9500 - regressor_metric: 9.3483 - val_loss: 12547.1426 - val_classifier_metric: 0.9000 - val_regressor_metric: 8.7379\n",
      "Epoch 17/30\n",
      "20/20 [==============================] - 0s 4ms/step - loss: 8866.5684 - classifier_metric: 0.9609 - regressor_metric: 9.9689 - val_loss: 11509.0020 - val_classifier_metric: 0.9312 - val_regressor_metric: 6.8430\n",
      "Epoch 18/30\n",
      "20/20 [==============================] - 0s 5ms/step - loss: 8400.0830 - classifier_metric: 0.9625 - regressor_metric: 9.8688 - val_loss: 12402.2822 - val_classifier_metric: 0.9062 - val_regressor_metric: 9.0973\n",
      "Epoch 19/30\n",
      "20/20 [==============================] - 0s 5ms/step - loss: 8170.9951 - classifier_metric: 0.9641 - regressor_metric: 11.9594 - val_loss: 11959.0146 - val_classifier_metric: 0.9125 - val_regressor_metric: 15.1169\n",
      "Epoch 20/30\n",
      "20/20 [==============================] - 0s 5ms/step - loss: 8405.5762 - classifier_metric: 0.9688 - regressor_metric: 15.2191 - val_loss: 12463.1748 - val_classifier_metric: 0.9062 - val_regressor_metric: 22.6934\n",
      "Epoch 21/30\n",
      "20/20 [==============================] - 0s 5ms/step - loss: 8237.2217 - classifier_metric: 0.9703 - regressor_metric: 15.1684 - val_loss: 12112.7891 - val_classifier_metric: 0.9062 - val_regressor_metric: 9.2451\n",
      "Epoch 22/30\n",
      "20/20 [==============================] - 0s 3ms/step - loss: 8248.9463 - classifier_metric: 0.9656 - regressor_metric: 13.2495 - val_loss: 12112.9609 - val_classifier_metric: 0.9187 - val_regressor_metric: 16.9876\n",
      "Epoch 23/30\n",
      "20/20 [==============================] - 0s 3ms/step - loss: 8225.8926 - classifier_metric: 0.9641 - regressor_metric: 8.6998 - val_loss: 12555.3525 - val_classifier_metric: 0.9250 - val_regressor_metric: 6.4938\n",
      "Epoch 24/30\n",
      "20/20 [==============================] - 0s 3ms/step - loss: 8124.0537 - classifier_metric: 0.9656 - regressor_metric: 8.1731 - val_loss: 13150.3799 - val_classifier_metric: 0.9000 - val_regressor_metric: 8.1818\n",
      "Epoch 25/30\n",
      "20/20 [==============================] - 0s 4ms/step - loss: 8096.1084 - classifier_metric: 0.9625 - regressor_metric: 8.5237 - val_loss: 12405.5996 - val_classifier_metric: 0.8938 - val_regressor_metric: 8.1464\n",
      "Epoch 26/30\n",
      "20/20 [==============================] - 0s 4ms/step - loss: 8267.1748 - classifier_metric: 0.9641 - regressor_metric: 9.1432 - val_loss: 12433.4248 - val_classifier_metric: 0.9062 - val_regressor_metric: 6.9955\n",
      "Epoch 27/30\n",
      "20/20 [==============================] - 0s 8ms/step - loss: 8017.0977 - classifier_metric: 0.9656 - regressor_metric: 11.4554 - val_loss: 12106.2578 - val_classifier_metric: 0.9125 - val_regressor_metric: 11.8989\n",
      "Epoch 28/30\n",
      "20/20 [==============================] - 0s 5ms/step - loss: 8141.0518 - classifier_metric: 0.9672 - regressor_metric: 12.4311 - val_loss: 12797.7217 - val_classifier_metric: 0.8875 - val_regressor_metric: 9.4170\n",
      "Epoch 29/30\n",
      "20/20 [==============================] - 0s 7ms/step - loss: 8334.4551 - classifier_metric: 0.9609 - regressor_metric: 9.2498 - val_loss: 14402.8516 - val_classifier_metric: 0.8625 - val_regressor_metric: 8.7275\n",
      "Epoch 30/30\n",
      "20/20 [==============================] - 0s 5ms/step - loss: 8967.3057 - classifier_metric: 0.9609 - regressor_metric: 17.4507 - val_loss: 13742.5078 - val_classifier_metric: 0.8875 - val_regressor_metric: 72.8418\n"
     ]
    }
   ],
   "source": [
    "history1 = model1.fit(x, y, epochs=30, validation_split=0.2)"
   ],
   "metadata": {
    "collapsed": false,
    "pycharm": {
     "name": "#%%\n"
    }
   }
  },
  {
   "cell_type": "markdown",
   "source": [
    "### Model 2"
   ],
   "metadata": {
    "collapsed": false,
    "pycharm": {
     "name": "#%% md\n"
    }
   }
  },
  {
   "cell_type": "code",
   "execution_count": 238,
   "outputs": [],
   "source": [
    "def loss2(y_true, y_pred):\n",
    "    summands = get_summands(y_true, y_pred)\n",
    "    cl_mul = tf.reduce_sum(summands[:, :3], axis=1)\n",
    "    reg_mul = summands[:, 3]\n",
    "    return tf.reduce_sum(cl_mul * reg_mul)"
   ],
   "metadata": {
    "collapsed": false,
    "pycharm": {
     "name": "#%%\n"
    }
   }
  },
  {
   "cell_type": "code",
   "execution_count": 237,
   "outputs": [
    {
     "data": {
      "text/plain": "<tf.Tensor: shape=(), dtype=float32, numpy=703946.2>"
     },
     "execution_count": 237,
     "metadata": {},
     "output_type": "execute_result"
    }
   ],
   "source": [
    "# test for loss2\n",
    "y_true_ = tf.constant([[1, 0, 0, 60],\n",
    "                       [0 ,1, 0, 50],\n",
    "                       [2, 0, 1, 20],\n",
    "                       [0, 1, 0, 4]])\n",
    "y_pred_ = tf.constant([[99, 0, 0],\n",
    "                       [0, 99, 0],\n",
    "                       [1, 0, 99],\n",
    "                       [0, 99, 0]])\n",
    "loss2(y_true_, y_pred_)"
   ],
   "metadata": {
    "collapsed": false,
    "pycharm": {
     "name": "#%%\n"
    }
   }
  },
  {
   "cell_type": "code",
   "execution_count": 239,
   "outputs": [],
   "source": [
    "model2 = keras.models.Sequential()\n",
    "model2.add(keras.layers.Dense(3, activation=\"linear\", use_bias=False, input_shape=[128]))\n",
    "model2.compile(loss=loss2,\n",
    "               optimizer=tf.keras.optimizers.Adam(learning_rate=1e-1),\n",
    "               metrics=[classifier_metric, regressor_metric])"
   ],
   "metadata": {
    "collapsed": false,
    "pycharm": {
     "name": "#%%\n"
    }
   }
  },
  {
   "cell_type": "code",
   "execution_count": 240,
   "outputs": [
    {
     "name": "stdout",
     "output_type": "stream",
     "text": [
      "Epoch 1/30\n",
      "20/20 [==============================] - 3s 32ms/step - loss: 60099992.0000 - classifier_metric: 0.3688 - regressor_metric: 1179.8865 - val_loss: 42438480.0000 - val_classifier_metric: 0.3313 - val_regressor_metric: 711.5111\n",
      "Epoch 2/30\n",
      "20/20 [==============================] - 0s 5ms/step - loss: 17001492.0000 - classifier_metric: 0.3594 - regressor_metric: 277.7397 - val_loss: 8587060.0000 - val_classifier_metric: 0.3313 - val_regressor_metric: 130.2310\n",
      "Epoch 3/30\n",
      "20/20 [==============================] - 0s 6ms/step - loss: 4812789.0000 - classifier_metric: 0.3594 - regressor_metric: 86.7149 - val_loss: 3464602.0000 - val_classifier_metric: 0.3313 - val_regressor_metric: 61.1534\n",
      "Epoch 4/30\n",
      "20/20 [==============================] - 0s 5ms/step - loss: 1517062.2500 - classifier_metric: 0.3594 - regressor_metric: 29.7969 - val_loss: 1411122.7500 - val_classifier_metric: 0.3313 - val_regressor_metric: 20.1596\n",
      "Epoch 5/30\n",
      "20/20 [==============================] - 0s 10ms/step - loss: 501419.5000 - classifier_metric: 0.3594 - regressor_metric: 9.9684 - val_loss: 402243.8438 - val_classifier_metric: 0.3313 - val_regressor_metric: 6.3328\n",
      "Epoch 6/30\n",
      "20/20 [==============================] - 0s 5ms/step - loss: 311894.7500 - classifier_metric: 0.3594 - regressor_metric: 5.6960 - val_loss: 444101.0000 - val_classifier_metric: 0.3313 - val_regressor_metric: 7.4721\n",
      "Epoch 7/30\n",
      "20/20 [==============================] - 0s 5ms/step - loss: 433724.6562 - classifier_metric: 0.3594 - regressor_metric: 7.4730 - val_loss: 204153.2812 - val_classifier_metric: 0.3313 - val_regressor_metric: 3.8799\n",
      "Epoch 8/30\n",
      "20/20 [==============================] - 0s 5ms/step - loss: 426403.8438 - classifier_metric: 0.3594 - regressor_metric: 7.7357 - val_loss: 810416.5000 - val_classifier_metric: 0.3313 - val_regressor_metric: 13.5737\n",
      "Epoch 9/30\n",
      "20/20 [==============================] - 0s 6ms/step - loss: 501999.9062 - classifier_metric: 0.3594 - regressor_metric: 9.0053 - val_loss: 797980.5000 - val_classifier_metric: 0.3313 - val_regressor_metric: 13.9448\n",
      "Epoch 10/30\n",
      "20/20 [==============================] - 0s 6ms/step - loss: 325622.3125 - classifier_metric: 0.3594 - regressor_metric: 5.5708 - val_loss: 167879.3438 - val_classifier_metric: 0.3313 - val_regressor_metric: 3.3296\n",
      "Epoch 11/30\n",
      "20/20 [==============================] - 0s 4ms/step - loss: 160680.7188 - classifier_metric: 0.3594 - regressor_metric: 3.0363 - val_loss: 134962.5781 - val_classifier_metric: 0.3313 - val_regressor_metric: 2.3258\n",
      "Epoch 12/30\n",
      "20/20 [==============================] - 0s 4ms/step - loss: 139682.0938 - classifier_metric: 0.3594 - regressor_metric: 2.7859 - val_loss: 236745.5938 - val_classifier_metric: 0.3313 - val_regressor_metric: 3.9025\n",
      "Epoch 13/30\n",
      "20/20 [==============================] - 0s 4ms/step - loss: 193058.1406 - classifier_metric: 0.3594 - regressor_metric: 3.4095 - val_loss: 140758.8906 - val_classifier_metric: 0.3313 - val_regressor_metric: 2.6307\n",
      "Epoch 14/30\n",
      "20/20 [==============================] - 0s 3ms/step - loss: 150946.6875 - classifier_metric: 0.3594 - regressor_metric: 3.0621 - val_loss: 250579.8438 - val_classifier_metric: 0.3313 - val_regressor_metric: 4.0316\n",
      "Epoch 15/30\n",
      "20/20 [==============================] - 0s 4ms/step - loss: 130818.6875 - classifier_metric: 0.3594 - regressor_metric: 2.3614 - val_loss: 125989.8594 - val_classifier_metric: 0.3313 - val_regressor_metric: 2.1834\n",
      "Epoch 16/30\n",
      "20/20 [==============================] - 0s 3ms/step - loss: 145074.7500 - classifier_metric: 0.3594 - regressor_metric: 2.7412 - val_loss: 155193.0000 - val_classifier_metric: 0.3313 - val_regressor_metric: 2.5502\n",
      "Epoch 17/30\n",
      "20/20 [==============================] - 0s 4ms/step - loss: 110971.9844 - classifier_metric: 0.3594 - regressor_metric: 2.0504 - val_loss: 121233.4531 - val_classifier_metric: 0.3313 - val_regressor_metric: 2.0579\n",
      "Epoch 18/30\n",
      "20/20 [==============================] - 0s 3ms/step - loss: 100361.0000 - classifier_metric: 0.3594 - regressor_metric: 1.8083 - val_loss: 99745.0625 - val_classifier_metric: 0.3313 - val_regressor_metric: 1.7499\n",
      "Epoch 19/30\n",
      "20/20 [==============================] - 0s 4ms/step - loss: 91894.4375 - classifier_metric: 0.3594 - regressor_metric: 1.6574 - val_loss: 131478.4219 - val_classifier_metric: 0.3313 - val_regressor_metric: 2.1952\n",
      "Epoch 20/30\n",
      "20/20 [==============================] - 0s 4ms/step - loss: 108152.0859 - classifier_metric: 0.3594 - regressor_metric: 1.9892 - val_loss: 110866.4219 - val_classifier_metric: 0.3313 - val_regressor_metric: 1.9086\n",
      "Epoch 21/30\n",
      "20/20 [==============================] - 0s 4ms/step - loss: 103022.6484 - classifier_metric: 0.3594 - regressor_metric: 1.8925 - val_loss: 145883.2812 - val_classifier_metric: 0.3313 - val_regressor_metric: 2.4026\n",
      "Epoch 22/30\n",
      "20/20 [==============================] - 0s 3ms/step - loss: 152706.0312 - classifier_metric: 0.3594 - regressor_metric: 2.7277 - val_loss: 148340.5312 - val_classifier_metric: 0.3313 - val_regressor_metric: 2.5360\n",
      "Epoch 23/30\n",
      "20/20 [==============================] - 0s 4ms/step - loss: 121186.7266 - classifier_metric: 0.3594 - regressor_metric: 2.2887 - val_loss: 197925.1875 - val_classifier_metric: 0.3313 - val_regressor_metric: 3.3161\n",
      "Epoch 24/30\n",
      "20/20 [==============================] - 0s 4ms/step - loss: 128372.6016 - classifier_metric: 0.3594 - regressor_metric: 2.4993 - val_loss: 117548.0000 - val_classifier_metric: 0.3313 - val_regressor_metric: 1.9265\n",
      "Epoch 25/30\n",
      "20/20 [==============================] - 0s 4ms/step - loss: 277000.0000 - classifier_metric: 0.3594 - regressor_metric: 4.7200 - val_loss: 376668.4062 - val_classifier_metric: 0.3313 - val_regressor_metric: 6.7433\n",
      "Epoch 26/30\n",
      "20/20 [==============================] - 0s 4ms/step - loss: 190658.7500 - classifier_metric: 0.3594 - regressor_metric: 3.5461 - val_loss: 338699.0625 - val_classifier_metric: 0.3313 - val_regressor_metric: 5.9054\n",
      "Epoch 27/30\n",
      "20/20 [==============================] - 0s 4ms/step - loss: 570290.3750 - classifier_metric: 0.3594 - regressor_metric: 9.9781 - val_loss: 701322.3750 - val_classifier_metric: 0.3313 - val_regressor_metric: 12.7701\n",
      "Epoch 28/30\n",
      "20/20 [==============================] - 0s 3ms/step - loss: 675713.1250 - classifier_metric: 0.3594 - regressor_metric: 11.4436 - val_loss: 750639.7500 - val_classifier_metric: 0.3375 - val_regressor_metric: 15.3892\n",
      "Epoch 29/30\n",
      "20/20 [==============================] - 0s 4ms/step - loss: 533055.1875 - classifier_metric: 0.3594 - regressor_metric: 8.9986 - val_loss: 448016.6562 - val_classifier_metric: 0.3375 - val_regressor_metric: 7.0129\n",
      "Epoch 30/30\n",
      "20/20 [==============================] - 0s 3ms/step - loss: 1005964.0000 - classifier_metric: 0.3594 - regressor_metric: 16.7225 - val_loss: 5271878.0000 - val_classifier_metric: 0.3375 - val_regressor_metric: 90.5681\n"
     ]
    }
   ],
   "source": [
    "history2 = model2.fit(x, y, epochs=30, validation_split=0.2)"
   ],
   "metadata": {
    "collapsed": false,
    "pycharm": {
     "name": "#%%\n"
    }
   }
  }
 ]
}