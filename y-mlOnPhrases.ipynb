{
 "nbformat": 4,
 "nbformat_minor": 0,
 "metadata": {
  "colab": {
   "name": "ImP_21-22_ex11.ipynb",
   "provenance": [],
   "authorship_tag": "ABX9TyNDIr5w0A6UugzXtrPiiTVl"
  },
  "kernelspec": {
   "name": "python3",
   "display_name": "Python 3"
  },
  "language_info": {
   "name": "python"
  }
 },
 "cells": [
  {
   "cell_type": "markdown",
   "source": [
    "# Initial Preparation"
   ],
   "metadata": {
    "collapsed": false,
    "pycharm": {
     "name": "#%% md\n"
    }
   }
  },
  {
   "cell_type": "code",
   "execution_count": 1,
   "outputs": [],
   "source": [
    "# Python ≥3.5 is required\n",
    "import sys\n",
    "assert sys.version_info >= (3, 5)\n",
    "\n",
    "# Scikit-Learn ≥0.20 is required\n",
    "import sklearn\n",
    "assert sklearn.__version__ >= \"0.20\"\n",
    "\n",
    "# TensorFlow ≥2.4 is required in this notebook\n",
    "import tensorflow as tf\n",
    "from tensorflow import keras\n",
    "assert tf.__version__ >= \"2.4\"\n",
    "\n",
    "import numpy as np\n",
    "import pandas as pd\n",
    "import matplotlib as mpl\n",
    "import matplotlib.pyplot as plt\n",
    "import seaborn as sns\n",
    "\n",
    "%matplotlib inline\n",
    "sns.set()\n",
    "np.random.seed(42)\n",
    "tf.random.set_seed(42)\n",
    "\n",
    "# For changes\n",
    "USER = \"ageent\"\n",
    "REPO = \"y-mlOnPhrases\"\n",
    "SKIP_FLAG = \"fm1_0\"    # Maybe \"tm1\", \"tm2\", \"fm1_0\" ... or \"all\"\n",
    "\n",
    "X_FILE = \"X.npy\"\n",
    "Y1_FILE = \"Y1.npy\"\n",
    "Y2_FILE = \"Y2.npy\""
   ],
   "metadata": {
    "collapsed": false,
    "pycharm": {
     "name": "#%%\n"
    }
   }
  },
  {
   "cell_type": "code",
   "source": [
    "# to save data or images\n",
    "if \"google.colab\" in sys.modules:\n",
    "    from google.colab import drive\n",
    "    ROOT_GD = \"/content/drive\"\n",
    "    STORAGE_PATH = ROOT_GD + \"/My Drive/Colab Notebooks/\" + REPO + \"/\"\n",
    "    drive.mount(ROOT_GD)\n",
    "else:   # local host\n",
    "    STORAGE_PATH = \"data/\"\n",
    "\n",
    "def save_data(prefix, file_name, data_frame):\n",
    "    path = STORAGE_PATH + prefix + file_name\n",
    "    data_frame.to_csv(path)\n",
    "\n",
    "def save_pred(file_name, data_frame):\n",
    "    save_data(\"predictions/\", file_name, data_frame)\n",
    "def save_trans_data(file_name, data_frame):\n",
    "    save_data(\"transformed/\", file_name, data_frame)\n",
    "\n",
    "\"\"\"\n",
    "fig, ax = plt.subplots()\n",
    "ax.plot(data)\n",
    "save_fig(fig, \"fig_name\")\n",
    "\"\"\"\n",
    "def save_fig(fig_id, fig=plt, tight_layout=True, fig_extension=\"png\", resolution=300):\n",
    "    path = STORAGE_PATH + \"img/\" + fig_id + \".\" + fig_extension\n",
    "    print(\"Saving figure\", fig_id)\n",
    "    if tight_layout:\n",
    "        fig.tight_layout()\n",
    "    fig.savefig(path, format=fig_extension, dpi=resolution)"
   ],
   "metadata": {
    "colab": {
     "base_uri": "https://localhost:8080/"
    },
    "id": "zIr8cYS4B10Q",
    "outputId": "b045f083-d0d7-421d-bc9c-1964fe2c3fef"
   },
   "execution_count": 2,
   "outputs": []
  },
  {
   "cell_type": "code",
   "execution_count": 3,
   "metadata": {
    "id": "n5zKpPBENYap",
    "pycharm": {
     "name": "#%%\n"
    }
   },
   "outputs": [],
   "source": [
    "# get the data\n",
    "def get_github_data(path_to_file):\n",
    "    \"\"\"TODO: maybe need to use requests.\"\"\"\n",
    "    url = \"https://raw.githubusercontent.com/{}/{}/{}\"\\\n",
    "                            .format(USER, REPO, path_to_file)\n",
    "    return np.load(url)\n",
    "\n",
    "def get_localhost_data(file_name):\n",
    "    path = \"data/src/\" + file_name\n",
    "    return np.load(path)\n",
    "\n",
    "if \"google.colab\" in sys.modules:\n",
    "    PATH_TO_SRC = \"main/data/src/\"\n",
    "    X_DATA = get_github_data(PATH_TO_SRC + X_FILE)\n",
    "    Y1_DATA = get_github_data(PATH_TO_SRC + Y1_FILE)\n",
    "    Y2_DATA = get_github_data(PATH_TO_SRC + Y2_FILE)\n",
    "else:   # local host\n",
    "    X_DATA = get_localhost_data(X_FILE)\n",
    "    Y1_DATA = get_localhost_data(Y1_FILE)\n",
    "    Y2_DATA = get_localhost_data(Y2_FILE)"
   ]
  },
  {
   "cell_type": "code",
   "execution_count": 4,
   "outputs": [
    {
     "name": "stdout",
     "output_type": "stream",
     "text": [
      "(800, 128)\n",
      "[-0.98200285  5.3519163   0.6241017  -3.7863977  -2.0433748  -1.6433135\n",
      "  5.0111694   0.11501709 -3.3202858   2.2631938   4.487829    3.1017983\n",
      "  3.4887044  -4.942223    6.474518    0.77631605  5.3201113  -5.003155\n",
      " -6.0889516   3.9606059   4.9673815   0.5534823   2.3377123  -3.4211032\n",
      "  5.278324    1.576092   -5.2838745   0.5925345  -1.2432728   1.5591371\n",
      " -1.0380139  -0.1521509   2.4624774   6.4752107  -4.399489   -2.6032155\n",
      "  3.5712152   0.44489035  1.3303515   0.42398357  2.2737198   7.777598\n",
      " -3.3040464  -2.2658207  -7.7937617  -0.6868003   7.5321355   0.5417963\n",
      "  2.423962    7.1077695  -0.6353128   3.4406264  -2.3372521   0.1237992\n",
      "  1.9296596   4.452048    2.1478891  -2.770266   -9.235324   10.521325\n",
      " -8.574103   -3.127737   -5.1270823   5.001681   -2.710712    0.44150203\n",
      " -0.15498942  0.24662127 -0.21252623 -1.7166231  -1.0460446  -5.4344797\n",
      "  2.56957    10.698443   -3.0771906   1.0651661  -0.32124305  5.725385\n",
      "  7.167192    5.156452    5.6941953   6.4998055   6.7241087   4.867395\n",
      "  4.8166933   5.9493546   6.5271215   5.819747    4.9900017   6.3283215\n",
      "  7.1935315   5.8655896   6.8128476   6.5611515   7.1959248   5.8582344\n",
      "  5.560118    6.7187347   5.353525    6.103025    0.99591273 -6.4906607\n",
      " -1.1090117  -4.1813335  -2.039458   -2.27983     4.6208878   3.837874\n",
      "  7.4326015  -2.311741   -1.0066502   2.979867    0.1064807   3.888947\n",
      "  0.89728075  2.5419183  -6.5907764  -0.49537855 -1.0346819   0.15862758\n",
      "  1.8829461   1.5021307   0.15528834  2.6389506  -1.3379864   5.460588\n",
      "  0.80857795 -5.7801805 ]\n"
     ]
    }
   ],
   "source": [
    "print(X_DATA.shape)\n",
    "print(X_DATA[0])"
   ],
   "metadata": {
    "collapsed": false,
    "pycharm": {
     "name": "#%%\n"
    }
   }
  },
  {
   "cell_type": "code",
   "execution_count": 5,
   "outputs": [
    {
     "name": "stdout",
     "output_type": "stream",
     "text": [
      "(800,)\n",
      "[1 2 2 0 1 0 2 2 1 0]\n"
     ]
    }
   ],
   "source": [
    "print(Y1_DATA.shape)\n",
    "print(Y1_DATA[0:10])"
   ],
   "metadata": {
    "collapsed": false,
    "pycharm": {
     "name": "#%%\n"
    }
   }
  },
  {
   "cell_type": "code",
   "execution_count": 6,
   "outputs": [
    {
     "name": "stdout",
     "output_type": "stream",
     "text": [
      "(800,)\n",
      "[ 6. 15. 34. 58. 27. 29. 50. 12.  7. 17.]\n"
     ]
    }
   ],
   "source": [
    "print(Y2_DATA.shape)\n",
    "print(Y2_DATA[0:10])"
   ],
   "metadata": {
    "collapsed": false,
    "pycharm": {
     "name": "#%%\n"
    }
   }
  },
  {
   "cell_type": "markdown",
   "source": [
    "# Feature engineering\n",
    "### Transforming"
   ],
   "metadata": {
    "collapsed": false,
    "pycharm": {
     "name": "#%% md\n"
    }
   },
   "execution_count": 6
  },
  {
   "cell_type": "code",
   "execution_count": 7,
   "outputs": [],
   "source": [
    "x = X_DATA.copy()\n",
    "y2 = Y2_DATA.copy()"
   ],
   "metadata": {
    "collapsed": false,
    "pycharm": {
     "name": "#%%\n"
    }
   }
  },
  {
   "cell_type": "code",
   "execution_count": 8,
   "outputs": [],
   "source": [
    "from sklearn.preprocessing import OneHotEncoder\n",
    "\n",
    "transformer_y1 = OneHotEncoder()"
   ],
   "metadata": {
    "collapsed": false,
    "pycharm": {
     "name": "#%%\n"
    }
   }
  },
  {
   "cell_type": "code",
   "execution_count": 9,
   "outputs": [
    {
     "data": {
      "text/plain": "array([[0., 1., 0.],\n       [0., 0., 1.],\n       [0., 0., 1.],\n       ...,\n       [1., 0., 0.],\n       [0., 1., 0.],\n       [1., 0., 0.]])"
     },
     "execution_count": 9,
     "metadata": {},
     "output_type": "execute_result"
    }
   ],
   "source": [
    "y1 = transformer_y1.fit_transform(Y1_DATA[:, np.newaxis]).toarray()\n",
    "y1"
   ],
   "metadata": {
    "collapsed": false,
    "pycharm": {
     "name": "#%%\n"
    }
   }
  },
  {
   "cell_type": "markdown",
   "source": [
    "### Shuffle"
   ],
   "metadata": {
    "collapsed": false
   }
  },
  {
   "cell_type": "code",
   "execution_count": 10,
   "outputs": [
    {
     "data": {
      "text/plain": "(800, 132)"
     },
     "execution_count": 10,
     "metadata": {},
     "output_type": "execute_result"
    }
   ],
   "source": [
    "t_ = np.hstack([x, y1, y2[:, np.newaxis]])\n",
    "t_.shape"
   ],
   "metadata": {
    "collapsed": false,
    "pycharm": {
     "name": "#%%\n"
    }
   }
  },
  {
   "cell_type": "code",
   "execution_count": 11,
   "outputs": [],
   "source": [
    "np.random.shuffle(t_)\n",
    "x = t_[:, :128].copy()\n",
    "y1 = t_[:, 128:131].copy()\n",
    "y2 = t_[:, 131].copy()\n",
    "y = tf.concat([y1, y2[:, tf.newaxis]], axis=1)\n",
    "%reset_selective -f t_"
   ],
   "metadata": {
    "collapsed": false,
    "pycharm": {
     "name": "#%%\n"
    }
   }
  },
  {
   "cell_type": "markdown",
   "source": [
    "# Model selection\n",
    "### Model 1\n",
    "Сoefficient w_cl in loss1 is 1.0.\n",
    "#### Loss and metrics"
   ],
   "metadata": {
    "collapsed": false,
    "pycharm": {
     "name": "#%% md\n"
    }
   }
  },
  {
   "cell_type": "code",
   "execution_count": 12,
   "outputs": [],
   "source": [
    "def classifier_metric(y_true, y_pred):\n",
    "    return keras.metrics.categorical_accuracy(y_true[:, :3], y_pred)\n",
    "\n",
    "def regressor_metric(y_true, y_pred):\n",
    "    y_true_reg = tf.cast(y_true[:, 3], tf.float32)\n",
    "    y_pred = tf.cast(y_pred, tf.float64)\n",
    "    w_reg = 1 / 3\n",
    "    y_pred_w = tf.cast(y_pred * w_reg, tf.float32)\n",
    "    y_pred_reg = tf.reduce_sum(y_pred_w, axis=1)\n",
    "    return tf.metrics.mean_squared_error(y_true_reg, y_pred_reg)"
   ],
   "metadata": {
    "collapsed": false,
    "pycharm": {
     "name": "#%%\n"
    }
   }
  },
  {
   "cell_type": "code",
   "execution_count": 13,
   "outputs": [
    {
     "name": "stdout",
     "output_type": "stream",
     "text": [
      "tf.Tensor([1. 1. 0. 1.], shape=(4,), dtype=float32)\n",
      "tf.Tensor(528.75, shape=(), dtype=float32)\n"
     ]
    }
   ],
   "source": [
    "# test for metrics\n",
    "y_true_ = tf.constant([[1, 0, 0, 60],\n",
    "                       [0 ,1, 0, 50],\n",
    "                       [0, 0, 1, 20],\n",
    "                       [0, 1, 0, 4]])\n",
    "y_pred_ = tf.constant([[99, 0, 0],\n",
    "                       [0, 99, 0],\n",
    "                       [0, 99, 9],\n",
    "                       [0, 99, 0]])\n",
    "print(classifier_metric(y_true_, y_pred_))\n",
    "print(regressor_metric(y_true_, y_pred_))"
   ],
   "metadata": {
    "collapsed": false,
    "pycharm": {
     "name": "#%%\n"
    }
   }
  },
  {
   "cell_type": "code",
   "execution_count": 14,
   "outputs": [],
   "source": [
    "def get_summands(y_true, y_pred, w_cl=1.):\n",
    "    y_true_cl_ = tf.cast(y_true[:, :3], tf.float32)\n",
    "    y_true_reg_ = tf.cast(y_true[:, 3], tf.float32)\n",
    "    y_pred_ = tf.cast(y_pred, tf.float32)\n",
    "\n",
    "    # classification\n",
    "    y_pred_max = tf.reduce_max(y_pred_, axis=1)[:, tf.newaxis]\n",
    "    y_pred_norm = y_pred_ / y_pred_max\n",
    "    ss_cl = tf.square(y_true_cl_ - y_pred_norm) * w_cl\n",
    "\n",
    "    # regression\n",
    "    w_reg = 1 / 3\n",
    "    y_pred_w = tf.cast(y_pred_ * w_reg, tf.float32)\n",
    "    y_pred_reg = tf.reduce_sum(y_pred_w, axis=1)\n",
    "    ss_reg = tf.square(y_true_reg_ - y_pred_reg)\n",
    "\n",
    "    return tf.concat([ss_cl, ss_reg[:, tf.newaxis]], 1)\n",
    "\n",
    "def loss1(y_true, y_pred):\n",
    "    summands = get_summands(y_true, y_pred, 1.)\n",
    "    return tf.reduce_sum(summands)"
   ],
   "metadata": {
    "collapsed": false,
    "pycharm": {
     "name": "#%%\n"
    }
   }
  },
  {
   "cell_type": "code",
   "execution_count": 15,
   "outputs": [
    {
     "data": {
      "text/plain": "<tf.Tensor: shape=(), dtype=float32, numpy=2040.7374>"
     },
     "execution_count": 15,
     "metadata": {},
     "output_type": "execute_result"
    }
   ],
   "source": [
    "# test for loss1\n",
    "y_true_ = tf.constant([[1, 0, 0, 60],\n",
    "                       [0 ,1, 0, 50],\n",
    "                       [2, 0, 1, 20],\n",
    "                       [0, 1, 0, 4]])\n",
    "y_pred_ = tf.constant([[99, 0, 0],\n",
    "                       [0, 99, 0],\n",
    "                       [1, 0, 99],\n",
    "                       [0, 99, 0]])\n",
    "loss1(y_true_, y_pred_)"
   ],
   "metadata": {
    "collapsed": false,
    "pycharm": {
     "name": "#%%\n"
    }
   }
  },
  {
   "cell_type": "markdown",
   "source": [
    "#### Create model"
   ],
   "metadata": {
    "collapsed": false,
    "pycharm": {
     "name": "#%% md\n"
    }
   }
  },
  {
   "cell_type": "code",
   "execution_count": 16,
   "outputs": [],
   "source": [
    "if SKIP_FLAG.find(\"tm1\") != -1 or SKIP_FLAG.find(\"all\") != -1:\n",
    "    model1 = keras.models.Sequential()\n",
    "    model1.add(keras.layers.Dense(3, activation=\"linear\", use_bias=False, input_shape=[128]))\n",
    "    model1.compile(loss=loss1,\n",
    "                   optimizer=tf.keras.optimizers.Adam(),\n",
    "                   metrics=[classifier_metric, regressor_metric])\n",
    "    history1 = model1.fit(x, y, epochs=300, validation_split=0.2)"
   ],
   "metadata": {
    "collapsed": false,
    "pycharm": {
     "name": "#%%\n"
    }
   }
  },
  {
   "cell_type": "markdown",
   "source": [
    "### Model 2"
   ],
   "metadata": {
    "collapsed": false,
    "pycharm": {
     "name": "#%% md\n"
    }
   }
  },
  {
   "cell_type": "code",
   "execution_count": 17,
   "outputs": [],
   "source": [
    "def loss2(y_true, y_pred):\n",
    "    summands = get_summands(y_true, y_pred)\n",
    "    cl_mul = tf.reduce_sum(summands[:, :3], axis=1)\n",
    "    reg_mul = summands[:, 3]\n",
    "    return tf.reduce_sum(cl_mul * reg_mul)"
   ],
   "metadata": {
    "collapsed": false,
    "pycharm": {
     "name": "#%%\n"
    }
   }
  },
  {
   "cell_type": "code",
   "execution_count": 18,
   "outputs": [
    {
     "data": {
      "text/plain": "<tf.Tensor: shape=(), dtype=float32, numpy=703.9462>"
     },
     "execution_count": 18,
     "metadata": {},
     "output_type": "execute_result"
    }
   ],
   "source": [
    "# test for loss2\n",
    "y_true_ = tf.constant([[1, 0, 0, 60],\n",
    "                       [0 ,1, 0, 50],\n",
    "                       [2, 0, 1, 20],\n",
    "                       [0, 1, 0, 4]])\n",
    "y_pred_ = tf.constant([[99, 0, 0],\n",
    "                       [0, 99, 0],\n",
    "                       [1, 0, 99],\n",
    "                       [0, 99, 0]])\n",
    "loss2(y_true_, y_pred_)"
   ],
   "metadata": {
    "collapsed": false,
    "pycharm": {
     "name": "#%%\n"
    }
   }
  },
  {
   "cell_type": "code",
   "execution_count": 19,
   "outputs": [],
   "source": [
    "if SKIP_FLAG.find(\"tm2\") != -1 or SKIP_FLAG.find(\"all\") != -1:\n",
    "    model2 = keras.models.Sequential()\n",
    "    model2.add(keras.layers.Dense(3, activation=\"linear\", use_bias=False, input_shape=[128]))\n",
    "    model2.compile(loss=loss2,\n",
    "                   optimizer=tf.keras.optimizers.Adam(learning_rate=1e-1),\n",
    "                   metrics=[classifier_metric, regressor_metric])\n",
    "    history2 = model2.fit(x, y, epochs=30, validation_split=0.2)"
   ],
   "metadata": {
    "collapsed": false,
    "pycharm": {
     "name": "#%%\n"
    }
   }
  },
  {
   "cell_type": "markdown",
   "source": [
    "### Model 3"
   ],
   "metadata": {
    "collapsed": false,
    "pycharm": {
     "name": "#%% md\n"
    }
   }
  },
  {
   "cell_type": "code",
   "execution_count": 20,
   "outputs": [],
   "source": [
    "def loss3(y_true, y_pred):\n",
    "    y_true_cl_ = tf.cast(y_true[:, :3], tf.float32)\n",
    "    y_true_reg_ = tf.cast(y_true[:, 3], tf.float32)\n",
    "    y_pred_ = tf.cast(y_pred, tf.float32)\n",
    "\n",
    "    # classification\n",
    "    y_pred_max = tf.reduce_max(y_pred_, axis=1)[:, tf.newaxis]\n",
    "    y_pred_norm = y_pred_ / y_pred_max\n",
    "    ss_cl = tf.square(y_true_cl_ - y_pred_norm)\n",
    "\n",
    "    # regression\n",
    "    w_reg = 1 / 3\n",
    "    thr = tf.sqrt(2.)\n",
    "    y_pred_w = tf.cast(y_pred_ * w_reg, tf.float32)\n",
    "    y_pred_reg = tf.reduce_sum(y_pred_w, axis=1)\n",
    "    delta_reg = y_true_reg_ - y_pred_reg\n",
    "    is_more_threshold = delta_reg >= thr\n",
    "    big_grad = tf.square(2. * delta_reg - thr)\n",
    "    small_grad = tf.square((1/2) * delta_reg) + 1.5\n",
    "    ss_reg = tf.where(is_more_threshold, big_grad, small_grad)\n",
    "    summands = tf.concat([ss_cl, ss_reg[:, tf.newaxis]], 1)\n",
    "\n",
    "    return tf.reduce_sum(summands)"
   ],
   "metadata": {
    "collapsed": false,
    "pycharm": {
     "name": "#%%\n"
    }
   }
  },
  {
   "cell_type": "code",
   "execution_count": 21,
   "outputs": [
    {
     "data": {
      "text/plain": "<tf.Tensor: shape=(), dtype=float32, numpy=4088.7522>"
     },
     "execution_count": 21,
     "metadata": {},
     "output_type": "execute_result"
    }
   ],
   "source": [
    "# test for loss3\n",
    "y_true_ = tf.constant([[1, 0, 0, 60],\n",
    "                       [0 ,1, 0, 50],\n",
    "                       [2, 0, 1, 20],\n",
    "                       [0, 1, 0, 4]])\n",
    "y_pred_ = tf.constant([[99, 0, 0],\n",
    "                       [0, 99, 0],\n",
    "                       [1, 0, 99],\n",
    "                       [0, 99, 0]])\n",
    "loss3(y_true_, y_pred_)"
   ],
   "metadata": {
    "collapsed": false,
    "pycharm": {
     "name": "#%%\n"
    }
   }
  },
  {
   "cell_type": "code",
   "execution_count": 22,
   "outputs": [],
   "source": [
    "if SKIP_FLAG.find(\"tm3\") != -1 or SKIP_FLAG.find(\"all\") != -1:\n",
    "    model3 = keras.models.Sequential()\n",
    "    model3.add(keras.layers.Dense(3, activation=\"linear\", use_bias=False, input_shape=[128]))\n",
    "    model3.compile(loss=loss3,\n",
    "                   optimizer=tf.keras.optimizers.Adam(learning_rate=1e-2),\n",
    "                   metrics=[classifier_metric, regressor_metric])\n",
    "    history3 = model3.fit(x, y, epoch=200, validation_split=0.2)"
   ],
   "metadata": {
    "collapsed": false,
    "pycharm": {
     "name": "#%%\n"
    }
   }
  },
  {
   "cell_type": "markdown",
   "source": [
    "# Setting up the model\n",
    "Model 1 selected."
   ],
   "metadata": {
    "collapsed": false,
    "pycharm": {
     "name": "#%% md\n"
    }
   }
  },
  {
   "cell_type": "code",
   "execution_count": 23,
   "outputs": [],
   "source": [
    "def loss1_w(w_cl=1.):\n",
    "    def loss1_(y_true, y_pred):\n",
    "        summands = get_summands(y_true, y_pred, w_cl)\n",
    "        return tf.reduce_sum(summands)\n",
    "    return loss1_"
   ],
   "metadata": {
    "collapsed": false,
    "pycharm": {
     "name": "#%%\n"
    }
   }
  },
  {
   "cell_type": "markdown",
   "source": [
    "### Final model 1.0"
   ],
   "metadata": {
    "collapsed": false,
    "pycharm": {
     "name": "#%% md\n"
    }
   }
  },
  {
   "cell_type": "code",
   "execution_count": 36,
   "outputs": [
    {
     "name": "stdout",
     "output_type": "stream",
     "text": [
      "Epoch 1/100\n",
      "40/40 [==============================] - 6s 40ms/step - loss: 3562.8628 - classifier_metric: 0.3250 - regressor_metric: 220.9781 - val_loss: 374.9240 - val_classifier_metric: 0.3812 - val_regressor_metric: 22.3540\n",
      "Epoch 2/100\n",
      "40/40 [==============================] - 0s 5ms/step - loss: 177.0305 - classifier_metric: 0.3250 - regressor_metric: 9.9159 - val_loss: 115.3935 - val_classifier_metric: 0.3812 - val_regressor_metric: 6.1427\n",
      "Epoch 3/100\n",
      "40/40 [==============================] - 0s 7ms/step - loss: 98.3443 - classifier_metric: 0.3250 - regressor_metric: 5.0068 - val_loss: 82.9131 - val_classifier_metric: 0.3812 - val_regressor_metric: 4.1165\n",
      "Epoch 4/100\n",
      "40/40 [==============================] - 0s 6ms/step - loss: 76.3080 - classifier_metric: 0.3250 - regressor_metric: 3.6324 - val_loss: 74.3041 - val_classifier_metric: 0.3812 - val_regressor_metric: 3.5816\n",
      "Epoch 5/100\n",
      "40/40 [==============================] - 0s 6ms/step - loss: 67.4696 - classifier_metric: 0.3281 - regressor_metric: 3.0853 - val_loss: 70.1198 - val_classifier_metric: 0.3812 - val_regressor_metric: 3.3226\n",
      "Epoch 6/100\n",
      "40/40 [==============================] - 0s 4ms/step - loss: 64.4302 - classifier_metric: 0.3281 - regressor_metric: 2.8980 - val_loss: 73.3211 - val_classifier_metric: 0.3812 - val_regressor_metric: 3.5268\n",
      "Epoch 7/100\n",
      "40/40 [==============================] - 0s 2ms/step - loss: 66.4020 - classifier_metric: 0.3281 - regressor_metric: 3.0270 - val_loss: 80.2433 - val_classifier_metric: 0.3812 - val_regressor_metric: 3.9624\n",
      "Epoch 8/100\n",
      "40/40 [==============================] - 0s 2ms/step - loss: 67.4522 - classifier_metric: 0.3281 - regressor_metric: 3.0977 - val_loss: 73.5098 - val_classifier_metric: 0.3812 - val_regressor_metric: 3.5457\n",
      "Epoch 9/100\n",
      "40/40 [==============================] - 0s 3ms/step - loss: 59.2648 - classifier_metric: 0.3281 - regressor_metric: 2.5904 - val_loss: 67.6851 - val_classifier_metric: 0.3812 - val_regressor_metric: 3.1860\n",
      "Epoch 10/100\n",
      "40/40 [==============================] - 0s 2ms/step - loss: 54.2028 - classifier_metric: 0.3281 - regressor_metric: 2.2785 - val_loss: 62.5172 - val_classifier_metric: 0.3812 - val_regressor_metric: 2.8674\n",
      "Epoch 11/100\n",
      "40/40 [==============================] - 0s 2ms/step - loss: 57.5358 - classifier_metric: 0.3281 - regressor_metric: 2.4927 - val_loss: 71.1773 - val_classifier_metric: 0.3812 - val_regressor_metric: 3.4120\n",
      "Epoch 12/100\n",
      "40/40 [==============================] - 0s 6ms/step - loss: 58.1997 - classifier_metric: 0.3281 - regressor_metric: 2.5390 - val_loss: 64.1907 - val_classifier_metric: 0.3812 - val_regressor_metric: 2.9808\n",
      "Epoch 13/100\n",
      "40/40 [==============================] - 0s 9ms/step - loss: 51.8137 - classifier_metric: 0.3313 - regressor_metric: 2.1461 - val_loss: 56.6491 - val_classifier_metric: 0.3812 - val_regressor_metric: 2.5134\n",
      "Epoch 14/100\n",
      "40/40 [==============================] - 0s 9ms/step - loss: 48.3188 - classifier_metric: 0.3313 - regressor_metric: 1.9327 - val_loss: 64.2581 - val_classifier_metric: 0.3812 - val_regressor_metric: 2.9922\n",
      "Epoch 15/100\n",
      "40/40 [==============================] - 0s 8ms/step - loss: 52.4027 - classifier_metric: 0.3313 - regressor_metric: 2.1939 - val_loss: 57.4831 - val_classifier_metric: 0.3812 - val_regressor_metric: 2.5734\n",
      "Epoch 16/100\n",
      "40/40 [==============================] - 0s 10ms/step - loss: 50.8131 - classifier_metric: 0.3313 - regressor_metric: 2.1002 - val_loss: 51.0893 - val_classifier_metric: 0.3812 - val_regressor_metric: 2.1802\n",
      "Epoch 17/100\n",
      "40/40 [==============================] - 0s 12ms/step - loss: 48.4234 - classifier_metric: 0.3313 - regressor_metric: 1.9560 - val_loss: 65.2483 - val_classifier_metric: 0.3812 - val_regressor_metric: 3.0652\n",
      "Epoch 18/100\n",
      "40/40 [==============================] - 0s 9ms/step - loss: 49.7469 - classifier_metric: 0.3313 - regressor_metric: 2.0442 - val_loss: 51.2627 - val_classifier_metric: 0.3812 - val_regressor_metric: 2.1981\n",
      "Epoch 19/100\n",
      "40/40 [==============================] - 0s 10ms/step - loss: 44.9932 - classifier_metric: 0.3313 - regressor_metric: 1.7523 - val_loss: 48.4748 - val_classifier_metric: 0.3812 - val_regressor_metric: 2.0273\n",
      "Epoch 20/100\n",
      "40/40 [==============================] - 0s 10ms/step - loss: 40.9676 - classifier_metric: 0.3328 - regressor_metric: 1.5060 - val_loss: 46.4313 - val_classifier_metric: 0.3812 - val_regressor_metric: 1.9041\n",
      "Epoch 21/100\n",
      "40/40 [==============================] - 0s 9ms/step - loss: 44.0816 - classifier_metric: 0.3328 - regressor_metric: 1.7061 - val_loss: 49.9817 - val_classifier_metric: 0.3812 - val_regressor_metric: 2.1297\n",
      "Epoch 22/100\n",
      "40/40 [==============================] - 0s 8ms/step - loss: 41.4013 - classifier_metric: 0.3328 - regressor_metric: 1.5444 - val_loss: 45.0412 - val_classifier_metric: 0.3875 - val_regressor_metric: 1.8273\n",
      "Epoch 23/100\n",
      "40/40 [==============================] - 0s 8ms/step - loss: 39.8807 - classifier_metric: 0.3344 - regressor_metric: 1.4544 - val_loss: 46.2621 - val_classifier_metric: 0.3875 - val_regressor_metric: 1.9078\n",
      "Epoch 24/100\n",
      "40/40 [==============================] - 0s 8ms/step - loss: 39.2419 - classifier_metric: 0.3375 - regressor_metric: 1.4198 - val_loss: 42.8560 - val_classifier_metric: 0.3938 - val_regressor_metric: 1.6969\n",
      "Epoch 25/100\n",
      "40/40 [==============================] - 0s 9ms/step - loss: 47.4553 - classifier_metric: 0.3438 - regressor_metric: 1.9371 - val_loss: 45.1930 - val_classifier_metric: 0.3938 - val_regressor_metric: 1.8498\n",
      "Epoch 26/100\n",
      "40/40 [==============================] - 1s 13ms/step - loss: 38.4529 - classifier_metric: 0.3469 - regressor_metric: 1.3814 - val_loss: 40.1290 - val_classifier_metric: 0.3938 - val_regressor_metric: 1.5367\n",
      "Epoch 27/100\n",
      "40/40 [==============================] - 0s 11ms/step - loss: 38.3122 - classifier_metric: 0.3484 - regressor_metric: 1.3785 - val_loss: 45.4905 - val_classifier_metric: 0.4000 - val_regressor_metric: 1.8751\n",
      "Epoch 28/100\n",
      "40/40 [==============================] - 0s 11ms/step - loss: 39.1126 - classifier_metric: 0.3516 - regressor_metric: 1.4354 - val_loss: 44.5745 - val_classifier_metric: 0.4000 - val_regressor_metric: 1.8251\n",
      "Epoch 29/100\n",
      "40/40 [==============================] - 0s 11ms/step - loss: 46.1259 - classifier_metric: 0.3516 - regressor_metric: 1.8783 - val_loss: 47.6134 - val_classifier_metric: 0.4000 - val_regressor_metric: 2.0229\n",
      "Epoch 30/100\n",
      "40/40 [==============================] - 0s 8ms/step - loss: 38.9613 - classifier_metric: 0.3578 - regressor_metric: 1.4377 - val_loss: 39.9640 - val_classifier_metric: 0.4000 - val_regressor_metric: 1.5488\n",
      "Epoch 31/100\n",
      "40/40 [==============================] - 0s 8ms/step - loss: 37.4300 - classifier_metric: 0.3578 - regressor_metric: 1.3474 - val_loss: 37.3397 - val_classifier_metric: 0.4000 - val_regressor_metric: 1.3879\n",
      "Epoch 32/100\n",
      "40/40 [==============================] - 0s 8ms/step - loss: 35.3643 - classifier_metric: 0.3609 - regressor_metric: 1.2245 - val_loss: 37.9291 - val_classifier_metric: 0.4062 - val_regressor_metric: 1.4297\n",
      "Epoch 33/100\n",
      "40/40 [==============================] - 0s 7ms/step - loss: 37.6441 - classifier_metric: 0.3609 - regressor_metric: 1.3733 - val_loss: 39.9871 - val_classifier_metric: 0.4062 - val_regressor_metric: 1.5617\n",
      "Epoch 34/100\n",
      "40/40 [==============================] - 0s 9ms/step - loss: 40.5685 - classifier_metric: 0.3672 - regressor_metric: 1.5611 - val_loss: 39.2576 - val_classifier_metric: 0.4187 - val_regressor_metric: 1.5248\n",
      "Epoch 35/100\n",
      "40/40 [==============================] - 0s 6ms/step - loss: 35.9594 - classifier_metric: 0.3672 - regressor_metric: 1.2791 - val_loss: 37.9769 - val_classifier_metric: 0.4187 - val_regressor_metric: 1.4483\n",
      "Epoch 36/100\n",
      "40/40 [==============================] - 0s 6ms/step - loss: 38.9009 - classifier_metric: 0.3719 - regressor_metric: 1.4683 - val_loss: 37.9382 - val_classifier_metric: 0.4187 - val_regressor_metric: 1.4513\n",
      "Epoch 37/100\n",
      "40/40 [==============================] - 0s 6ms/step - loss: 36.6754 - classifier_metric: 0.3766 - regressor_metric: 1.3360 - val_loss: 43.4445 - val_classifier_metric: 0.4250 - val_regressor_metric: 1.7964\n",
      "Epoch 38/100\n",
      "40/40 [==============================] - 0s 6ms/step - loss: 38.4554 - classifier_metric: 0.3781 - regressor_metric: 1.4521 - val_loss: 36.3737 - val_classifier_metric: 0.4250 - val_regressor_metric: 1.3630\n",
      "Epoch 39/100\n",
      "40/40 [==============================] - 0s 6ms/step - loss: 38.4604 - classifier_metric: 0.3781 - regressor_metric: 1.4589 - val_loss: 39.4904 - val_classifier_metric: 0.4250 - val_regressor_metric: 1.5623\n",
      "Epoch 40/100\n",
      "40/40 [==============================] - 0s 6ms/step - loss: 39.4924 - classifier_metric: 0.3812 - regressor_metric: 1.5285 - val_loss: 36.7067 - val_classifier_metric: 0.4375 - val_regressor_metric: 1.3921\n",
      "Epoch 41/100\n",
      "40/40 [==============================] - 0s 6ms/step - loss: 37.1847 - classifier_metric: 0.3828 - regressor_metric: 1.3898 - val_loss: 45.3849 - val_classifier_metric: 0.4437 - val_regressor_metric: 1.9359\n",
      "Epoch 42/100\n",
      "40/40 [==============================] - 0s 6ms/step - loss: 38.3972 - classifier_metric: 0.3891 - regressor_metric: 1.4712 - val_loss: 53.8498 - val_classifier_metric: 0.4500 - val_regressor_metric: 2.4791\n",
      "Epoch 43/100\n",
      "40/40 [==============================] - 0s 6ms/step - loss: 39.0813 - classifier_metric: 0.3969 - regressor_metric: 1.5193 - val_loss: 37.3182 - val_classifier_metric: 0.4563 - val_regressor_metric: 1.4456\n",
      "Epoch 44/100\n",
      "40/40 [==============================] - 0s 6ms/step - loss: 50.6091 - classifier_metric: 0.4000 - regressor_metric: 2.2448 - val_loss: 42.7642 - val_classifier_metric: 0.4625 - val_regressor_metric: 1.7920\n",
      "Epoch 45/100\n",
      "40/40 [==============================] - 0s 6ms/step - loss: 39.3954 - classifier_metric: 0.4016 - regressor_metric: 1.5507 - val_loss: 40.0919 - val_classifier_metric: 0.4625 - val_regressor_metric: 1.6296\n",
      "Epoch 46/100\n",
      "40/40 [==============================] - 0s 7ms/step - loss: 53.4586 - classifier_metric: 0.4062 - regressor_metric: 2.4342 - val_loss: 76.8234 - val_classifier_metric: 0.4625 - val_regressor_metric: 3.9236\n",
      "Epoch 47/100\n",
      "40/40 [==============================] - 0s 6ms/step - loss: 78.4984 - classifier_metric: 0.4141 - regressor_metric: 4.0031 - val_loss: 49.9438 - val_classifier_metric: 0.4688 - val_regressor_metric: 2.2550\n",
      "Epoch 48/100\n",
      "40/40 [==============================] - 0s 6ms/step - loss: 48.0844 - classifier_metric: 0.4141 - regressor_metric: 2.1097 - val_loss: 62.9063 - val_classifier_metric: 0.4688 - val_regressor_metric: 3.0763\n",
      "Epoch 49/100\n",
      "40/40 [==============================] - 0s 6ms/step - loss: 42.7062 - classifier_metric: 0.4187 - regressor_metric: 1.7784 - val_loss: 54.6207 - val_classifier_metric: 0.4750 - val_regressor_metric: 2.5490\n",
      "Epoch 50/100\n",
      "40/40 [==============================] - 0s 6ms/step - loss: 39.7201 - classifier_metric: 0.4219 - regressor_metric: 1.5963 - val_loss: 37.7211 - val_classifier_metric: 0.4750 - val_regressor_metric: 1.5055\n",
      "Epoch 51/100\n",
      "40/40 [==============================] - 0s 8ms/step - loss: 40.9257 - classifier_metric: 0.4250 - regressor_metric: 1.6774 - val_loss: 38.0780 - val_classifier_metric: 0.4812 - val_regressor_metric: 1.5318\n",
      "Epoch 52/100\n",
      "40/40 [==============================] - 0s 8ms/step - loss: 43.3768 - classifier_metric: 0.4328 - regressor_metric: 1.8351 - val_loss: 37.5829 - val_classifier_metric: 0.4875 - val_regressor_metric: 1.5040\n",
      "Epoch 53/100\n",
      "40/40 [==============================] - 0s 7ms/step - loss: 39.4453 - classifier_metric: 0.4359 - regressor_metric: 1.5958 - val_loss: 50.9952 - val_classifier_metric: 0.4875 - val_regressor_metric: 2.3422\n",
      "Epoch 54/100\n",
      "40/40 [==============================] - 0s 6ms/step - loss: 52.6937 - classifier_metric: 0.4391 - regressor_metric: 2.4287 - val_loss: 54.0807 - val_classifier_metric: 0.4938 - val_regressor_metric: 2.5399\n",
      "Epoch 55/100\n",
      "40/40 [==============================] - 0s 6ms/step - loss: 41.7697 - classifier_metric: 0.4422 - regressor_metric: 1.7501 - val_loss: 58.1117 - val_classifier_metric: 0.5000 - val_regressor_metric: 2.8059\n",
      "Epoch 56/100\n",
      "40/40 [==============================] - 0s 5ms/step - loss: 45.9922 - classifier_metric: 0.4500 - regressor_metric: 2.0192 - val_loss: 48.2756 - val_classifier_metric: 0.5000 - val_regressor_metric: 2.1848\n",
      "Epoch 57/100\n",
      "40/40 [==============================] - 0s 6ms/step - loss: 41.5730 - classifier_metric: 0.4547 - regressor_metric: 1.7479 - val_loss: 52.4786 - val_classifier_metric: 0.5000 - val_regressor_metric: 2.4597\n",
      "Epoch 58/100\n",
      "40/40 [==============================] - 0s 5ms/step - loss: 40.1156 - classifier_metric: 0.4563 - regressor_metric: 1.6619 - val_loss: 35.7167 - val_classifier_metric: 0.5063 - val_regressor_metric: 1.4138\n",
      "Epoch 59/100\n",
      "40/40 [==============================] - 0s 5ms/step - loss: 36.4665 - classifier_metric: 0.4594 - regressor_metric: 1.4380 - val_loss: 33.8275 - val_classifier_metric: 0.5063 - val_regressor_metric: 1.3003\n",
      "Epoch 60/100\n",
      "40/40 [==============================] - 0s 7ms/step - loss: 41.3349 - classifier_metric: 0.4594 - regressor_metric: 1.7465 - val_loss: 63.3339 - val_classifier_metric: 0.5125 - val_regressor_metric: 3.1401\n",
      "Epoch 61/100\n",
      "40/40 [==============================] - 0s 6ms/step - loss: 39.7414 - classifier_metric: 0.4625 - regressor_metric: 1.6515 - val_loss: 51.6358 - val_classifier_metric: 0.5125 - val_regressor_metric: 2.4252\n",
      "Epoch 62/100\n",
      "40/40 [==============================] - 0s 5ms/step - loss: 37.5948 - classifier_metric: 0.4641 - regressor_metric: 1.5221 - val_loss: 50.2015 - val_classifier_metric: 0.5125 - val_regressor_metric: 2.3306\n",
      "Epoch 63/100\n",
      "40/40 [==============================] - 0s 8ms/step - loss: 45.9664 - classifier_metric: 0.4672 - regressor_metric: 2.0483 - val_loss: 60.3411 - val_classifier_metric: 0.5125 - val_regressor_metric: 2.9673\n",
      "Epoch 64/100\n",
      "40/40 [==============================] - 0s 9ms/step - loss: 45.2472 - classifier_metric: 0.4703 - regressor_metric: 2.0079 - val_loss: 41.3217 - val_classifier_metric: 0.5125 - val_regressor_metric: 1.7893\n",
      "Epoch 65/100\n",
      "40/40 [==============================] - 0s 10ms/step - loss: 57.7355 - classifier_metric: 0.4734 - regressor_metric: 2.7922 - val_loss: 59.0334 - val_classifier_metric: 0.5125 - val_regressor_metric: 2.8921\n",
      "Epoch 66/100\n",
      "40/40 [==============================] - 0s 8ms/step - loss: 42.4019 - classifier_metric: 0.4750 - regressor_metric: 1.8392 - val_loss: 41.3056 - val_classifier_metric: 0.5125 - val_regressor_metric: 1.7931\n",
      "Epoch 67/100\n",
      "40/40 [==============================] - 0s 8ms/step - loss: 41.5454 - classifier_metric: 0.4797 - regressor_metric: 1.7889 - val_loss: 52.5884 - val_classifier_metric: 0.5125 - val_regressor_metric: 2.4951\n",
      "Epoch 68/100\n",
      "40/40 [==============================] - 0s 8ms/step - loss: 44.7736 - classifier_metric: 0.4812 - regressor_metric: 1.9948 - val_loss: 52.9379 - val_classifier_metric: 0.5375 - val_regressor_metric: 2.5212\n",
      "Epoch 69/100\n",
      "40/40 [==============================] - 0s 7ms/step - loss: 46.8224 - classifier_metric: 0.4828 - regressor_metric: 2.1276 - val_loss: 67.8575 - val_classifier_metric: 0.5375 - val_regressor_metric: 3.4555\n",
      "Epoch 70/100\n",
      "40/40 [==============================] - 0s 6ms/step - loss: 51.3531 - classifier_metric: 0.4844 - regressor_metric: 2.4142 - val_loss: 62.8338 - val_classifier_metric: 0.5375 - val_regressor_metric: 3.1613\n",
      "Epoch 71/100\n",
      "40/40 [==============================] - 0s 8ms/step - loss: 41.8933 - classifier_metric: 0.4984 - regressor_metric: 1.8264 - val_loss: 71.1034 - val_classifier_metric: 0.5437 - val_regressor_metric: 3.6833\n",
      "Epoch 72/100\n",
      "40/40 [==============================] - 0s 8ms/step - loss: 47.6671 - classifier_metric: 0.5063 - regressor_metric: 2.1924 - val_loss: 44.4961 - val_classifier_metric: 0.5437 - val_regressor_metric: 2.0169\n",
      "Epoch 73/100\n",
      "40/40 [==============================] - 0s 7ms/step - loss: 46.7983 - classifier_metric: 0.5094 - regressor_metric: 2.1426 - val_loss: 43.2280 - val_classifier_metric: 0.5437 - val_regressor_metric: 1.9354\n",
      "Epoch 74/100\n",
      "40/40 [==============================] - 0s 8ms/step - loss: 49.3232 - classifier_metric: 0.5141 - regressor_metric: 2.3026 - val_loss: 54.4764 - val_classifier_metric: 0.5437 - val_regressor_metric: 2.6515\n",
      "Epoch 75/100\n",
      "40/40 [==============================] - 0s 6ms/step - loss: 45.5579 - classifier_metric: 0.5203 - regressor_metric: 2.0729 - val_loss: 42.2376 - val_classifier_metric: 0.5375 - val_regressor_metric: 1.8819\n",
      "Epoch 76/100\n",
      "40/40 [==============================] - 0s 6ms/step - loss: 48.0582 - classifier_metric: 0.5234 - regressor_metric: 2.2327 - val_loss: 69.6395 - val_classifier_metric: 0.5375 - val_regressor_metric: 3.6083\n",
      "Epoch 77/100\n",
      "40/40 [==============================] - 0s 8ms/step - loss: 58.8792 - classifier_metric: 0.5281 - regressor_metric: 2.9132 - val_loss: 52.7959 - val_classifier_metric: 0.5375 - val_regressor_metric: 2.5539\n",
      "Epoch 78/100\n",
      "40/40 [==============================] - 0s 7ms/step - loss: 41.6206 - classifier_metric: 0.5281 - regressor_metric: 1.8381 - val_loss: 38.0612 - val_classifier_metric: 0.5437 - val_regressor_metric: 1.6315\n",
      "Epoch 79/100\n",
      "40/40 [==============================] - 0s 6ms/step - loss: 50.8693 - classifier_metric: 0.5375 - regressor_metric: 2.4202 - val_loss: 38.0589 - val_classifier_metric: 0.5500 - val_regressor_metric: 1.6333\n",
      "Epoch 80/100\n",
      "40/40 [==============================] - 0s 6ms/step - loss: 35.2111 - classifier_metric: 0.5422 - regressor_metric: 1.4451 - val_loss: 38.0705 - val_classifier_metric: 0.5625 - val_regressor_metric: 1.6352\n",
      "Epoch 81/100\n",
      "40/40 [==============================] - 0s 7ms/step - loss: 47.0061 - classifier_metric: 0.5500 - regressor_metric: 2.1861 - val_loss: 42.6964 - val_classifier_metric: 0.5750 - val_regressor_metric: 1.9328\n",
      "Epoch 82/100\n",
      "40/40 [==============================] - 0s 6ms/step - loss: 38.9153 - classifier_metric: 0.5547 - regressor_metric: 1.6838 - val_loss: 37.4175 - val_classifier_metric: 0.5875 - val_regressor_metric: 1.6050\n",
      "Epoch 83/100\n",
      "40/40 [==============================] - 0s 6ms/step - loss: 49.7317 - classifier_metric: 0.5625 - regressor_metric: 2.3635 - val_loss: 43.6425 - val_classifier_metric: 0.5875 - val_regressor_metric: 1.9995\n",
      "Epoch 84/100\n",
      "40/40 [==============================] - 0s 6ms/step - loss: 48.1667 - classifier_metric: 0.5719 - regressor_metric: 2.2709 - val_loss: 38.1265 - val_classifier_metric: 0.5875 - val_regressor_metric: 1.6520\n",
      "Epoch 85/100\n",
      "40/40 [==============================] - 0s 5ms/step - loss: 40.4964 - classifier_metric: 0.5828 - regressor_metric: 1.7960 - val_loss: 46.7010 - val_classifier_metric: 0.5875 - val_regressor_metric: 2.1871\n",
      "Epoch 86/100\n",
      "40/40 [==============================] - 0s 5ms/step - loss: 42.6213 - classifier_metric: 0.5906 - regressor_metric: 1.9318 - val_loss: 54.3201 - val_classifier_metric: 0.6125 - val_regressor_metric: 2.6670\n",
      "Epoch 87/100\n",
      "40/40 [==============================] - 0s 5ms/step - loss: 52.9078 - classifier_metric: 0.5984 - regressor_metric: 2.5802 - val_loss: 43.8222 - val_classifier_metric: 0.6313 - val_regressor_metric: 2.0192\n",
      "Epoch 88/100\n",
      "40/40 [==============================] - 0s 5ms/step - loss: 40.8669 - classifier_metric: 0.6047 - regressor_metric: 1.8308 - val_loss: 36.7127 - val_classifier_metric: 0.6313 - val_regressor_metric: 1.5793\n",
      "Epoch 89/100\n",
      "40/40 [==============================] - 0s 4ms/step - loss: 45.2367 - classifier_metric: 0.6078 - regressor_metric: 2.1075 - val_loss: 40.7011 - val_classifier_metric: 0.6500 - val_regressor_metric: 1.8342\n",
      "Epoch 90/100\n",
      "40/40 [==============================] - 0s 4ms/step - loss: 51.2215 - classifier_metric: 0.6187 - regressor_metric: 2.4858 - val_loss: 160.9018 - val_classifier_metric: 0.6562 - val_regressor_metric: 9.3713\n",
      "Epoch 91/100\n",
      "40/40 [==============================] - 0s 5ms/step - loss: 56.9119 - classifier_metric: 0.6250 - regressor_metric: 2.8455 - val_loss: 42.3328 - val_classifier_metric: 0.6562 - val_regressor_metric: 1.9461\n",
      "Epoch 92/100\n",
      "40/40 [==============================] - 0s 4ms/step - loss: 56.9159 - classifier_metric: 0.6297 - regressor_metric: 2.8492 - val_loss: 70.8429 - val_classifier_metric: 0.6687 - val_regressor_metric: 3.7420\n",
      "Epoch 93/100\n",
      "40/40 [==============================] - 0s 6ms/step - loss: 49.0654 - classifier_metric: 0.6297 - regressor_metric: 2.3633 - val_loss: 48.2032 - val_classifier_metric: 0.6750 - val_regressor_metric: 2.3158\n",
      "Epoch 94/100\n",
      "40/40 [==============================] - 0s 4ms/step - loss: 51.3883 - classifier_metric: 0.6344 - regressor_metric: 2.5115 - val_loss: 35.6369 - val_classifier_metric: 0.6812 - val_regressor_metric: 1.5375\n",
      "Epoch 95/100\n",
      "40/40 [==============================] - 0s 4ms/step - loss: 39.0469 - classifier_metric: 0.6375 - regressor_metric: 1.7430 - val_loss: 38.6148 - val_classifier_metric: 0.6812 - val_regressor_metric: 1.7317\n",
      "Epoch 96/100\n",
      "40/40 [==============================] - 0s 4ms/step - loss: 39.3057 - classifier_metric: 0.6469 - regressor_metric: 1.7628 - val_loss: 91.1245 - val_classifier_metric: 0.7000 - val_regressor_metric: 5.0014\n",
      "Epoch 97/100\n",
      "40/40 [==============================] - 0s 4ms/step - loss: 49.5915 - classifier_metric: 0.6625 - regressor_metric: 2.4103 - val_loss: 49.2786 - val_classifier_metric: 0.7000 - val_regressor_metric: 2.4102\n",
      "Epoch 98/100\n",
      "40/40 [==============================] - 0s 4ms/step - loss: 55.5484 - classifier_metric: 0.6797 - regressor_metric: 2.7863 - val_loss: 46.3502 - val_classifier_metric: 0.7063 - val_regressor_metric: 2.2227\n",
      "Epoch 99/100\n",
      "40/40 [==============================] - 0s 4ms/step - loss: 78.0806 - classifier_metric: 0.6969 - regressor_metric: 4.2010 - val_loss: 51.0181 - val_classifier_metric: 0.7125 - val_regressor_metric: 2.5215\n",
      "Epoch 100/100\n",
      "40/40 [==============================] - 0s 4ms/step - loss: 66.1219 - classifier_metric: 0.7172 - regressor_metric: 3.4600 - val_loss: 42.2240 - val_classifier_metric: 0.7312 - val_regressor_metric: 1.9793\n"
     ]
    }
   ],
   "source": [
    "if SKIP_FLAG.find(\"fm1_0\") != -1 or SKIP_FLAG.find(\"all\") != -1:\n",
    "    finmod1_0 = keras.models.Sequential()\n",
    "    finmod1_0.add(keras.layers.Dense(3, activation=\"linear\", use_bias=False, input_shape=[128]))\n",
    "    finmod1_0.compile(loss=loss1_w(),\n",
    "                      optimizer=keras.optimizers.Adam(learning_rate=1e-2),\n",
    "                      metrics=[classifier_metric, regressor_metric])\n",
    "    history1_0 = finmod1_0.fit(x, y, epochs=100, validation_split=0.2, batch_size=16)"
   ],
   "metadata": {
    "collapsed": false,
    "pycharm": {
     "name": "#%%\n"
    }
   }
  },
  {
   "cell_type": "code",
   "execution_count": 37,
   "outputs": [
    {
     "name": "stdout",
     "output_type": "stream",
     "text": [
      "Epoch 1/100\n",
      "20/20 [==============================] - 2s 34ms/step - loss: 556.8781 - classifier_metric: 0.7266 - regressor_metric: 16.7336 - val_loss: 496.8579 - val_classifier_metric: 0.7312 - val_regressor_metric: 14.8405\n",
      "Epoch 2/100\n",
      "20/20 [==============================] - 0s 4ms/step - loss: 156.6871 - classifier_metric: 0.7281 - regressor_metric: 4.2293 - val_loss: 84.5724 - val_classifier_metric: 0.7312 - val_regressor_metric: 1.9831\n",
      "Epoch 3/100\n",
      "20/20 [==============================] - 0s 4ms/step - loss: 61.8993 - classifier_metric: 0.7328 - regressor_metric: 1.2690 - val_loss: 68.7042 - val_classifier_metric: 0.7312 - val_regressor_metric: 1.4883\n",
      "Epoch 4/100\n",
      "20/20 [==============================] - 0s 3ms/step - loss: 51.7181 - classifier_metric: 0.7375 - regressor_metric: 0.9528 - val_loss: 59.9102 - val_classifier_metric: 0.7437 - val_regressor_metric: 1.2202\n",
      "Epoch 5/100\n",
      "20/20 [==============================] - 0s 3ms/step - loss: 53.6742 - classifier_metric: 0.7422 - regressor_metric: 1.0172 - val_loss: 63.5834 - val_classifier_metric: 0.7500 - val_regressor_metric: 1.3402\n",
      "Epoch 6/100\n",
      "20/20 [==============================] - 0s 3ms/step - loss: 54.1029 - classifier_metric: 0.7453 - regressor_metric: 1.0331 - val_loss: 62.4301 - val_classifier_metric: 0.7563 - val_regressor_metric: 1.3009\n",
      "Epoch 7/100\n",
      "20/20 [==============================] - 0s 3ms/step - loss: 51.2846 - classifier_metric: 0.7469 - regressor_metric: 0.9476 - val_loss: 58.9304 - val_classifier_metric: 0.7625 - val_regressor_metric: 1.1963\n",
      "Epoch 8/100\n",
      "20/20 [==============================] - 0s 6ms/step - loss: 52.6555 - classifier_metric: 0.7484 - regressor_metric: 0.9942 - val_loss: 58.7876 - val_classifier_metric: 0.7625 - val_regressor_metric: 1.1972\n",
      "Epoch 9/100\n",
      "20/20 [==============================] - 0s 12ms/step - loss: 51.0831 - classifier_metric: 0.7516 - regressor_metric: 0.9475 - val_loss: 60.6191 - val_classifier_metric: 0.7625 - val_regressor_metric: 1.2566\n",
      "Epoch 10/100\n",
      "20/20 [==============================] - 0s 12ms/step - loss: 52.6762 - classifier_metric: 0.7609 - regressor_metric: 1.0000 - val_loss: 70.2363 - val_classifier_metric: 0.7625 - val_regressor_metric: 1.5638\n",
      "Epoch 11/100\n",
      "20/20 [==============================] - 0s 11ms/step - loss: 61.6376 - classifier_metric: 0.7688 - regressor_metric: 1.2836 - val_loss: 76.1915 - val_classifier_metric: 0.7750 - val_regressor_metric: 1.7419\n",
      "Epoch 12/100\n",
      "20/20 [==============================] - 0s 11ms/step - loss: 62.0141 - classifier_metric: 0.7812 - regressor_metric: 1.2992 - val_loss: 70.5273 - val_classifier_metric: 0.7812 - val_regressor_metric: 1.5773\n",
      "Epoch 13/100\n",
      "20/20 [==============================] - 0s 12ms/step - loss: 55.7028 - classifier_metric: 0.7859 - regressor_metric: 1.1054 - val_loss: 69.5105 - val_classifier_metric: 0.7875 - val_regressor_metric: 1.5509\n",
      "Epoch 14/100\n",
      "20/20 [==============================] - 0s 11ms/step - loss: 53.1388 - classifier_metric: 0.7906 - regressor_metric: 1.0295 - val_loss: 76.1279 - val_classifier_metric: 0.7875 - val_regressor_metric: 1.7499\n",
      "Epoch 15/100\n",
      "20/20 [==============================] - 0s 14ms/step - loss: 57.4974 - classifier_metric: 0.7969 - regressor_metric: 1.1692 - val_loss: 58.6806 - val_classifier_metric: 0.7875 - val_regressor_metric: 1.2137\n",
      "Epoch 16/100\n",
      "20/20 [==============================] - 0s 12ms/step - loss: 55.9568 - classifier_metric: 0.8047 - regressor_metric: 1.1248 - val_loss: 60.5902 - val_classifier_metric: 0.8000 - val_regressor_metric: 1.2773\n",
      "Epoch 17/100\n",
      "20/20 [==============================] - 0s 15ms/step - loss: 66.1848 - classifier_metric: 0.8141 - regressor_metric: 1.4495 - val_loss: 62.6725 - val_classifier_metric: 0.8062 - val_regressor_metric: 1.3415\n",
      "Epoch 18/100\n",
      "20/20 [==============================] - 0s 14ms/step - loss: 63.5148 - classifier_metric: 0.8234 - regressor_metric: 1.3700 - val_loss: 58.5766 - val_classifier_metric: 0.8125 - val_regressor_metric: 1.2195\n",
      "Epoch 19/100\n",
      "20/20 [==============================] - 0s 11ms/step - loss: 61.2650 - classifier_metric: 0.8313 - regressor_metric: 1.3048 - val_loss: 60.1540 - val_classifier_metric: 0.8250 - val_regressor_metric: 1.2691\n",
      "Epoch 20/100\n",
      "20/20 [==============================] - 0s 12ms/step - loss: 55.7253 - classifier_metric: 0.8422 - regressor_metric: 1.1359 - val_loss: 63.0288 - val_classifier_metric: 0.8375 - val_regressor_metric: 1.3628\n",
      "Epoch 21/100\n",
      "20/20 [==============================] - 0s 11ms/step - loss: 67.2852 - classifier_metric: 0.8562 - regressor_metric: 1.5029 - val_loss: 81.1639 - val_classifier_metric: 0.8500 - val_regressor_metric: 1.9404\n",
      "Epoch 22/100\n",
      "20/20 [==============================] - 0s 11ms/step - loss: 63.4656 - classifier_metric: 0.8656 - regressor_metric: 1.3891 - val_loss: 66.9768 - val_classifier_metric: 0.8625 - val_regressor_metric: 1.4894\n",
      "Epoch 23/100\n",
      "20/20 [==============================] - 0s 13ms/step - loss: 56.5406 - classifier_metric: 0.8719 - regressor_metric: 1.1772 - val_loss: 62.8422 - val_classifier_metric: 0.8625 - val_regressor_metric: 1.3710\n",
      "Epoch 24/100\n",
      "20/20 [==============================] - 0s 12ms/step - loss: 59.0923 - classifier_metric: 0.8797 - regressor_metric: 1.2638 - val_loss: 66.4757 - val_classifier_metric: 0.8813 - val_regressor_metric: 1.4801\n",
      "Epoch 25/100\n",
      "20/20 [==============================] - 0s 12ms/step - loss: 58.4741 - classifier_metric: 0.8891 - regressor_metric: 1.2496 - val_loss: 57.1289 - val_classifier_metric: 0.8813 - val_regressor_metric: 1.1955\n",
      "Epoch 26/100\n",
      "20/20 [==============================] - 0s 14ms/step - loss: 53.1181 - classifier_metric: 0.8984 - regressor_metric: 1.0882 - val_loss: 55.9379 - val_classifier_metric: 0.8938 - val_regressor_metric: 1.1625\n",
      "Epoch 27/100\n",
      "20/20 [==============================] - 0s 15ms/step - loss: 57.2897 - classifier_metric: 0.9062 - regressor_metric: 1.2248 - val_loss: 67.0583 - val_classifier_metric: 0.8938 - val_regressor_metric: 1.5078\n",
      "Epoch 28/100\n",
      "20/20 [==============================] - 0s 14ms/step - loss: 55.3418 - classifier_metric: 0.9125 - regressor_metric: 1.1689 - val_loss: 58.7724 - val_classifier_metric: 0.8938 - val_regressor_metric: 1.2551\n",
      "Epoch 29/100\n",
      "20/20 [==============================] - 0s 12ms/step - loss: 105.2000 - classifier_metric: 0.9187 - regressor_metric: 2.7336 - val_loss: 76.9062 - val_classifier_metric: 0.9000 - val_regressor_metric: 1.8250\n",
      "Epoch 30/100\n",
      "20/20 [==============================] - 0s 12ms/step - loss: 72.4361 - classifier_metric: 0.9250 - regressor_metric: 1.7131 - val_loss: 73.2745 - val_classifier_metric: 0.9125 - val_regressor_metric: 1.7182\n",
      "Epoch 31/100\n",
      "20/20 [==============================] - 0s 10ms/step - loss: 69.1677 - classifier_metric: 0.9281 - regressor_metric: 1.6176 - val_loss: 75.3357 - val_classifier_metric: 0.9125 - val_regressor_metric: 1.7884\n",
      "Epoch 32/100\n",
      "20/20 [==============================] - 0s 9ms/step - loss: 60.2386 - classifier_metric: 0.9312 - regressor_metric: 1.3418 - val_loss: 66.5173 - val_classifier_metric: 0.9125 - val_regressor_metric: 1.5045\n",
      "Epoch 33/100\n",
      "20/20 [==============================] - 0s 9ms/step - loss: 54.2856 - classifier_metric: 0.9328 - regressor_metric: 1.1610 - val_loss: 66.7387 - val_classifier_metric: 0.9000 - val_regressor_metric: 1.5153\n",
      "Epoch 34/100\n",
      "20/20 [==============================] - 0s 8ms/step - loss: 58.6407 - classifier_metric: 0.9359 - regressor_metric: 1.3004 - val_loss: 58.2412 - val_classifier_metric: 0.8938 - val_regressor_metric: 1.2584\n",
      "Epoch 35/100\n",
      "20/20 [==============================] - 0s 8ms/step - loss: 59.4961 - classifier_metric: 0.9391 - regressor_metric: 1.3313 - val_loss: 61.1786 - val_classifier_metric: 0.9000 - val_regressor_metric: 1.3510\n",
      "Epoch 36/100\n",
      "20/20 [==============================] - 0s 7ms/step - loss: 72.7976 - classifier_metric: 0.9391 - regressor_metric: 1.7502 - val_loss: 85.7829 - val_classifier_metric: 0.8938 - val_regressor_metric: 2.1157\n",
      "Epoch 37/100\n",
      "20/20 [==============================] - 0s 7ms/step - loss: 71.2292 - classifier_metric: 0.9391 - regressor_metric: 1.7057 - val_loss: 87.9433 - val_classifier_metric: 0.8938 - val_regressor_metric: 2.1871\n",
      "Epoch 38/100\n",
      "20/20 [==============================] - 0s 7ms/step - loss: 88.2365 - classifier_metric: 0.9391 - regressor_metric: 2.2382 - val_loss: 117.9843 - val_classifier_metric: 0.8938 - val_regressor_metric: 3.1490\n",
      "Epoch 39/100\n",
      "20/20 [==============================] - 0s 7ms/step - loss: 66.5877 - classifier_metric: 0.9391 - regressor_metric: 1.5658 - val_loss: 54.5460 - val_classifier_metric: 0.8938 - val_regressor_metric: 1.1562\n",
      "Epoch 40/100\n",
      "20/20 [==============================] - 0s 10ms/step - loss: 57.6470 - classifier_metric: 0.9391 - regressor_metric: 1.2899 - val_loss: 94.5706 - val_classifier_metric: 0.8938 - val_regressor_metric: 2.4003\n",
      "Epoch 41/100\n",
      "20/20 [==============================] - 0s 10ms/step - loss: 58.4586 - classifier_metric: 0.9391 - regressor_metric: 1.3181 - val_loss: 180.3169 - val_classifier_metric: 0.8938 - val_regressor_metric: 5.0734\n",
      "Epoch 42/100\n",
      "20/20 [==============================] - 0s 10ms/step - loss: 103.6141 - classifier_metric: 0.9422 - regressor_metric: 2.7315 - val_loss: 92.1677 - val_classifier_metric: 0.8938 - val_regressor_metric: 2.3463\n",
      "Epoch 43/100\n",
      "20/20 [==============================] - 0s 12ms/step - loss: 73.0011 - classifier_metric: 0.9422 - regressor_metric: 1.7780 - val_loss: 62.6366 - val_classifier_metric: 0.8938 - val_regressor_metric: 1.4183\n",
      "Epoch 44/100\n",
      "20/20 [==============================] - 0s 12ms/step - loss: 55.7584 - classifier_metric: 0.9422 - regressor_metric: 1.2417 - val_loss: 60.4597 - val_classifier_metric: 0.8938 - val_regressor_metric: 1.3516\n",
      "Epoch 45/100\n",
      "20/20 [==============================] - 0s 13ms/step - loss: 86.4779 - classifier_metric: 0.9422 - regressor_metric: 2.2052 - val_loss: 140.7152 - val_classifier_metric: 0.8938 - val_regressor_metric: 3.8501\n",
      "Epoch 46/100\n",
      "20/20 [==============================] - 0s 13ms/step - loss: 103.8736 - classifier_metric: 0.9422 - regressor_metric: 2.7501 - val_loss: 98.9343 - val_classifier_metric: 0.8938 - val_regressor_metric: 2.5693\n",
      "Epoch 47/100\n",
      "20/20 [==============================] - 0s 12ms/step - loss: 58.7617 - classifier_metric: 0.9422 - regressor_metric: 1.3432 - val_loss: 58.3196 - val_classifier_metric: 0.8938 - val_regressor_metric: 1.2920\n",
      "Epoch 48/100\n",
      "20/20 [==============================] - 0s 12ms/step - loss: 52.3520 - classifier_metric: 0.9422 - regressor_metric: 1.1453 - val_loss: 61.5126 - val_classifier_metric: 0.8938 - val_regressor_metric: 1.3924\n",
      "Epoch 49/100\n",
      "20/20 [==============================] - 0s 12ms/step - loss: 52.3663 - classifier_metric: 0.9422 - regressor_metric: 1.1482 - val_loss: 61.2265 - val_classifier_metric: 0.8938 - val_regressor_metric: 1.3928\n",
      "Epoch 50/100\n",
      "20/20 [==============================] - 0s 11ms/step - loss: 68.8065 - classifier_metric: 0.9422 - regressor_metric: 1.6638 - val_loss: 92.2256 - val_classifier_metric: 0.8938 - val_regressor_metric: 2.3687\n",
      "Epoch 51/100\n",
      "20/20 [==============================] - 0s 11ms/step - loss: 84.2587 - classifier_metric: 0.9422 - regressor_metric: 2.1496 - val_loss: 77.7540 - val_classifier_metric: 0.8938 - val_regressor_metric: 1.9115\n",
      "Epoch 52/100\n",
      "20/20 [==============================] - 0s 11ms/step - loss: 67.4385 - classifier_metric: 0.9422 - regressor_metric: 1.6267 - val_loss: 118.0526 - val_classifier_metric: 0.8938 - val_regressor_metric: 3.1580\n",
      "Epoch 53/100\n",
      "20/20 [==============================] - 0s 11ms/step - loss: 66.8306 - classifier_metric: 0.9422 - regressor_metric: 1.6100 - val_loss: 93.6704 - val_classifier_metric: 0.8938 - val_regressor_metric: 2.4008\n",
      "Epoch 54/100\n",
      "20/20 [==============================] - 0s 12ms/step - loss: 81.9448 - classifier_metric: 0.9422 - regressor_metric: 2.0828 - val_loss: 80.1260 - val_classifier_metric: 0.8938 - val_regressor_metric: 1.9934\n",
      "Epoch 55/100\n",
      "20/20 [==============================] - 0s 13ms/step - loss: 65.4156 - classifier_metric: 0.9406 - regressor_metric: 1.5692 - val_loss: 74.8200 - val_classifier_metric: 0.8938 - val_regressor_metric: 1.8298\n",
      "Epoch 56/100\n",
      "20/20 [==============================] - 0s 14ms/step - loss: 64.9574 - classifier_metric: 0.9422 - regressor_metric: 1.5573 - val_loss: 121.2495 - val_classifier_metric: 0.8938 - val_regressor_metric: 3.2633\n",
      "Epoch 57/100\n",
      "20/20 [==============================] - 0s 12ms/step - loss: 68.7396 - classifier_metric: 0.9422 - regressor_metric: 1.6773 - val_loss: 71.5480 - val_classifier_metric: 0.8938 - val_regressor_metric: 1.7315\n",
      "Epoch 58/100\n",
      "20/20 [==============================] - 0s 12ms/step - loss: 86.1078 - classifier_metric: 0.9406 - regressor_metric: 2.2207 - val_loss: 90.2959 - val_classifier_metric: 0.8938 - val_regressor_metric: 2.3202\n",
      "Epoch 59/100\n",
      "20/20 [==============================] - 0s 14ms/step - loss: 69.6887 - classifier_metric: 0.9406 - regressor_metric: 1.7108 - val_loss: 62.9666 - val_classifier_metric: 0.8938 - val_regressor_metric: 1.4611\n",
      "Epoch 60/100\n",
      "20/20 [==============================] - 0s 13ms/step - loss: 55.2029 - classifier_metric: 0.9406 - regressor_metric: 1.2607 - val_loss: 105.3628 - val_classifier_metric: 0.8938 - val_regressor_metric: 2.7769\n",
      "Epoch 61/100\n",
      "20/20 [==============================] - 0s 9ms/step - loss: 97.8490 - classifier_metric: 0.9406 - regressor_metric: 2.5941 - val_loss: 83.3857 - val_classifier_metric: 0.8938 - val_regressor_metric: 2.1061\n",
      "Epoch 62/100\n",
      "20/20 [==============================] - 0s 9ms/step - loss: 66.1429 - classifier_metric: 0.9406 - regressor_metric: 1.6051 - val_loss: 65.2698 - val_classifier_metric: 0.8938 - val_regressor_metric: 1.5404\n",
      "Epoch 63/100\n",
      "20/20 [==============================] - 0s 8ms/step - loss: 58.3287 - classifier_metric: 0.9406 - regressor_metric: 1.3645 - val_loss: 151.7015 - val_classifier_metric: 0.8938 - val_regressor_metric: 4.2267\n",
      "Epoch 64/100\n",
      "20/20 [==============================] - 0s 9ms/step - loss: 88.3806 - classifier_metric: 0.9406 - regressor_metric: 2.3027 - val_loss: 96.4820 - val_classifier_metric: 0.8938 - val_regressor_metric: 2.5254\n",
      "Epoch 65/100\n",
      "20/20 [==============================] - 0s 11ms/step - loss: 63.5938 - classifier_metric: 0.9406 - regressor_metric: 1.5314 - val_loss: 58.8316 - val_classifier_metric: 0.8938 - val_regressor_metric: 1.3400\n",
      "Epoch 66/100\n",
      "20/20 [==============================] - 0s 9ms/step - loss: 71.3530 - classifier_metric: 0.9406 - regressor_metric: 1.7760 - val_loss: 87.7963 - val_classifier_metric: 0.8938 - val_regressor_metric: 2.2409\n",
      "Epoch 67/100\n",
      "20/20 [==============================] - 0s 8ms/step - loss: 74.6037 - classifier_metric: 0.9406 - regressor_metric: 1.8794 - val_loss: 70.8054 - val_classifier_metric: 0.8938 - val_regressor_metric: 1.7133\n",
      "Epoch 68/100\n",
      "20/20 [==============================] - 0s 9ms/step - loss: 86.3470 - classifier_metric: 0.9406 - regressor_metric: 2.2475 - val_loss: 67.0164 - val_classifier_metric: 0.8938 - val_regressor_metric: 1.6021\n",
      "Epoch 69/100\n",
      "20/20 [==============================] - 0s 8ms/step - loss: 73.7717 - classifier_metric: 0.9406 - regressor_metric: 1.8561 - val_loss: 61.6004 - val_classifier_metric: 0.8938 - val_regressor_metric: 1.4370\n",
      "Epoch 70/100\n",
      "20/20 [==============================] - 0s 8ms/step - loss: 66.0396 - classifier_metric: 0.9406 - regressor_metric: 1.6148 - val_loss: 102.0285 - val_classifier_metric: 0.8938 - val_regressor_metric: 2.7063\n",
      "Epoch 71/100\n",
      "20/20 [==============================] - 0s 7ms/step - loss: 96.4758 - classifier_metric: 0.9406 - regressor_metric: 2.5692 - val_loss: 65.9146 - val_classifier_metric: 0.8938 - val_regressor_metric: 1.5675\n",
      "Epoch 72/100\n",
      "20/20 [==============================] - 0s 7ms/step - loss: 53.0253 - classifier_metric: 0.9406 - regressor_metric: 1.2123 - val_loss: 80.8341 - val_classifier_metric: 0.9062 - val_regressor_metric: 2.0446\n",
      "Epoch 73/100\n",
      "20/20 [==============================] - 0s 7ms/step - loss: 57.2401 - classifier_metric: 0.9406 - regressor_metric: 1.3456 - val_loss: 75.9548 - val_classifier_metric: 0.9062 - val_regressor_metric: 1.8811\n",
      "Epoch 74/100\n",
      "20/20 [==============================] - 0s 7ms/step - loss: 74.8154 - classifier_metric: 0.9406 - regressor_metric: 1.8967 - val_loss: 82.3710 - val_classifier_metric: 0.9062 - val_regressor_metric: 2.0826\n",
      "Epoch 75/100\n",
      "20/20 [==============================] - 0s 8ms/step - loss: 57.3969 - classifier_metric: 0.9406 - regressor_metric: 1.3528 - val_loss: 62.1409 - val_classifier_metric: 0.9062 - val_regressor_metric: 1.4595\n",
      "Epoch 76/100\n",
      "20/20 [==============================] - 0s 7ms/step - loss: 54.2712 - classifier_metric: 0.9406 - regressor_metric: 1.2574 - val_loss: 56.2196 - val_classifier_metric: 0.9000 - val_regressor_metric: 1.2736\n",
      "Epoch 77/100\n",
      "20/20 [==============================] - 0s 7ms/step - loss: 55.5543 - classifier_metric: 0.9406 - regressor_metric: 1.2984 - val_loss: 57.3674 - val_classifier_metric: 0.9000 - val_regressor_metric: 1.3087\n",
      "Epoch 78/100\n",
      "20/20 [==============================] - 0s 11ms/step - loss: 68.1087 - classifier_metric: 0.9406 - regressor_metric: 1.6927 - val_loss: 62.9144 - val_classifier_metric: 0.9000 - val_regressor_metric: 1.4883\n",
      "Epoch 79/100\n",
      "20/20 [==============================] - 0s 10ms/step - loss: 50.5829 - classifier_metric: 0.9406 - regressor_metric: 1.1459 - val_loss: 75.6320 - val_classifier_metric: 0.9062 - val_regressor_metric: 1.8909\n",
      "Epoch 80/100\n",
      "20/20 [==============================] - 0s 9ms/step - loss: 50.8412 - classifier_metric: 0.9422 - regressor_metric: 1.1554 - val_loss: 56.6925 - val_classifier_metric: 0.9062 - val_regressor_metric: 1.2957\n",
      "Epoch 81/100\n",
      "20/20 [==============================] - 0s 10ms/step - loss: 63.4416 - classifier_metric: 0.9406 - regressor_metric: 1.5499 - val_loss: 118.4418 - val_classifier_metric: 0.9062 - val_regressor_metric: 3.2351\n",
      "Epoch 82/100\n",
      "20/20 [==============================] - 0s 10ms/step - loss: 67.5727 - classifier_metric: 0.9422 - regressor_metric: 1.6812 - val_loss: 56.6183 - val_classifier_metric: 0.9062 - val_regressor_metric: 1.2916\n",
      "Epoch 83/100\n",
      "20/20 [==============================] - 0s 9ms/step - loss: 55.4020 - classifier_metric: 0.9422 - regressor_metric: 1.3017 - val_loss: 116.0808 - val_classifier_metric: 0.9062 - val_regressor_metric: 3.1646\n",
      "Epoch 84/100\n",
      "20/20 [==============================] - 0s 10ms/step - loss: 94.2012 - classifier_metric: 0.9422 - regressor_metric: 2.5154 - val_loss: 96.4794 - val_classifier_metric: 0.9062 - val_regressor_metric: 2.5359\n",
      "Epoch 85/100\n",
      "20/20 [==============================] - 0s 9ms/step - loss: 63.9100 - classifier_metric: 0.9422 - regressor_metric: 1.5706 - val_loss: 56.1606 - val_classifier_metric: 0.9062 - val_regressor_metric: 1.2846\n",
      "Epoch 86/100\n",
      "20/20 [==============================] - 0s 10ms/step - loss: 64.8962 - classifier_metric: 0.9422 - regressor_metric: 1.6030 - val_loss: 60.9204 - val_classifier_metric: 0.9062 - val_regressor_metric: 1.4351\n",
      "Epoch 87/100\n",
      "20/20 [==============================] - 0s 9ms/step - loss: 57.7568 - classifier_metric: 0.9422 - regressor_metric: 1.3800 - val_loss: 57.2516 - val_classifier_metric: 0.9062 - val_regressor_metric: 1.3196\n",
      "Epoch 88/100\n",
      "20/20 [==============================] - 0s 12ms/step - loss: 53.0548 - classifier_metric: 0.9438 - regressor_metric: 1.2351 - val_loss: 59.9607 - val_classifier_metric: 0.9062 - val_regressor_metric: 1.4083\n",
      "Epoch 89/100\n",
      "20/20 [==============================] - 0s 9ms/step - loss: 50.3857 - classifier_metric: 0.9438 - regressor_metric: 1.1528 - val_loss: 72.4519 - val_classifier_metric: 0.9062 - val_regressor_metric: 1.7917\n",
      "Epoch 90/100\n",
      "20/20 [==============================] - 0s 10ms/step - loss: 94.7868 - classifier_metric: 0.9438 - regressor_metric: 2.5418 - val_loss: 83.7678 - val_classifier_metric: 0.9062 - val_regressor_metric: 2.1450\n",
      "Epoch 91/100\n",
      "20/20 [==============================] - 0s 10ms/step - loss: 67.9006 - classifier_metric: 0.9453 - regressor_metric: 1.7029 - val_loss: 113.3474 - val_classifier_metric: 0.9000 - val_regressor_metric: 3.0872\n",
      "Epoch 92/100\n",
      "20/20 [==============================] - 0s 12ms/step - loss: 83.4864 - classifier_metric: 0.9453 - regressor_metric: 2.1901 - val_loss: 74.4180 - val_classifier_metric: 0.9062 - val_regressor_metric: 1.8684\n",
      "Epoch 93/100\n",
      "20/20 [==============================] - 0s 10ms/step - loss: 55.8409 - classifier_metric: 0.9469 - regressor_metric: 1.3293 - val_loss: 78.3532 - val_classifier_metric: 0.9000 - val_regressor_metric: 1.9800\n",
      "Epoch 94/100\n",
      "20/20 [==============================] - 0s 9ms/step - loss: 71.5096 - classifier_metric: 0.9469 - regressor_metric: 1.8178 - val_loss: 203.8379 - val_classifier_metric: 0.9000 - val_regressor_metric: 5.9245\n",
      "Epoch 95/100\n",
      "20/20 [==============================] - 0s 10ms/step - loss: 103.3156 - classifier_metric: 0.9469 - regressor_metric: 2.8140 - val_loss: 81.5964 - val_classifier_metric: 0.9000 - val_regressor_metric: 2.0944\n",
      "Epoch 96/100\n",
      "20/20 [==============================] - 0s 11ms/step - loss: 88.0159 - classifier_metric: 0.9469 - regressor_metric: 2.3386 - val_loss: 116.0720 - val_classifier_metric: 0.9000 - val_regressor_metric: 3.1599\n",
      "Epoch 97/100\n",
      "20/20 [==============================] - 0s 10ms/step - loss: 62.6803 - classifier_metric: 0.9469 - regressor_metric: 1.5454 - val_loss: 62.5495 - val_classifier_metric: 0.9000 - val_regressor_metric: 1.4954\n",
      "Epoch 98/100\n",
      "20/20 [==============================] - 0s 9ms/step - loss: 75.5121 - classifier_metric: 0.9469 - regressor_metric: 1.9491 - val_loss: 104.4794 - val_classifier_metric: 0.9000 - val_regressor_metric: 2.7988\n",
      "Epoch 99/100\n",
      "20/20 [==============================] - 0s 10ms/step - loss: 68.6663 - classifier_metric: 0.9469 - regressor_metric: 1.7353 - val_loss: 106.4359 - val_classifier_metric: 0.9000 - val_regressor_metric: 2.8782\n",
      "Epoch 100/100\n",
      "20/20 [==============================] - 0s 9ms/step - loss: 71.4229 - classifier_metric: 0.9469 - regressor_metric: 1.8233 - val_loss: 104.3435 - val_classifier_metric: 0.9000 - val_regressor_metric: 2.7970\n"
     ]
    }
   ],
   "source": [
    "if SKIP_FLAG.find(\"fm1_0\") != -1 or SKIP_FLAG.find(\"all\") != -1:\n",
    "    finmod1_0.compile(loss=loss1_w(),\n",
    "                   optimizer=keras.optimizers.Adam(learning_rate=1e-2),\n",
    "                   metrics=[classifier_metric, regressor_metric])\n",
    "    history1_0a = finmod1_0.fit(x, y, epochs=100, validation_split=0.2, batch_size=32)"
   ],
   "metadata": {
    "collapsed": false,
    "pycharm": {
     "name": "#%%\n"
    }
   }
  },
  {
   "cell_type": "code",
   "execution_count": 38,
   "outputs": [
    {
     "name": "stdout",
     "output_type": "stream",
     "text": [
      "Epoch 1/100\n",
      "2/2 [==============================] - 4s 906ms/step - loss: 637.5496 - classifier_metric: 0.9469 - regressor_metric: 1.5800 - val_loss: 336.1816 - val_classifier_metric: 0.9000 - val_regressor_metric: 1.6497\n",
      "Epoch 2/100\n",
      "2/2 [==============================] - 0s 78ms/step - loss: 600.6785 - classifier_metric: 0.9469 - regressor_metric: 1.4745 - val_loss: 333.6007 - val_classifier_metric: 0.9000 - val_regressor_metric: 1.6337\n",
      "Epoch 3/100\n",
      "2/2 [==============================] - 0s 94ms/step - loss: 506.2515 - classifier_metric: 0.9469 - regressor_metric: 1.1775 - val_loss: 295.7425 - val_classifier_metric: 0.9000 - val_regressor_metric: 1.3918\n",
      "Epoch 4/100\n",
      "2/2 [==============================] - 0s 94ms/step - loss: 443.5981 - classifier_metric: 0.9469 - regressor_metric: 0.9766 - val_loss: 346.1390 - val_classifier_metric: 0.9000 - val_regressor_metric: 1.7037\n",
      "Epoch 5/100\n",
      "2/2 [==============================] - 0s 63ms/step - loss: 489.6585 - classifier_metric: 0.9469 - regressor_metric: 1.1186 - val_loss: 310.8442 - val_classifier_metric: 0.9000 - val_regressor_metric: 1.4845\n",
      "Epoch 6/100\n",
      "2/2 [==============================] - 0s 78ms/step - loss: 423.6784 - classifier_metric: 0.9469 - regressor_metric: 0.9144 - val_loss: 275.9321 - val_classifier_metric: 0.9000 - val_regressor_metric: 1.2696\n",
      "Epoch 7/100\n",
      "2/2 [==============================] - 0s 63ms/step - loss: 405.0511 - classifier_metric: 0.9469 - regressor_metric: 0.8593 - val_loss: 284.6601 - val_classifier_metric: 0.9000 - val_regressor_metric: 1.3262\n",
      "Epoch 8/100\n",
      "2/2 [==============================] - 0s 78ms/step - loss: 427.6659 - classifier_metric: 0.9469 - regressor_metric: 0.9313 - val_loss: 275.9216 - val_classifier_metric: 0.9000 - val_regressor_metric: 1.2709\n",
      "Epoch 9/100\n",
      "2/2 [==============================] - 0s 62ms/step - loss: 397.8050 - classifier_metric: 0.9469 - regressor_metric: 0.8368 - val_loss: 270.7308 - val_classifier_metric: 0.9000 - val_regressor_metric: 1.2362\n",
      "Epoch 10/100\n",
      "2/2 [==============================] - 0s 63ms/step - loss: 384.2990 - classifier_metric: 0.9469 - regressor_metric: 0.7923 - val_loss: 284.7623 - val_classifier_metric: 0.9000 - val_regressor_metric: 1.3223\n",
      "Epoch 11/100\n",
      "2/2 [==============================] - 0s 78ms/step - loss: 400.1119 - classifier_metric: 0.9469 - regressor_metric: 0.8405 - val_loss: 279.7486 - val_classifier_metric: 0.9000 - val_regressor_metric: 1.2912\n",
      "Epoch 12/100\n",
      "2/2 [==============================] - 0s 78ms/step - loss: 381.7838 - classifier_metric: 0.9469 - regressor_metric: 0.7840 - val_loss: 264.3416 - val_classifier_metric: 0.9000 - val_regressor_metric: 1.1968\n",
      "Epoch 13/100\n",
      "2/2 [==============================] - 0s 109ms/step - loss: 375.7884 - classifier_metric: 0.9469 - regressor_metric: 0.7671 - val_loss: 266.1873 - val_classifier_metric: 0.9000 - val_regressor_metric: 1.2099\n",
      "Epoch 14/100\n",
      "2/2 [==============================] - 0s 78ms/step - loss: 384.4133 - classifier_metric: 0.9469 - regressor_metric: 0.7952 - val_loss: 263.9494 - val_classifier_metric: 0.9000 - val_regressor_metric: 1.1957\n",
      "Epoch 15/100\n",
      "2/2 [==============================] - 0s 94ms/step - loss: 374.6983 - classifier_metric: 0.9469 - regressor_metric: 0.7642 - val_loss: 262.8124 - val_classifier_metric: 0.9000 - val_regressor_metric: 1.1871\n",
      "Epoch 16/100\n",
      "2/2 [==============================] - 0s 94ms/step - loss: 368.4308 - classifier_metric: 0.9469 - regressor_metric: 0.7431 - val_loss: 269.2493 - val_classifier_metric: 0.9000 - val_regressor_metric: 1.2263\n",
      "Epoch 17/100\n",
      "2/2 [==============================] - 0s 94ms/step - loss: 374.2238 - classifier_metric: 0.9469 - regressor_metric: 0.7605 - val_loss: 266.2899 - val_classifier_metric: 0.9000 - val_regressor_metric: 1.2082\n",
      "Epoch 18/100\n",
      "2/2 [==============================] - 0s 94ms/step - loss: 367.2677 - classifier_metric: 0.9469 - regressor_metric: 0.7393 - val_loss: 260.5130 - val_classifier_metric: 0.9000 - val_regressor_metric: 1.1732\n",
      "Epoch 19/100\n",
      "2/2 [==============================] - 0s 94ms/step - loss: 367.2290 - classifier_metric: 0.9469 - regressor_metric: 0.7404 - val_loss: 260.8891 - val_classifier_metric: 0.9000 - val_regressor_metric: 1.1765\n",
      "Epoch 20/100\n",
      "2/2 [==============================] - 0s 94ms/step - loss: 369.5843 - classifier_metric: 0.9469 - regressor_metric: 0.7483 - val_loss: 259.8536 - val_classifier_metric: 0.9000 - val_regressor_metric: 1.1696\n",
      "Epoch 21/100\n",
      "2/2 [==============================] - 0s 94ms/step - loss: 364.8670 - classifier_metric: 0.9469 - regressor_metric: 0.7330 - val_loss: 261.2672 - val_classifier_metric: 0.9000 - val_regressor_metric: 1.1775\n",
      "Epoch 22/100\n",
      "2/2 [==============================] - 0s 94ms/step - loss: 364.7824 - classifier_metric: 0.9469 - regressor_metric: 0.7320 - val_loss: 263.2884 - val_classifier_metric: 0.9000 - val_regressor_metric: 1.1898\n",
      "Epoch 23/100\n",
      "2/2 [==============================] - 0s 94ms/step - loss: 365.7472 - classifier_metric: 0.9469 - regressor_metric: 0.7348 - val_loss: 260.9172 - val_classifier_metric: 0.9000 - val_regressor_metric: 1.1754\n",
      "Epoch 24/100\n",
      "2/2 [==============================] - 0s 109ms/step - loss: 363.9889 - classifier_metric: 0.9469 - regressor_metric: 0.7300 - val_loss: 259.1855 - val_classifier_metric: 0.9000 - val_regressor_metric: 1.1654\n",
      "Epoch 25/100\n",
      "2/2 [==============================] - 0s 94ms/step - loss: 365.3068 - classifier_metric: 0.9469 - regressor_metric: 0.7348 - val_loss: 259.2756 - val_classifier_metric: 0.9000 - val_regressor_metric: 1.1662\n",
      "Epoch 26/100\n",
      "2/2 [==============================] - 0s 78ms/step - loss: 363.6216 - classifier_metric: 0.9469 - regressor_metric: 0.7295 - val_loss: 259.7570 - val_classifier_metric: 0.9000 - val_regressor_metric: 1.1686\n",
      "Epoch 27/100\n",
      "2/2 [==============================] - 0s 94ms/step - loss: 363.2973 - classifier_metric: 0.9469 - regressor_metric: 0.7278 - val_loss: 262.1496 - val_classifier_metric: 0.9000 - val_regressor_metric: 1.1830\n",
      "Epoch 28/100\n",
      "2/2 [==============================] - 0s 78ms/step - loss: 365.0897 - classifier_metric: 0.9469 - regressor_metric: 0.7330 - val_loss: 261.2206 - val_classifier_metric: 0.9000 - val_regressor_metric: 1.1774\n",
      "Epoch 29/100\n",
      "2/2 [==============================] - 0s 78ms/step - loss: 362.4703 - classifier_metric: 0.9469 - regressor_metric: 0.7253 - val_loss: 259.2300 - val_classifier_metric: 0.9000 - val_regressor_metric: 1.1658\n",
      "Epoch 30/100\n",
      "2/2 [==============================] - 0s 94ms/step - loss: 362.7992 - classifier_metric: 0.9469 - regressor_metric: 0.7271 - val_loss: 259.4080 - val_classifier_metric: 0.9000 - val_regressor_metric: 1.1672\n",
      "Epoch 31/100\n",
      "2/2 [==============================] - 0s 94ms/step - loss: 363.3169 - classifier_metric: 0.9469 - regressor_metric: 0.7288 - val_loss: 259.6523 - val_classifier_metric: 0.9000 - val_regressor_metric: 1.1684\n",
      "Epoch 32/100\n",
      "2/2 [==============================] - 0s 78ms/step - loss: 361.7291 - classifier_metric: 0.9469 - regressor_metric: 0.7235 - val_loss: 261.0306 - val_classifier_metric: 0.9000 - val_regressor_metric: 1.1766\n",
      "Epoch 33/100\n",
      "2/2 [==============================] - 0s 94ms/step - loss: 362.5251 - classifier_metric: 0.9469 - regressor_metric: 0.7256 - val_loss: 261.1926 - val_classifier_metric: 0.9000 - val_regressor_metric: 1.1775\n",
      "Epoch 34/100\n",
      "2/2 [==============================] - 0s 94ms/step - loss: 363.1269 - classifier_metric: 0.9469 - regressor_metric: 0.7277 - val_loss: 259.8686 - val_classifier_metric: 0.9000 - val_regressor_metric: 1.1698\n",
      "Epoch 35/100\n",
      "2/2 [==============================] - 0s 94ms/step - loss: 361.8272 - classifier_metric: 0.9469 - regressor_metric: 0.7240 - val_loss: 259.9200 - val_classifier_metric: 0.9000 - val_regressor_metric: 1.1702\n",
      "Epoch 36/100\n",
      "2/2 [==============================] - 0s 94ms/step - loss: 362.2125 - classifier_metric: 0.9469 - regressor_metric: 0.7254 - val_loss: 260.1793 - val_classifier_metric: 0.9000 - val_regressor_metric: 1.1719\n",
      "Epoch 37/100\n",
      "2/2 [==============================] - 0s 94ms/step - loss: 362.6228 - classifier_metric: 0.9469 - regressor_metric: 0.7265 - val_loss: 261.2170 - val_classifier_metric: 0.9000 - val_regressor_metric: 1.1780\n",
      "Epoch 38/100\n",
      "2/2 [==============================] - 0s 94ms/step - loss: 361.9537 - classifier_metric: 0.9469 - regressor_metric: 0.7243 - val_loss: 260.6988 - val_classifier_metric: 0.9000 - val_regressor_metric: 1.1751\n",
      "Epoch 39/100\n",
      "2/2 [==============================] - 0s 94ms/step - loss: 361.6347 - classifier_metric: 0.9469 - regressor_metric: 0.7235 - val_loss: 260.5718 - val_classifier_metric: 0.9000 - val_regressor_metric: 1.1745\n",
      "Epoch 40/100\n",
      "2/2 [==============================] - 0s 94ms/step - loss: 361.9579 - classifier_metric: 0.9469 - regressor_metric: 0.7247 - val_loss: 260.7328 - val_classifier_metric: 0.9000 - val_regressor_metric: 1.1755\n",
      "Epoch 41/100\n",
      "2/2 [==============================] - 0s 94ms/step - loss: 361.8930 - classifier_metric: 0.9469 - regressor_metric: 0.7244 - val_loss: 261.5782 - val_classifier_metric: 0.9000 - val_regressor_metric: 1.1805\n",
      "Epoch 42/100\n",
      "2/2 [==============================] - 0s 109ms/step - loss: 362.2991 - classifier_metric: 0.9469 - regressor_metric: 0.7254 - val_loss: 261.3864 - val_classifier_metric: 0.9000 - val_regressor_metric: 1.1794\n",
      "Epoch 43/100\n",
      "2/2 [==============================] - 0s 94ms/step - loss: 361.4982 - classifier_metric: 0.9469 - regressor_metric: 0.7232 - val_loss: 260.5582 - val_classifier_metric: 0.9000 - val_regressor_metric: 1.1747\n",
      "Epoch 44/100\n",
      "2/2 [==============================] - 0s 78ms/step - loss: 361.8041 - classifier_metric: 0.9469 - regressor_metric: 0.7246 - val_loss: 260.6493 - val_classifier_metric: 0.9000 - val_regressor_metric: 1.1753\n",
      "Epoch 45/100\n",
      "2/2 [==============================] - 0s 94ms/step - loss: 361.9459 - classifier_metric: 0.9469 - regressor_metric: 0.7249 - val_loss: 261.2989 - val_classifier_metric: 0.9000 - val_regressor_metric: 1.1790\n",
      "Epoch 46/100\n",
      "2/2 [==============================] - 0s 109ms/step - loss: 361.5754 - classifier_metric: 0.9469 - regressor_metric: 0.7235 - val_loss: 261.4316 - val_classifier_metric: 0.9000 - val_regressor_metric: 1.1798\n",
      "Epoch 47/100\n",
      "2/2 [==============================] - 0s 94ms/step - loss: 362.9320 - classifier_metric: 0.9469 - regressor_metric: 0.7280 - val_loss: 260.6122 - val_classifier_metric: 0.9000 - val_regressor_metric: 1.1752\n",
      "Epoch 48/100\n",
      "2/2 [==============================] - 0s 94ms/step - loss: 363.2885 - classifier_metric: 0.9469 - regressor_metric: 0.7292 - val_loss: 261.5060 - val_classifier_metric: 0.9000 - val_regressor_metric: 1.1804\n",
      "Epoch 49/100\n",
      "2/2 [==============================] - 0s 94ms/step - loss: 361.4182 - classifier_metric: 0.9469 - regressor_metric: 0.7232 - val_loss: 261.1825 - val_classifier_metric: 0.9000 - val_regressor_metric: 1.1786\n",
      "Epoch 50/100\n",
      "2/2 [==============================] - 0s 94ms/step - loss: 361.1866 - classifier_metric: 0.9469 - regressor_metric: 0.7228 - val_loss: 260.8447 - val_classifier_metric: 0.9000 - val_regressor_metric: 1.1767\n",
      "Epoch 51/100\n",
      "2/2 [==============================] - 0s 78ms/step - loss: 361.6896 - classifier_metric: 0.9469 - regressor_metric: 0.7244 - val_loss: 261.0901 - val_classifier_metric: 0.9000 - val_regressor_metric: 1.1782\n",
      "Epoch 52/100\n",
      "2/2 [==============================] - 0s 109ms/step - loss: 361.7386 - classifier_metric: 0.9469 - regressor_metric: 0.7246 - val_loss: 260.8726 - val_classifier_metric: 0.9000 - val_regressor_metric: 1.1769\n",
      "Epoch 53/100\n",
      "2/2 [==============================] - 0s 94ms/step - loss: 361.2446 - classifier_metric: 0.9469 - regressor_metric: 0.7231 - val_loss: 261.5663 - val_classifier_metric: 0.9000 - val_regressor_metric: 1.1810\n",
      "Epoch 54/100\n",
      "2/2 [==============================] - 0s 94ms/step - loss: 361.7151 - classifier_metric: 0.9469 - regressor_metric: 0.7245 - val_loss: 261.2600 - val_classifier_metric: 0.9000 - val_regressor_metric: 1.1793\n",
      "Epoch 55/100\n",
      "2/2 [==============================] - 0s 109ms/step - loss: 361.1610 - classifier_metric: 0.9469 - regressor_metric: 0.7229 - val_loss: 261.2292 - val_classifier_metric: 0.9000 - val_regressor_metric: 1.1792\n",
      "Epoch 56/100\n",
      "2/2 [==============================] - 0s 109ms/step - loss: 361.1366 - classifier_metric: 0.9469 - regressor_metric: 0.7229 - val_loss: 261.3844 - val_classifier_metric: 0.9000 - val_regressor_metric: 1.1802\n",
      "Epoch 57/100\n",
      "2/2 [==============================] - 0s 78ms/step - loss: 364.1007 - classifier_metric: 0.9469 - regressor_metric: 0.7319 - val_loss: 262.0305 - val_classifier_metric: 0.9000 - val_regressor_metric: 1.1840\n",
      "Epoch 58/100\n",
      "2/2 [==============================] - 0s 94ms/step - loss: 361.0392 - classifier_metric: 0.9469 - regressor_metric: 0.7226 - val_loss: 260.8292 - val_classifier_metric: 0.9000 - val_regressor_metric: 1.1772\n",
      "Epoch 59/100\n",
      "2/2 [==============================] - 0s 94ms/step - loss: 362.4926 - classifier_metric: 0.9469 - regressor_metric: 0.7277 - val_loss: 260.7823 - val_classifier_metric: 0.9000 - val_regressor_metric: 1.1770\n",
      "Epoch 60/100\n",
      "2/2 [==============================] - 0s 109ms/step - loss: 361.8429 - classifier_metric: 0.9469 - regressor_metric: 0.7255 - val_loss: 261.9459 - val_classifier_metric: 0.9000 - val_regressor_metric: 1.1836\n",
      "Epoch 61/100\n",
      "2/2 [==============================] - 0s 94ms/step - loss: 362.0176 - classifier_metric: 0.9469 - regressor_metric: 0.7255 - val_loss: 261.8340 - val_classifier_metric: 0.9000 - val_regressor_metric: 1.1830\n",
      "Epoch 62/100\n",
      "2/2 [==============================] - 0s 94ms/step - loss: 361.3641 - classifier_metric: 0.9469 - regressor_metric: 0.7238 - val_loss: 260.7111 - val_classifier_metric: 0.9000 - val_regressor_metric: 1.1766\n",
      "Epoch 63/100\n",
      "2/2 [==============================] - 0s 94ms/step - loss: 362.0651 - classifier_metric: 0.9469 - regressor_metric: 0.7266 - val_loss: 260.5604 - val_classifier_metric: 0.9000 - val_regressor_metric: 1.1758\n",
      "Epoch 64/100\n",
      "2/2 [==============================] - 0s 109ms/step - loss: 361.5237 - classifier_metric: 0.9469 - regressor_metric: 0.7247 - val_loss: 261.7276 - val_classifier_metric: 0.9000 - val_regressor_metric: 1.1825\n",
      "Epoch 65/100\n",
      "2/2 [==============================] - 0s 94ms/step - loss: 361.3568 - classifier_metric: 0.9469 - regressor_metric: 0.7239 - val_loss: 261.6395 - val_classifier_metric: 0.9000 - val_regressor_metric: 1.1821\n",
      "Epoch 66/100\n",
      "2/2 [==============================] - 0s 125ms/step - loss: 361.0958 - classifier_metric: 0.9469 - regressor_metric: 0.7232 - val_loss: 261.1035 - val_classifier_metric: 0.9000 - val_regressor_metric: 1.1790\n",
      "Epoch 67/100\n",
      "2/2 [==============================] - 0s 94ms/step - loss: 360.7773 - classifier_metric: 0.9469 - regressor_metric: 0.7225 - val_loss: 260.9395 - val_classifier_metric: 0.9000 - val_regressor_metric: 1.1782\n",
      "Epoch 68/100\n",
      "2/2 [==============================] - 0s 109ms/step - loss: 360.9603 - classifier_metric: 0.9469 - regressor_metric: 0.7232 - val_loss: 261.1377 - val_classifier_metric: 0.9000 - val_regressor_metric: 1.1793\n",
      "Epoch 69/100\n",
      "2/2 [==============================] - 0s 94ms/step - loss: 360.9133 - classifier_metric: 0.9469 - regressor_metric: 0.7229 - val_loss: 261.4571 - val_classifier_metric: 0.9000 - val_regressor_metric: 1.1812\n",
      "Epoch 70/100\n",
      "2/2 [==============================] - 0s 94ms/step - loss: 360.7615 - classifier_metric: 0.9469 - regressor_metric: 0.7225 - val_loss: 260.9867 - val_classifier_metric: 0.9000 - val_regressor_metric: 1.1785\n",
      "Epoch 71/100\n",
      "2/2 [==============================] - 0s 109ms/step - loss: 360.8533 - classifier_metric: 0.9469 - regressor_metric: 0.7230 - val_loss: 260.6262 - val_classifier_metric: 0.9000 - val_regressor_metric: 1.1764\n",
      "Epoch 72/100\n",
      "2/2 [==============================] - 0s 109ms/step - loss: 363.6507 - classifier_metric: 0.9469 - regressor_metric: 0.7315 - val_loss: 261.4489 - val_classifier_metric: 0.9000 - val_regressor_metric: 1.1812\n",
      "Epoch 73/100\n",
      "2/2 [==============================] - 0s 94ms/step - loss: 362.7534 - classifier_metric: 0.9469 - regressor_metric: 0.7290 - val_loss: 260.4791 - val_classifier_metric: 0.9000 - val_regressor_metric: 1.1758\n",
      "Epoch 74/100\n",
      "2/2 [==============================] - 0s 94ms/step - loss: 361.4709 - classifier_metric: 0.9469 - regressor_metric: 0.7254 - val_loss: 260.7639 - val_classifier_metric: 0.9000 - val_regressor_metric: 1.1773\n",
      "Epoch 75/100\n",
      "2/2 [==============================] - 0s 94ms/step - loss: 362.5651 - classifier_metric: 0.9469 - regressor_metric: 0.7282 - val_loss: 262.4700 - val_classifier_metric: 0.9000 - val_regressor_metric: 1.1875\n",
      "Epoch 76/100\n",
      "2/2 [==============================] - 0s 109ms/step - loss: 361.4339 - classifier_metric: 0.9469 - regressor_metric: 0.7246 - val_loss: 260.4899 - val_classifier_metric: 0.9000 - val_regressor_metric: 1.1758\n",
      "Epoch 77/100\n",
      "2/2 [==============================] - 0s 125ms/step - loss: 361.0761 - classifier_metric: 0.9469 - regressor_metric: 0.7242 - val_loss: 260.4193 - val_classifier_metric: 0.9000 - val_regressor_metric: 1.1757\n",
      "Epoch 78/100\n",
      "2/2 [==============================] - 0s 109ms/step - loss: 361.2764 - classifier_metric: 0.9469 - regressor_metric: 0.7250 - val_loss: 260.8161 - val_classifier_metric: 0.9000 - val_regressor_metric: 1.1777\n",
      "Epoch 79/100\n",
      "2/2 [==============================] - 0s 109ms/step - loss: 360.4234 - classifier_metric: 0.9469 - regressor_metric: 0.7219 - val_loss: 261.8254 - val_classifier_metric: 0.9000 - val_regressor_metric: 1.1838\n",
      "Epoch 80/100\n",
      "2/2 [==============================] - 0s 94ms/step - loss: 363.1582 - classifier_metric: 0.9469 - regressor_metric: 0.7301 - val_loss: 261.4000 - val_classifier_metric: 0.9000 - val_regressor_metric: 1.1813\n",
      "Epoch 81/100\n",
      "2/2 [==============================] - 0s 125ms/step - loss: 365.8087 - classifier_metric: 0.9469 - regressor_metric: 0.7392 - val_loss: 260.6722 - val_classifier_metric: 0.9000 - val_regressor_metric: 1.1778\n",
      "Epoch 82/100\n",
      "2/2 [==============================] - 0s 141ms/step - loss: 362.9424 - classifier_metric: 0.9469 - regressor_metric: 0.7305 - val_loss: 261.0435 - val_classifier_metric: 0.9000 - val_regressor_metric: 1.1792\n",
      "Epoch 83/100\n",
      "2/2 [==============================] - 0s 125ms/step - loss: 363.2389 - classifier_metric: 0.9469 - regressor_metric: 0.7306 - val_loss: 262.4567 - val_classifier_metric: 0.9000 - val_regressor_metric: 1.1878\n",
      "Epoch 84/100\n",
      "2/2 [==============================] - 0s 141ms/step - loss: 361.3240 - classifier_metric: 0.9469 - regressor_metric: 0.7248 - val_loss: 260.4265 - val_classifier_metric: 0.9000 - val_regressor_metric: 1.1761\n",
      "Epoch 85/100\n",
      "2/2 [==============================] - 0s 109ms/step - loss: 362.1681 - classifier_metric: 0.9469 - regressor_metric: 0.7281 - val_loss: 260.6275 - val_classifier_metric: 0.9000 - val_regressor_metric: 1.1772\n",
      "Epoch 86/100\n",
      "2/2 [==============================] - 0s 109ms/step - loss: 361.1564 - classifier_metric: 0.9469 - regressor_metric: 0.7250 - val_loss: 260.6514 - val_classifier_metric: 0.9000 - val_regressor_metric: 1.1774\n",
      "Epoch 87/100\n",
      "2/2 [==============================] - 0s 109ms/step - loss: 360.5714 - classifier_metric: 0.9469 - regressor_metric: 0.7230 - val_loss: 261.8786 - val_classifier_metric: 0.9000 - val_regressor_metric: 1.1846\n",
      "Epoch 88/100\n",
      "2/2 [==============================] - 0s 125ms/step - loss: 361.3066 - classifier_metric: 0.9469 - regressor_metric: 0.7251 - val_loss: 260.9450 - val_classifier_metric: 0.9000 - val_regressor_metric: 1.1791\n",
      "Epoch 89/100\n",
      "2/2 [==============================] - 0s 94ms/step - loss: 360.5267 - classifier_metric: 0.9469 - regressor_metric: 0.7230 - val_loss: 260.6878 - val_classifier_metric: 0.9000 - val_regressor_metric: 1.1776\n",
      "Epoch 90/100\n",
      "2/2 [==============================] - 0s 94ms/step - loss: 360.3135 - classifier_metric: 0.9469 - regressor_metric: 0.7224 - val_loss: 261.1059 - val_classifier_metric: 0.9000 - val_regressor_metric: 1.1801\n",
      "Epoch 91/100\n",
      "2/2 [==============================] - 0s 109ms/step - loss: 360.4076 - classifier_metric: 0.9469 - regressor_metric: 0.7225 - val_loss: 260.9510 - val_classifier_metric: 0.9000 - val_regressor_metric: 1.1792\n",
      "Epoch 92/100\n",
      "2/2 [==============================] - 0s 109ms/step - loss: 360.6395 - classifier_metric: 0.9469 - regressor_metric: 0.7233 - val_loss: 260.4810 - val_classifier_metric: 0.9000 - val_regressor_metric: 1.1765\n",
      "Epoch 93/100\n",
      "2/2 [==============================] - 0s 109ms/step - loss: 361.2470 - classifier_metric: 0.9469 - regressor_metric: 0.7257 - val_loss: 260.3029 - val_classifier_metric: 0.9000 - val_regressor_metric: 1.1757\n",
      "Epoch 94/100\n",
      "2/2 [==============================] - 0s 109ms/step - loss: 360.4749 - classifier_metric: 0.9469 - regressor_metric: 0.7234 - val_loss: 261.1881 - val_classifier_metric: 0.9000 - val_regressor_metric: 1.1808\n",
      "Epoch 95/100\n",
      "2/2 [==============================] - 0s 109ms/step - loss: 360.4955 - classifier_metric: 0.9469 - regressor_metric: 0.7229 - val_loss: 261.8551 - val_classifier_metric: 0.9000 - val_regressor_metric: 1.1848\n",
      "Epoch 96/100\n",
      "2/2 [==============================] - 0s 94ms/step - loss: 360.7284 - classifier_metric: 0.9469 - regressor_metric: 0.7236 - val_loss: 260.5787 - val_classifier_metric: 0.9000 - val_regressor_metric: 1.1773\n",
      "Epoch 97/100\n",
      "2/2 [==============================] - 0s 109ms/step - loss: 361.3939 - classifier_metric: 0.9469 - regressor_metric: 0.7264 - val_loss: 260.4047 - val_classifier_metric: 0.9000 - val_regressor_metric: 1.1767\n",
      "Epoch 98/100\n",
      "2/2 [==============================] - 0s 109ms/step - loss: 360.7427 - classifier_metric: 0.9469 - regressor_metric: 0.7245 - val_loss: 261.0777 - val_classifier_metric: 0.9000 - val_regressor_metric: 1.1803\n",
      "Epoch 99/100\n",
      "2/2 [==============================] - 0s 109ms/step - loss: 362.2208 - classifier_metric: 0.9469 - regressor_metric: 0.7284 - val_loss: 262.2407 - val_classifier_metric: 0.9000 - val_regressor_metric: 1.1873\n",
      "Epoch 100/100\n",
      "2/2 [==============================] - 0s 109ms/step - loss: 362.8915 - classifier_metric: 0.9469 - regressor_metric: 0.7309 - val_loss: 259.8923 - val_classifier_metric: 0.9000 - val_regressor_metric: 1.1736\n"
     ]
    }
   ],
   "source": [
    "if SKIP_FLAG.find(\"fm1_0\") != -1 or SKIP_FLAG.find(\"all\") != -1:\n",
    "    finmod1_0.compile(loss=loss1_w(),\n",
    "                   optimizer=keras.optimizers.Adam(learning_rate=1e-3),\n",
    "                   metrics=[classifier_metric, regressor_metric])\n",
    "    history1_0aa = finmod1_0.fit(x, y, epochs=100, validation_split=0.2, batch_size=320)"
   ],
   "metadata": {
    "collapsed": false,
    "pycharm": {
     "name": "#%%\n"
    }
   }
  },
  {
   "cell_type": "code",
   "execution_count": 39,
   "outputs": [
    {
     "name": "stdout",
     "output_type": "stream",
     "text": [
      "Saving figure mod1.0_loss1\n"
     ]
    },
    {
     "data": {
      "text/plain": "<Figure size 576x360 with 1 Axes>",
      "image/png": "[encoded data removed]"
     },
     "metadata": {},
     "output_type": "display_data"
    }
   ],
   "source": [
    "if SKIP_FLAG.find(\"fm1_0\") != -1 or SKIP_FLAG.find(\"all\") != -1:\n",
    "    df_h1_0 = pd.concat([pd.DataFrame(history1_0.history),\n",
    "                         pd.DataFrame(history1_0a.history),\n",
    "                         pd.DataFrame(history1_0aa.history)], ignore_index=True)\n",
    "    df_h1_0.iloc[:, [0, 3]].plot(figsize=(8, 5))\n",
    "    plt.gca().set_ylim(0, 400)\n",
    "    save_fig(\"mod1.0_loss1\")"
   ],
   "metadata": {
    "collapsed": false,
    "pycharm": {
     "name": "#%%\n"
    }
   }
  },
  {
   "cell_type": "code",
   "execution_count": 40,
   "outputs": [
    {
     "name": "stdout",
     "output_type": "stream",
     "text": [
      "Saving figure mod1.0_clMetric\n"
     ]
    },
    {
     "data": {
      "text/plain": "<Figure size 576x360 with 1 Axes>",
      "image/png": "[encoded data removed]"
     },
     "metadata": {},
     "output_type": "display_data"
    }
   ],
   "source": [
    "if SKIP_FLAG.find(\"fm1_0\") != -1 or SKIP_FLAG.find(\"all\") != -1:\n",
    "    df_h1_0.iloc[:, [1, 4]].plot(figsize=(8, 5))\n",
    "    plt.gca().set_ylim(0, 1)\n",
    "    save_fig(\"mod1.0_clMetric\")"
   ],
   "metadata": {
    "collapsed": false,
    "pycharm": {
     "name": "#%%\n"
    }
   }
  },
  {
   "cell_type": "code",
   "execution_count": 41,
   "outputs": [
    {
     "name": "stdout",
     "output_type": "stream",
     "text": [
      "Saving figure mod1.0_regMetric\n"
     ]
    },
    {
     "data": {
      "text/plain": "<Figure size 576x360 with 1 Axes>",
      "image/png": "[encoded data removed]"
     },
     "metadata": {},
     "output_type": "display_data"
    }
   ],
   "source": [
    "if SKIP_FLAG.find(\"fm1_0\") != -1 or SKIP_FLAG.find(\"all\") != -1:\n",
    "    df_h1_0.iloc[:, [2, 5]].plot(figsize=(8, 5))\n",
    "    plt.gca().set_ylim(0, 10)\n",
    "    save_fig(\"mod1.0_regMetric\")"
   ],
   "metadata": {
    "collapsed": false,
    "pycharm": {
     "name": "#%%\n"
    }
   }
  },
  {
   "cell_type": "markdown",
   "source": [
    "### Final model 1.1"
   ],
   "metadata": {
    "collapsed": false,
    "pycharm": {
     "name": "#%% md\n"
    }
   }
  },
  {
   "cell_type": "code",
   "execution_count": 42,
   "outputs": [],
   "source": [
    "if SKIP_FLAG.find(\"fm1_1\") != -1 or SKIP_FLAG.find(\"all\") != -1:\n",
    "    finmod1_1 = keras.models.Sequential()\n",
    "    finmod1_1.add(keras.layers.Dense(3, activation=\"linear\", use_bias=False, input_shape=[128]))\n",
    "    finmod1_1.compile(loss=loss1_w(tf.sqrt(2.)),\n",
    "                   optimizer=keras.optimizers.Adam(learning_rate=1e-3),\n",
    "                   metrics=[classifier_metric, regressor_metric])\n",
    "    history1_1 = finmod1_1.fit(x, y, epochs=800, validation_split=0.2)"
   ],
   "metadata": {
    "collapsed": false,
    "pycharm": {
     "name": "#%%\n"
    }
   }
  },
  {
   "cell_type": "markdown",
   "source": [
    "### Final model 1.2"
   ],
   "metadata": {
    "collapsed": false,
    "pycharm": {
     "name": "#%% md\n"
    }
   }
  },
  {
   "cell_type": "code",
   "execution_count": 43,
   "outputs": [],
   "source": [
    "# Take into account the average loss for the classifier outputs\n",
    "if SKIP_FLAG.find(\"fm1_2\") != -1 or SKIP_FLAG.find(\"all\") != -1:\n",
    "    finmod1_2 = keras.models.Sequential()\n",
    "    finmod1_2.add(keras.layers.Dense(3, activation=\"linear\", use_bias=False, input_shape=[128]))\n",
    "    finmod1_2.compile(loss=loss1_w(tf.sqrt(2.) * (1/3)),\n",
    "                   optimizer=keras.optimizers.Adam(learning_rate=1e-2),\n",
    "                   metrics=[classifier_metric, regressor_metric])\n",
    "    history1_2 = finmod1_2.fit(x, y, epochs=200, validation_split=0.2)"
   ],
   "metadata": {
    "collapsed": false,
    "pycharm": {
     "name": "#%%\n"
    }
   }
  },
  {
   "cell_type": "markdown",
   "source": [
    "# Unloading parameters\n",
    "Selected model 1.0."
   ],
   "metadata": {
    "collapsed": false,
    "pycharm": {
     "name": "#%% md\n"
    }
   }
  },
  {
   "cell_type": "code",
   "execution_count": 44,
   "outputs": [
    {
     "data": {
      "text/plain": "(128, 3)"
     },
     "execution_count": 44,
     "metadata": {},
     "output_type": "execute_result"
    }
   ],
   "source": [
    "weights = finmod1_0.layers[0].get_weights()[0]\n",
    "weights.shape"
   ],
   "metadata": {
    "collapsed": false,
    "pycharm": {
     "name": "#%%\n"
    }
   }
  },
  {
   "cell_type": "code",
   "execution_count": 45,
   "outputs": [
    {
     "data": {
      "text/plain": "(3,)"
     },
     "execution_count": 45,
     "metadata": {},
     "output_type": "execute_result"
    }
   ],
   "source": [
    "w_reg = 1 / 3\n",
    "coefficients = np.array([w_reg for x in range(3)])\n",
    "coefficients.shape"
   ],
   "metadata": {
    "collapsed": false,
    "pycharm": {
     "name": "#%%\n"
    }
   }
  },
  {
   "cell_type": "code",
   "execution_count": 46,
   "outputs": [],
   "source": [
    "result = {\n",
    "    'matrix': weights.tolist(),\n",
    "    'coefficients': coefficients.tolist()\n",
    "}"
   ],
   "metadata": {
    "collapsed": false,
    "pycharm": {
     "name": "#%%\n"
    }
   }
  },
  {
   "cell_type": "code",
   "execution_count": 47,
   "outputs": [],
   "source": [
    "import json\n",
    "with open(\"result.json\", \"w\") as f:\n",
    "    json.dump(result, f)"
   ],
   "metadata": {
    "collapsed": false,
    "pycharm": {
     "name": "#%%\n"
    }
   }
  }
 ]
}