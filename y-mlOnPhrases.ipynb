{
 "nbformat": 4,
 "nbformat_minor": 0,
 "metadata": {
  "colab": {
   "name": "ImP_21-22_ex11.ipynb",
   "provenance": [],
   "authorship_tag": "ABX9TyNDIr5w0A6UugzXtrPiiTVl"
  },
  "kernelspec": {
   "name": "python3",
   "display_name": "Python 3"
  },
  "language_info": {
   "name": "python"
  }
 },
 "cells": [
  {
   "cell_type": "markdown",
   "source": [
    "# Initial Preparation"
   ],
   "metadata": {
    "collapsed": false,
    "pycharm": {
     "name": "#%% md\n"
    }
   }
  },
  {
   "cell_type": "code",
   "execution_count": 3,
   "outputs": [],
   "source": [
    "# Python ≥3.5 is required\n",
    "import sys\n",
    "assert sys.version_info >= (3, 5)\n",
    "\n",
    "# Scikit-Learn ≥0.20 is required\n",
    "import sklearn\n",
    "assert sklearn.__version__ >= \"0.20\"\n",
    "\n",
    "# TensorFlow ≥2.4 is required in this notebook\n",
    "import tensorflow as tf\n",
    "from tensorflow import keras\n",
    "assert tf.__version__ >= \"2.4\"\n",
    "\n",
    "import numpy as np\n",
    "import pandas as pd\n",
    "import matplotlib as mpl\n",
    "import matplotlib.pyplot as plt\n",
    "import seaborn as sns\n",
    "\n",
    "%matplotlib inline\n",
    "sns.set()\n",
    "np.random.seed(42)\n",
    "tf.random.set_seed(42)\n",
    "\n",
    "# For changes\n",
    "USER = \"ageent\"\n",
    "REPO = \"y-mlOnPhrases\"\n",
    "X_FILE = \"X.npy\"\n",
    "Y1_FILE = \"Y1.npy\"\n",
    "Y2_FILE = \"Y2.npy\""
   ],
   "metadata": {
    "collapsed": false,
    "pycharm": {
     "name": "#%%\n"
    }
   }
  },
  {
   "cell_type": "code",
   "source": [
    "# to save data or images\n",
    "if \"google.colab\" in sys.modules:\n",
    "    from google.colab import drive\n",
    "    ROOT_GD = \"/content/drive\"\n",
    "    STORAGE_PATH = ROOT_GD + \"/My Drive/Colab Notebooks/\" + REPO + \"/\"\n",
    "    drive.mount(ROOT_GD)\n",
    "else:   # local host\n",
    "    STORAGE_PATH = \"data/\"\n",
    "\n",
    "def save_data(prefix, file_name, data_frame):\n",
    "    path = STORAGE_PATH + prefix + file_name\n",
    "    data_frame.to_csv(path)\n",
    "\n",
    "def save_pred(file_name, data_frame):\n",
    "    save_data(\"predictions/\", file_name, data_frame)\n",
    "def save_trans_data(file_name, data_frame):\n",
    "    save_data(\"transformed/\", file_name, data_frame)\n",
    "\n",
    "\"\"\"\n",
    "fig, ax = plt.subplots()\n",
    "ax.plot(data)\n",
    "save_fig(fig, \"fig_name\")\n",
    "\"\"\"\n",
    "def save_fig(fig, fig_id, tight_layout=True, fig_extension=\"png\", resolution=300):\n",
    "    path = STORAGE_PATH + \"img/\" + fig_id + \".\" + fig_extension\n",
    "    print(\"Saving figure\", fig_id)\n",
    "    if tight_layout:\n",
    "        fig.tight_layout()\n",
    "    fig.savefig(path, format=fig_extension, dpi=resolution)"
   ],
   "metadata": {
    "colab": {
     "base_uri": "https://localhost:8080/"
    },
    "id": "zIr8cYS4B10Q",
    "outputId": "b045f083-d0d7-421d-bc9c-1964fe2c3fef"
   },
   "execution_count": 4,
   "outputs": []
  },
  {
   "cell_type": "code",
   "execution_count": 5,
   "metadata": {
    "id": "n5zKpPBENYap",
    "pycharm": {
     "name": "#%%\n"
    }
   },
   "outputs": [],
   "source": [
    "# get the data\n",
    "def get_github_data(path_to_file):\n",
    "    \"\"\"TODO: maybe need to use requests.\"\"\"\n",
    "    url = \"https://raw.githubusercontent.com/{}/{}/{}\"\\\n",
    "                            .format(USER, REPO, path_to_file)\n",
    "    return np.load(url)\n",
    "\n",
    "def get_localhost_data(file_name):\n",
    "    path = \"data/src/\" + file_name\n",
    "    return np.load(path)\n",
    "\n",
    "if \"google.colab\" in sys.modules:\n",
    "    PATH_TO_SRC = \"main/data/src/\"\n",
    "    X_DATA = get_github_data(PATH_TO_SRC + X_FILE)\n",
    "    Y1_DATA = get_github_data(PATH_TO_SRC + Y1_FILE)\n",
    "    Y2_DATA = get_github_data(PATH_TO_SRC + Y2_FILE)\n",
    "else:   # local host\n",
    "    X_DATA = get_localhost_data(X_FILE)\n",
    "    Y1_DATA = get_localhost_data(Y1_FILE)\n",
    "    Y2_DATA = get_localhost_data(Y2_FILE)"
   ]
  },
  {
   "cell_type": "code",
   "execution_count": 6,
   "outputs": [
    {
     "name": "stdout",
     "output_type": "stream",
     "text": [
      "(800, 128)\n",
      "[-0.98200285  5.3519163   0.6241017  -3.7863977  -2.0433748  -1.6433135\n",
      "  5.0111694   0.11501709 -3.3202858   2.2631938   4.487829    3.1017983\n",
      "  3.4887044  -4.942223    6.474518    0.77631605  5.3201113  -5.003155\n",
      " -6.0889516   3.9606059   4.9673815   0.5534823   2.3377123  -3.4211032\n",
      "  5.278324    1.576092   -5.2838745   0.5925345  -1.2432728   1.5591371\n",
      " -1.0380139  -0.1521509   2.4624774   6.4752107  -4.399489   -2.6032155\n",
      "  3.5712152   0.44489035  1.3303515   0.42398357  2.2737198   7.777598\n",
      " -3.3040464  -2.2658207  -7.7937617  -0.6868003   7.5321355   0.5417963\n",
      "  2.423962    7.1077695  -0.6353128   3.4406264  -2.3372521   0.1237992\n",
      "  1.9296596   4.452048    2.1478891  -2.770266   -9.235324   10.521325\n",
      " -8.574103   -3.127737   -5.1270823   5.001681   -2.710712    0.44150203\n",
      " -0.15498942  0.24662127 -0.21252623 -1.7166231  -1.0460446  -5.4344797\n",
      "  2.56957    10.698443   -3.0771906   1.0651661  -0.32124305  5.725385\n",
      "  7.167192    5.156452    5.6941953   6.4998055   6.7241087   4.867395\n",
      "  4.8166933   5.9493546   6.5271215   5.819747    4.9900017   6.3283215\n",
      "  7.1935315   5.8655896   6.8128476   6.5611515   7.1959248   5.8582344\n",
      "  5.560118    6.7187347   5.353525    6.103025    0.99591273 -6.4906607\n",
      " -1.1090117  -4.1813335  -2.039458   -2.27983     4.6208878   3.837874\n",
      "  7.4326015  -2.311741   -1.0066502   2.979867    0.1064807   3.888947\n",
      "  0.89728075  2.5419183  -6.5907764  -0.49537855 -1.0346819   0.15862758\n",
      "  1.8829461   1.5021307   0.15528834  2.6389506  -1.3379864   5.460588\n",
      "  0.80857795 -5.7801805 ]\n"
     ]
    }
   ],
   "source": [
    "print(X_DATA.shape)\n",
    "print(X_DATA[0])"
   ],
   "metadata": {
    "collapsed": false,
    "pycharm": {
     "name": "#%%\n"
    }
   }
  },
  {
   "cell_type": "code",
   "execution_count": 7,
   "outputs": [
    {
     "name": "stdout",
     "output_type": "stream",
     "text": [
      "(800,)\n",
      "[1 2 2 0 1 0 2 2 1 0]\n"
     ]
    }
   ],
   "source": [
    "print(Y1_DATA.shape)\n",
    "print(Y1_DATA[0:10])"
   ],
   "metadata": {
    "collapsed": false,
    "pycharm": {
     "name": "#%%\n"
    }
   }
  },
  {
   "cell_type": "code",
   "execution_count": 8,
   "outputs": [
    {
     "name": "stdout",
     "output_type": "stream",
     "text": [
      "(800,)\n",
      "[ 6. 15. 34. 58. 27. 29. 50. 12.  7. 17.]\n"
     ]
    }
   ],
   "source": [
    "print(Y2_DATA.shape)\n",
    "print(Y2_DATA[0:10])"
   ],
   "metadata": {
    "collapsed": false,
    "pycharm": {
     "name": "#%%\n"
    }
   }
  },
  {
   "cell_type": "markdown",
   "source": [
    "# Feature engineering\n",
    "### Transforming"
   ],
   "metadata": {
    "collapsed": false,
    "pycharm": {
     "name": "#%% md\n"
    }
   },
   "execution_count": 6
  },
  {
   "cell_type": "code",
   "execution_count": 9,
   "outputs": [],
   "source": [
    "x = X_DATA.copy()\n",
    "y2 = Y2_DATA.copy()"
   ],
   "metadata": {
    "collapsed": false,
    "pycharm": {
     "name": "#%%\n"
    }
   }
  },
  {
   "cell_type": "code",
   "execution_count": 10,
   "outputs": [],
   "source": [
    "from sklearn.preprocessing import OneHotEncoder\n",
    "\n",
    "transformer_y1 = OneHotEncoder()"
   ],
   "metadata": {
    "collapsed": false,
    "pycharm": {
     "name": "#%%\n"
    }
   }
  },
  {
   "cell_type": "code",
   "execution_count": 11,
   "outputs": [
    {
     "data": {
      "text/plain": "array([[0., 1., 0.],\n       [0., 0., 1.],\n       [0., 0., 1.],\n       ...,\n       [1., 0., 0.],\n       [0., 1., 0.],\n       [1., 0., 0.]])"
     },
     "execution_count": 11,
     "metadata": {},
     "output_type": "execute_result"
    }
   ],
   "source": [
    "y1 = transformer_y1.fit_transform(Y1_DATA[:, np.newaxis]).toarray()\n",
    "y1"
   ],
   "metadata": {
    "collapsed": false,
    "pycharm": {
     "name": "#%%\n"
    }
   }
  },
  {
   "cell_type": "markdown",
   "source": [
    "### Shuffle"
   ],
   "metadata": {
    "collapsed": false
   }
  },
  {
   "cell_type": "code",
   "execution_count": 221,
   "outputs": [
    {
     "data": {
      "text/plain": "(800, 132)"
     },
     "execution_count": 221,
     "metadata": {},
     "output_type": "execute_result"
    }
   ],
   "source": [
    "t_ = np.hstack([x, y1, y2[:, np.newaxis]])\n",
    "t_.shape"
   ],
   "metadata": {
    "collapsed": false,
    "pycharm": {
     "name": "#%%\n"
    }
   }
  },
  {
   "cell_type": "code",
   "execution_count": 222,
   "outputs": [],
   "source": [
    "np.random.shuffle(t_)\n",
    "x = t_[:, :128].copy()\n",
    "y1 = t_[:, 128:131].copy()\n",
    "y2 = t_[:, 131].copy()\n",
    "y = tf.concat([y1, y2[:, tf.newaxis]], axis=1)\n",
    "%reset_selective -f t_"
   ],
   "metadata": {
    "collapsed": false,
    "pycharm": {
     "name": "#%%\n"
    }
   }
  },
  {
   "cell_type": "markdown",
   "source": [
    "# Model selection\n",
    "### Model 1\n",
    "#### Loss and metrics"
   ],
   "metadata": {
    "collapsed": false,
    "pycharm": {
     "name": "#%% md\n"
    }
   }
  },
  {
   "cell_type": "code",
   "execution_count": 194,
   "outputs": [],
   "source": [
    "def classifier_metric(y_true, y_pred):\n",
    "    return keras.metrics.categorical_accuracy(y_true[:, :3], y_pred)\n",
    "\n",
    "def regressor_metric(y_true, y_pred):\n",
    "    y_true_reg = tf.cast(y_true[:, 3], tf.float32)\n",
    "    y_pred = tf.cast(y_pred, tf.float64)\n",
    "    w_reg = 1 / 3\n",
    "    y_pred_w = tf.cast(y_pred * w_reg, tf.float32)\n",
    "    y_pred_reg = tf.reduce_sum(y_pred_w, axis=1)\n",
    "    return tf.metrics.mean_squared_error(y_true_reg, y_pred_reg)"
   ],
   "metadata": {
    "collapsed": false,
    "pycharm": {
     "name": "#%%\n"
    }
   }
  },
  {
   "cell_type": "code",
   "execution_count": 195,
   "outputs": [
    {
     "name": "stdout",
     "output_type": "stream",
     "text": [
      "tf.Tensor([1. 1. 0. 1.], shape=(4,), dtype=float32)\n",
      "tf.Tensor(528.75, shape=(), dtype=float32)\n"
     ]
    }
   ],
   "source": [
    "# test for metrics\n",
    "y_true_ = tf.constant([[1, 0, 0, 60],\n",
    "                       [0 ,1, 0, 50],\n",
    "                       [0, 0, 1, 20],\n",
    "                       [0, 1, 0, 4]])\n",
    "y_pred_ = tf.constant([[99, 0, 0],\n",
    "                       [0, 99, 0],\n",
    "                       [0, 99, 9],\n",
    "                       [0, 99, 0]])\n",
    "print(classifier_metric(y_true_, y_pred_))\n",
    "print(regressor_metric(y_true_, y_pred_))"
   ],
   "metadata": {
    "collapsed": false,
    "pycharm": {
     "name": "#%%\n"
    }
   }
  },
  {
   "cell_type": "code",
   "execution_count": 225,
   "outputs": [],
   "source": [
    "def loss1(y_true, y_pred):\n",
    "    y_true_cl_ = tf.cast(y_true[:, :3], tf.float32)\n",
    "    y_true_reg_ = tf.cast(y_true[:, 3], tf.float32)\n",
    "    y_pred_ = tf.cast(y_pred, tf.float32)\n",
    "\n",
    "    # classification\n",
    "    y_pred_max = tf.reduce_max(y_pred_, axis=1)[:, tf.newaxis]\n",
    "    y_pred_norm = y_pred_ / y_pred_max\n",
    "    ss_cl = tf.square(y_true_cl_ - y_pred_norm) * 1000.\n",
    "\n",
    "    # regression\n",
    "    w_reg = 1 / 3\n",
    "    y_pred_w = tf.cast(y_pred_ * w_reg, tf.float32)\n",
    "    y_pred_reg = tf.reduce_sum(y_pred_w, axis=1)\n",
    "    ss_reg = tf.square(y_true_reg_ - y_pred_reg)\n",
    "\n",
    "    summands = tf.concat([ss_cl, ss_reg[:, tf.newaxis]], 1)\n",
    "    return tf.reduce_sum(summands)"
   ],
   "metadata": {
    "collapsed": false,
    "pycharm": {
     "name": "#%%\n"
    }
   }
  },
  {
   "cell_type": "code",
   "execution_count": 203,
   "outputs": [
    {
     "data": {
      "text/plain": "<tf.Tensor: shape=(), dtype=float32, numpy=2432.7476>"
     },
     "execution_count": 203,
     "metadata": {},
     "output_type": "execute_result"
    }
   ],
   "source": [
    "# test for loss1\n",
    "y_true_ = tf.constant([[1, 0, 0, 60],\n",
    "                       [0 ,1, 0, 50],\n",
    "                       [2, 0, 1, 20],\n",
    "                       [0, 1, 0, 4]])\n",
    "y_pred_ = tf.constant([[99, 0, 0],\n",
    "                       [0, 99, 0],\n",
    "                       [1, 0, 99],\n",
    "                       [0, 99, 0]])\n",
    "loss1(y_true_, y_pred_)"
   ],
   "metadata": {
    "collapsed": false,
    "pycharm": {
     "name": "#%%\n"
    }
   }
  },
  {
   "cell_type": "markdown",
   "source": [
    "#### Create model"
   ],
   "metadata": {
    "collapsed": false,
    "pycharm": {
     "name": "#%% md\n"
    }
   }
  },
  {
   "cell_type": "code",
   "execution_count": 228,
   "outputs": [],
   "source": [
    "model1 = keras.models.Sequential()\n",
    "model1.add(keras.layers.Dense(3, activation=\"linear\", use_bias=False, input_shape=[128]))\n",
    "model1.compile(loss=loss1,\n",
    "               optimizer=tf.keras.optimizers.Adam(learning_rate=1e-1),\n",
    "               metrics=[classifier_metric, regressor_metric])"
   ],
   "metadata": {
    "collapsed": false,
    "pycharm": {
     "name": "#%%\n"
    }
   }
  },
  {
   "cell_type": "code",
   "execution_count": 229,
   "outputs": [
    {
     "name": "stdout",
     "output_type": "stream",
     "text": [
      "Epoch 1/30\n",
      "20/20 [==============================] - 2s 20ms/step - loss: 89494.6719 - classifier_metric: 0.3203 - regressor_metric: 1014.4399 - val_loss: 69334.3906 - val_classifier_metric: 0.3375 - val_regressor_metric: 244.0865\n",
      "Epoch 2/30\n",
      "20/20 [==============================] - 0s 5ms/step - loss: 72145.1250 - classifier_metric: 0.3172 - regressor_metric: 365.8350 - val_loss: 69273.3281 - val_classifier_metric: 0.3375 - val_regressor_metric: 335.1977\n",
      "Epoch 3/30\n",
      "20/20 [==============================] - 0s 4ms/step - loss: 68903.8281 - classifier_metric: 0.3172 - regressor_metric: 322.8225 - val_loss: 62373.8672 - val_classifier_metric: 0.3375 - val_regressor_metric: 173.3409\n",
      "Epoch 4/30\n",
      "20/20 [==============================] - 0s 4ms/step - loss: 57829.4297 - classifier_metric: 0.3187 - regressor_metric: 181.3404 - val_loss: 48119.0000 - val_classifier_metric: 0.3812 - val_regressor_metric: 140.7087\n",
      "Epoch 5/30\n",
      "20/20 [==============================] - 0s 4ms/step - loss: 35196.7305 - classifier_metric: 0.5469 - regressor_metric: 108.9824 - val_loss: 29226.3496 - val_classifier_metric: 0.6500 - val_regressor_metric: 77.8974\n",
      "Epoch 6/30\n",
      "20/20 [==============================] - 0s 4ms/step - loss: 25266.3867 - classifier_metric: 0.7156 - regressor_metric: 64.7983 - val_loss: 21786.4414 - val_classifier_metric: 0.7563 - val_regressor_metric: 46.0123\n",
      "Epoch 7/30\n",
      "20/20 [==============================] - 0s 4ms/step - loss: 20750.3008 - classifier_metric: 0.8094 - regressor_metric: 57.7233 - val_loss: 20237.2090 - val_classifier_metric: 0.7688 - val_regressor_metric: 39.2271\n",
      "Epoch 8/30\n",
      "20/20 [==============================] - 0s 8ms/step - loss: 17829.8867 - classifier_metric: 0.8359 - regressor_metric: 51.0429 - val_loss: 17875.3711 - val_classifier_metric: 0.8562 - val_regressor_metric: 45.2426\n",
      "Epoch 9/30\n",
      "20/20 [==============================] - 0s 4ms/step - loss: 15572.1279 - classifier_metric: 0.8641 - regressor_metric: 35.8518 - val_loss: 16402.4531 - val_classifier_metric: 0.8875 - val_regressor_metric: 24.6727\n",
      "Epoch 10/30\n",
      "20/20 [==============================] - 0s 4ms/step - loss: 14119.6895 - classifier_metric: 0.8938 - regressor_metric: 26.4900 - val_loss: 16176.0918 - val_classifier_metric: 0.8188 - val_regressor_metric: 29.2528\n",
      "Epoch 11/30\n",
      "20/20 [==============================] - 0s 4ms/step - loss: 14546.3799 - classifier_metric: 0.8656 - regressor_metric: 29.7841 - val_loss: 15900.8379 - val_classifier_metric: 0.8125 - val_regressor_metric: 17.8391\n",
      "Epoch 12/30\n",
      "20/20 [==============================] - 0s 4ms/step - loss: 13780.7012 - classifier_metric: 0.9016 - regressor_metric: 26.1853 - val_loss: 15317.3984 - val_classifier_metric: 0.8938 - val_regressor_metric: 17.2307\n",
      "Epoch 13/30\n",
      "20/20 [==============================] - 0s 4ms/step - loss: 12019.4492 - classifier_metric: 0.9125 - regressor_metric: 21.1004 - val_loss: 15334.0254 - val_classifier_metric: 0.8562 - val_regressor_metric: 22.4029\n",
      "Epoch 14/30\n",
      "20/20 [==============================] - 0s 4ms/step - loss: 12454.9766 - classifier_metric: 0.9172 - regressor_metric: 18.8067 - val_loss: 14336.9004 - val_classifier_metric: 0.8687 - val_regressor_metric: 24.6257\n",
      "Epoch 15/30\n",
      "20/20 [==============================] - 0s 4ms/step - loss: 11783.4531 - classifier_metric: 0.9172 - regressor_metric: 19.0041 - val_loss: 14710.1934 - val_classifier_metric: 0.9000 - val_regressor_metric: 25.2880\n",
      "Epoch 16/30\n",
      "20/20 [==============================] - 0s 4ms/step - loss: 11473.9326 - classifier_metric: 0.9125 - regressor_metric: 15.9449 - val_loss: 13533.7051 - val_classifier_metric: 0.9062 - val_regressor_metric: 15.4436\n",
      "Epoch 17/30\n",
      "20/20 [==============================] - 0s 7ms/step - loss: 10665.1387 - classifier_metric: 0.9094 - regressor_metric: 15.6749 - val_loss: 13239.2715 - val_classifier_metric: 0.9062 - val_regressor_metric: 16.9335\n",
      "Epoch 18/30\n",
      "20/20 [==============================] - 0s 5ms/step - loss: 10262.9688 - classifier_metric: 0.9234 - regressor_metric: 16.5219 - val_loss: 13176.4092 - val_classifier_metric: 0.8875 - val_regressor_metric: 12.7945\n",
      "Epoch 19/30\n",
      "20/20 [==============================] - 0s 4ms/step - loss: 10485.3730 - classifier_metric: 0.9328 - regressor_metric: 16.7321 - val_loss: 13232.8154 - val_classifier_metric: 0.8875 - val_regressor_metric: 14.5941\n",
      "Epoch 20/30\n",
      "20/20 [==============================] - 0s 5ms/step - loss: 10283.1709 - classifier_metric: 0.9375 - regressor_metric: 21.7257 - val_loss: 12695.1699 - val_classifier_metric: 0.9062 - val_regressor_metric: 13.4973\n",
      "Epoch 21/30\n",
      "20/20 [==============================] - 0s 4ms/step - loss: 9772.5557 - classifier_metric: 0.9453 - regressor_metric: 13.6797 - val_loss: 12608.1104 - val_classifier_metric: 0.9125 - val_regressor_metric: 12.6276\n",
      "Epoch 22/30\n",
      "20/20 [==============================] - 0s 5ms/step - loss: 9946.4795 - classifier_metric: 0.9422 - regressor_metric: 21.9805 - val_loss: 13141.7861 - val_classifier_metric: 0.8938 - val_regressor_metric: 17.6210\n",
      "Epoch 23/30\n",
      "20/20 [==============================] - 0s 5ms/step - loss: 9965.2139 - classifier_metric: 0.9438 - regressor_metric: 17.7671 - val_loss: 12490.7002 - val_classifier_metric: 0.9062 - val_regressor_metric: 10.2553\n",
      "Epoch 24/30\n",
      "20/20 [==============================] - 0s 5ms/step - loss: 9370.4912 - classifier_metric: 0.9516 - regressor_metric: 13.2106 - val_loss: 13525.9707 - val_classifier_metric: 0.8875 - val_regressor_metric: 11.4384\n",
      "Epoch 25/30\n",
      "20/20 [==============================] - 0s 5ms/step - loss: 9127.4873 - classifier_metric: 0.9516 - regressor_metric: 12.0488 - val_loss: 12516.4561 - val_classifier_metric: 0.8875 - val_regressor_metric: 9.2898\n",
      "Epoch 26/30\n",
      "20/20 [==============================] - 0s 5ms/step - loss: 9471.3418 - classifier_metric: 0.9563 - regressor_metric: 13.6811 - val_loss: 13060.0488 - val_classifier_metric: 0.9000 - val_regressor_metric: 17.7926\n",
      "Epoch 27/30\n",
      "20/20 [==============================] - 0s 5ms/step - loss: 9365.4658 - classifier_metric: 0.9453 - regressor_metric: 12.7942 - val_loss: 12475.3125 - val_classifier_metric: 0.9062 - val_regressor_metric: 11.1253\n",
      "Epoch 28/30\n",
      "20/20 [==============================] - 0s 6ms/step - loss: 8966.8438 - classifier_metric: 0.9516 - regressor_metric: 12.5093 - val_loss: 12909.6201 - val_classifier_metric: 0.8875 - val_regressor_metric: 12.6387\n",
      "Epoch 29/30\n",
      "20/20 [==============================] - 0s 6ms/step - loss: 8929.3770 - classifier_metric: 0.9531 - regressor_metric: 10.0821 - val_loss: 13692.5312 - val_classifier_metric: 0.8625 - val_regressor_metric: 9.1537\n",
      "Epoch 30/30\n",
      "20/20 [==============================] - 0s 5ms/step - loss: 9812.0928 - classifier_metric: 0.9438 - regressor_metric: 17.9493 - val_loss: 14181.8594 - val_classifier_metric: 0.8938 - val_regressor_metric: 70.7475\n"
     ]
    }
   ],
   "source": [
    "history = model1.fit(x, y, epochs=30, validation_split=0.2)"
   ],
   "metadata": {
    "collapsed": false,
    "pycharm": {
     "name": "#%%\n"
    }
   }
  }
 ]
}